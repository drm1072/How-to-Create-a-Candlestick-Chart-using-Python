{
  "nbformat": 4,
  "nbformat_minor": 0,
  "metadata": {
    "colab": {
      "name": "Python Games-DRM.ipynb",
      "provenance": [],
      "include_colab_link": true
    },
    "kernelspec": {
      "name": "python3",
      "display_name": "Python 3"
    },
    "language_info": {
      "name": "python"
    }
  },
  "cells": [
    {
      "cell_type": "markdown",
      "metadata": {
        "id": "view-in-github",
        "colab_type": "text"
      },
      "source": [
        "<a href=\"https://colab.research.google.com/github/drm1072/Workload-DRM/blob/main/Python_Games_DRM.ipynb\" target=\"_parent\"><img src=\"https://colab.research.google.com/assets/colab-badge.svg\" alt=\"Open In Colab\"/></a>"
      ]
    },
    {
      "cell_type": "code",
      "metadata": {
        "id": "3iRIZ14ikGe7"
      },
      "source": [
        "!pip install pygame"
      ],
      "execution_count": null,
      "outputs": []
    },
    {
      "cell_type": "code",
      "metadata": {
        "id": "tmdREtkykmnh"
      },
      "source": [
        "print('Welcome to the DRM Gamble Guessing Game')\n",
        "print('You have 6 attemps at guessing letters in a word')\n",
        "print('After the 6 tries, Its over!')"
      ],
      "execution_count": null,
      "outputs": []
    },
    {
      "cell_type": "code",
      "metadata": {
        "colab": {
          "base_uri": "https://localhost:8080/"
        },
        "id": "fssbwNDElKAM",
        "outputId": "c3bc125e-b3c3-4412-b2e8-d76c9f5a32b0"
      },
      "source": [
        "#This is a library algorithm for our guessing game\n",
        "import random\n",
        "\n",
        "def get_guess():\n",
        "  \n",
        "  # Set the dashes to the length of the hidden word and set the guesses \n",
        "  # We will set 5\n",
        "  dashes = \"-\" * len(secret_word) #2 spaces\n",
        "  guesses_left = 5 #2 spaces\n",
        "    \n",
        "  # This will loop as long as BOTH conditions are true:\n",
        "  # 1. The number of guesses of left is greater than -1\n",
        "  # 2. The dash string does NOT equal the secret word\n",
        "  while guesses_left > -1 and not dashes == secret_word: #2 spaces\n",
        "    \n",
        "    # Print the amount of dashes and guesses left\n",
        "    print(dashes) #4 spaces\n",
        "    print (str(guesses_left)) #4 spaces\n",
        "            \n",
        "    # Ask the user for input\n",
        "    guess = input(\"Guess:\") #4 spaces\n",
        "    \n",
        "    # Conditions that will print out a message according to wrong guesses\n",
        "    if len(guess) != 1: #4 spaces\n",
        "      print (\"Your guess must have exactly one character!\") #6 spaces\n",
        "            \n",
        "    # Create an elif function to setup our guidelines for the game\n",
        "    elif guess in secret_word: #4 spaces\n",
        "      print (\"That letter is in the secret word!\") #6 spaces\n",
        "      dashes = update_dashes(secret_word, dashes, guess) #6 spaces\n",
        "      \n",
        "    # If the guess is wrong then we display a message and subtract\n",
        "    # the amount of guesses the user has by 1\n",
        "    else: #4 spaces\n",
        "      print (\"That letter is not in the secret word!\") #6 spaces\n",
        "      guesses_left -= 1 #6 spaces\n",
        "    \n",
        "  if guesses_left < 0: #2 spaces\n",
        "    print (\"You lose. The word was: \" + str(secret_word)) #4 spaces\n",
        "  \n",
        "  # If the dash string equals the secret word in the end then the\n",
        "  # user wins\n",
        "  else: #2 spaces\n",
        "    print (\"Congrats! You win. The word was: \" + str(secret_word)) #4 spaces\n",
        "    \n",
        "# This function updates the string of dashes by replacing the dashes\n",
        "# with words that match up with the hidden word if the player is correct\n",
        "\n",
        "def update_dashes(secret, cur_dash, rec_guess):\n",
        "  result = \"\" #2 spaces\n",
        "  \n",
        "  for i in range(len(secret)): #2 spaces\n",
        "    if secret[i] == rec_guess:  #4 spaces\n",
        "      result = result + rec_guess  #6 spaces     # Adds guess to string if guess is correctly\n",
        "      \n",
        "    else: #4 spaces\n",
        "      # Add the dash at index i to result if it doesn't match the guess\n",
        "      result = result + cur_dash[i] #6 spaces\n",
        "      \n",
        "  return result #2 spaces\n",
        "    \n",
        "words = [\"Prize\", \"Creation\", \"Fantastic\"]\n",
        "\n",
        "secret_word = random.choice(words)\n",
        "get_guess()"
      ],
      "execution_count": null,
      "outputs": [
        {
          "output_type": "stream",
          "text": [
            "--------\n",
            "5\n",
            "Guess:P\n",
            "That letter is not in the secret word!\n",
            "--------\n",
            "4\n",
            "Guess:C\n",
            "That letter is in the secret word!\n",
            "C-------\n",
            "4\n"
          ],
          "name": "stdout"
        }
      ]
    }
  ]
}