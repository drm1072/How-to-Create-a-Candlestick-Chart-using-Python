{
  "nbformat": 4,
  "nbformat_minor": 0,
  "metadata": {
    "colab": {
      "name": "Working with Variables-Spaces, New lines.ipynb",
      "provenance": [],
      "authorship_tag": "ABX9TyPL7z3PcA7Zwr6hEAPxCrob",
      "include_colab_link": true
    },
    "kernelspec": {
      "name": "python3",
      "display_name": "Python 3"
    },
    "language_info": {
      "name": "python"
    }
  },
  "cells": [
    {
      "cell_type": "markdown",
      "metadata": {
        "id": "view-in-github",
        "colab_type": "text"
      },
      "source": [
        "<a href=\"https://colab.research.google.com/github/drm1072/How-to-Create-a-Candlestick-Chart-using-Python/blob/main/Working_with_Variables_Spaces%2C_New_lines.ipynb\" target=\"_parent\"><img src=\"https://colab.research.google.com/assets/colab-badge.svg\" alt=\"Open In Colab\"/></a>"
      ]
    },
    {
      "cell_type": "markdown",
      "metadata": {
        "id": "tGxZ-r_8v_Nj"
      },
      "source": [
        "**Interger**= Number\n",
        "\n",
        "**Float**= Numbers with Decimals\n",
        "\n",
        "**String**= Sequence of Characters (Words, letters, numbers, intergers, floats, and etc.)\n",
        "\n",
        "**Object**= All Characters (Strings and Objects have become synonymous)\n",
        "\n",
        "**List**= A sequence of objects/strings...Example: me= ('Dadrian', 39, 'TX') (Lists are Tuples by default unlesss you add Brackets)\n",
        "\n",
        "**Brackets**= Make it a List[Means you can change values within variable aka mutable]\n",
        "\n",
        "**Tuple**= Parenthesis(Means you cannot change values within the variable unless you recreate the variable aka immutable)\n",
        "\n",
        "\n"
      ]
    },
    {
      "cell_type": "markdown",
      "metadata": {
        "id": "Hen-gsyX2gvD"
      },
      "source": [
        "**Mean**= Average of values\n",
        "\n",
        "**STD**= Standard Deviation\n",
        "\n",
        "**Features**= Column Names\n",
        "\n",
        "**Pandas**= Pyhton Library to easy indexing\n",
        "\n",
        "**Mode**= Values that appears most often\n",
        "\n",
        "**Median**= Middle Value of Data\n",
        "\n",
        "**Scipy**= Solves high level math equations\n",
        "\n",
        "**Sets**= Unordered Collections\n",
        "\n",
        "**Min**= Minimum Column\n",
        "\n",
        "**Max**= Maximum Column Values\n",
        "\n",
        "**One Hot Encoding**= Converts text and strings to numbers for Machine Learning\n",
        "\n",
        "**Attributes**= Data within Rows of the Features\n",
        "\n",
        "**Numpy**= helps Python perform fast mathematical operations\n"
      ]
    },
    {
      "cell_type": "code",
      "metadata": {
        "id": "y0j5a1Zb3uGx"
      },
      "source": [
        "import math"
      ],
      "execution_count": 1,
      "outputs": []
    },
    {
      "cell_type": "code",
      "metadata": {
        "colab": {
          "base_uri": "https://localhost:8080/"
        },
        "id": "S-HM8WDe49Sq",
        "outputId": "a4d6c138-1c25-43a4-e7c0-6c899509c691"
      },
      "source": [
        "#Square Root\n",
        "math.sqrt(24)"
      ],
      "execution_count": 2,
      "outputs": [
        {
          "output_type": "execute_result",
          "data": {
            "text/plain": [
              "4.898979485566356"
            ]
          },
          "metadata": {
            "tags": []
          },
          "execution_count": 2
        }
      ]
    },
    {
      "cell_type": "code",
      "metadata": {
        "colab": {
          "base_uri": "https://localhost:8080/"
        },
        "id": "aAeAUkRO5Ifp",
        "outputId": "bee5425a-c372-4ca2-8eae-6de54d9380c3"
      },
      "source": [
        "#makes number a float\n",
        "math.fabs(77)"
      ],
      "execution_count": 3,
      "outputs": [
        {
          "output_type": "execute_result",
          "data": {
            "text/plain": [
              "77.0"
            ]
          },
          "metadata": {
            "tags": []
          },
          "execution_count": 3
        }
      ]
    },
    {
      "cell_type": "code",
      "metadata": {
        "colab": {
          "base_uri": "https://localhost:8080/"
        },
        "id": "sux12aS75Ugx",
        "outputId": "693ecb67-71a1-4d04-acfa-8641f9ca9807"
      },
      "source": [
        "#for exponents\n",
        "math.pow(6,3)"
      ],
      "execution_count": 4,
      "outputs": [
        {
          "output_type": "execute_result",
          "data": {
            "text/plain": [
              "216.0"
            ]
          },
          "metadata": {
            "tags": []
          },
          "execution_count": 4
        }
      ]
    },
    {
      "cell_type": "code",
      "metadata": {
        "colab": {
          "base_uri": "https://localhost:8080/"
        },
        "id": "eEZaN5ys59mj",
        "outputId": "23d77768-9a56-47cc-b45e-8666bc64b6e2"
      },
      "source": [
        "#This rounds the number to highest number\n",
        "math.ceil(871.3)"
      ],
      "execution_count": 5,
      "outputs": [
        {
          "output_type": "execute_result",
          "data": {
            "text/plain": [
              "872"
            ]
          },
          "metadata": {
            "tags": []
          },
          "execution_count": 5
        }
      ]
    },
    {
      "cell_type": "code",
      "metadata": {
        "colab": {
          "base_uri": "https://localhost:8080/"
        },
        "id": "MfFeluGK6H5n",
        "outputId": "34111b36-b3b0-44b9-94c6-f34b6e3e76f4"
      },
      "source": [
        "#moves number to lowest value\n",
        "math.floor(851.4)"
      ],
      "execution_count": 6,
      "outputs": [
        {
          "output_type": "execute_result",
          "data": {
            "text/plain": [
              "851"
            ]
          },
          "metadata": {
            "tags": []
          },
          "execution_count": 6
        }
      ]
    },
    {
      "cell_type": "code",
      "metadata": {
        "colab": {
          "base_uri": "https://localhost:8080/"
        },
        "id": "qppbeS0A6T44",
        "outputId": "6a12a9fe-fe8c-4109-8439-01dcb0526eb8"
      },
      "source": [
        "#simple math examples\n",
        "print (30/5)\n",
        "print (12+8)\n",
        "print (7-4)\n",
        "print (8*200)\n",
        "print (.25+ .75)"
      ],
      "execution_count": 7,
      "outputs": [
        {
          "output_type": "stream",
          "text": [
            "6.0\n",
            "20\n",
            "3\n",
            "1600\n",
            "1.0\n"
          ],
          "name": "stdout"
        }
      ]
    },
    {
      "cell_type": "code",
      "metadata": {
        "colab": {
          "base_uri": "https://localhost:8080/"
        },
        "id": "uY78D9q66zp5",
        "outputId": "7824de17-0c90-4630-df6a-fb0d917cccad"
      },
      "source": [
        "#More math and numbers\n",
        "A = 16\n",
        "B = 47\n",
        "\n",
        "print('Sum:', A+B)\n",
        "print('Difference:', A-B)\n",
        "print('Product:', A*B)\n",
        "print('Quotient:', A/B)"
      ],
      "execution_count": 8,
      "outputs": [
        {
          "output_type": "stream",
          "text": [
            "Sum: 63\n",
            "Difference: -31\n",
            "Product: 752\n",
            "Quotient: 0.3404255319148936\n"
          ],
          "name": "stdout"
        }
      ]
    },
    {
      "cell_type": "code",
      "metadata": {
        "colab": {
          "base_uri": "https://localhost:8080/"
        },
        "id": "z6MtwNVp7hao",
        "outputId": "02b0585a-6874-4801-c025-975a1f1fa790"
      },
      "source": [
        "#Exponent Function\n",
        "print('A to the power of B:', A**B)"
      ],
      "execution_count": 9,
      "outputs": [
        {
          "output_type": "stream",
          "text": [
            "A to the power of B: 392318858461667547739736838950479151006397215279002157056\n"
          ],
          "name": "stdout"
        }
      ]
    },
    {
      "cell_type": "code",
      "metadata": {
        "colab": {
          "base_uri": "https://localhost:8080/"
        },
        "id": "0mDDDCcI70fA",
        "outputId": "17df5b35-7b70-417b-8cf7-94fa10fd2f4e"
      },
      "source": [
        "print('Remainder of A divided by B:', A%B)"
      ],
      "execution_count": 10,
      "outputs": [
        {
          "output_type": "stream",
          "text": [
            "Remainder of A divided by B: 16\n"
          ],
          "name": "stdout"
        }
      ]
    },
    {
      "cell_type": "code",
      "metadata": {
        "colab": {
          "base_uri": "https://localhost:8080/"
        },
        "id": "YmA1gVZG8VNi",
        "outputId": "fa408e0a-f72c-4c8e-948f-80c77f8db86d"
      },
      "source": [
        "A/B"
      ],
      "execution_count": 11,
      "outputs": [
        {
          "output_type": "execute_result",
          "data": {
            "text/plain": [
              "0.3404255319148936"
            ]
          },
          "metadata": {
            "tags": []
          },
          "execution_count": 11
        }
      ]
    },
    {
      "cell_type": "code",
      "metadata": {
        "colab": {
          "base_uri": "https://localhost:8080/"
        },
        "id": "KTiLLBNI8aFg",
        "outputId": "0c4c986b-cccf-427f-e443-91ec3a23649b"
      },
      "source": [
        "#Regular division\n",
        "#Floor division\n",
        "division = 60/6.5\n",
        "FloorDivision = 60// 6.5\n",
        "\n",
        "print(division)\n",
        "print(FloorDivision)"
      ],
      "execution_count": 12,
      "outputs": [
        {
          "output_type": "stream",
          "text": [
            "9.23076923076923\n",
            "9.0\n"
          ],
          "name": "stdout"
        }
      ]
    },
    {
      "cell_type": "code",
      "metadata": {
        "id": "1BW2CKGL810o"
      },
      "source": [
        "FloorDivision=77/6"
      ],
      "execution_count": 13,
      "outputs": []
    },
    {
      "cell_type": "code",
      "metadata": {
        "colab": {
          "base_uri": "https://localhost:8080/"
        },
        "id": "ty33O71r8_if",
        "outputId": "42470a10-7a70-439e-b0fc-98a390b7fe4b"
      },
      "source": [
        "FloorDivision"
      ],
      "execution_count": 14,
      "outputs": [
        {
          "output_type": "execute_result",
          "data": {
            "text/plain": [
              "12.833333333333334"
            ]
          },
          "metadata": {
            "tags": []
          },
          "execution_count": 14
        }
      ]
    },
    {
      "cell_type": "code",
      "metadata": {
        "id": "sYuZYFY39LhY"
      },
      "source": [
        "FloorDivision=77//6"
      ],
      "execution_count": 15,
      "outputs": []
    },
    {
      "cell_type": "code",
      "metadata": {
        "colab": {
          "base_uri": "https://localhost:8080/"
        },
        "id": "jY6LLlbq9bKI",
        "outputId": "998d42f1-a283-4848-a4ea-797a782b8e4d"
      },
      "source": [
        "#The point is Floor division always rounds down to the Whole number\n",
        "FloorDivision"
      ],
      "execution_count": 16,
      "outputs": [
        {
          "output_type": "execute_result",
          "data": {
            "text/plain": [
              "12"
            ]
          },
          "metadata": {
            "tags": []
          },
          "execution_count": 16
        }
      ]
    },
    {
      "cell_type": "code",
      "metadata": {
        "id": "mvJfszpB9s93"
      },
      "source": [
        "Math= 15"
      ],
      "execution_count": 17,
      "outputs": []
    },
    {
      "cell_type": "code",
      "metadata": {
        "colab": {
          "base_uri": "https://localhost:8080/"
        },
        "id": "g8oPvbLM9wfY",
        "outputId": "a4bb71ec-59aa-48a3-ed39-9c3e99a040b5"
      },
      "source": [
        "Math+ 78,77,65,54,22,44,954,7,2"
      ],
      "execution_count": 18,
      "outputs": [
        {
          "output_type": "execute_result",
          "data": {
            "text/plain": [
              "(93, 77, 65, 54, 22, 44, 954, 7, 2)"
            ]
          },
          "metadata": {
            "tags": []
          },
          "execution_count": 18
        }
      ]
    },
    {
      "cell_type": "code",
      "metadata": {
        "id": "yUeHrJAk-i8Q"
      },
      "source": [
        "Math=77"
      ],
      "execution_count": 19,
      "outputs": []
    },
    {
      "cell_type": "code",
      "metadata": {
        "colab": {
          "base_uri": "https://localhost:8080/"
        },
        "id": "S0rYugX2-lg0",
        "outputId": "1047da0b-1f0d-495b-e60c-8dd40d2f063f"
      },
      "source": [
        "math"
      ],
      "execution_count": 20,
      "outputs": [
        {
          "output_type": "execute_result",
          "data": {
            "text/plain": [
              "<module 'math' (built-in)>"
            ]
          },
          "metadata": {
            "tags": []
          },
          "execution_count": 20
        }
      ]
    },
    {
      "cell_type": "code",
      "metadata": {
        "id": "FhKGbb6A-n0S"
      },
      "source": [
        "#This is considered a mathematical or Compound Operator\n",
        "#Compound Operator basically means it is the process to assign\n",
        "Math+=15"
      ],
      "execution_count": 21,
      "outputs": []
    },
    {
      "cell_type": "code",
      "metadata": {
        "colab": {
          "base_uri": "https://localhost:8080/"
        },
        "id": "PJmKhwup_K_M",
        "outputId": "367fc38a-6150-4735-8b17-93ed6117e670"
      },
      "source": [
        "Math"
      ],
      "execution_count": 22,
      "outputs": [
        {
          "output_type": "execute_result",
          "data": {
            "text/plain": [
              "92"
            ]
          },
          "metadata": {
            "tags": []
          },
          "execution_count": 22
        }
      ]
    },
    {
      "cell_type": "code",
      "metadata": {
        "id": "3YIhrYxT_QUw"
      },
      "source": [
        "Math*=2"
      ],
      "execution_count": 23,
      "outputs": []
    },
    {
      "cell_type": "code",
      "metadata": {
        "colab": {
          "base_uri": "https://localhost:8080/"
        },
        "id": "lYQq0Qif_Vlf",
        "outputId": "c8fa9aa3-06b6-4efd-e6e7-a47dba6b6f18"
      },
      "source": [
        "Math"
      ],
      "execution_count": 24,
      "outputs": [
        {
          "output_type": "execute_result",
          "data": {
            "text/plain": [
              "184"
            ]
          },
          "metadata": {
            "tags": []
          },
          "execution_count": 24
        }
      ]
    },
    {
      "cell_type": "code",
      "metadata": {
        "id": "M5JIgAyD_dvA"
      },
      "source": [
        "Math/=3"
      ],
      "execution_count": 25,
      "outputs": []
    },
    {
      "cell_type": "code",
      "metadata": {
        "colab": {
          "base_uri": "https://localhost:8080/"
        },
        "id": "XoXfQF1B_jRX",
        "outputId": "063421db-53b5-4fdf-b46e-a336be04331a"
      },
      "source": [
        "Math"
      ],
      "execution_count": 26,
      "outputs": [
        {
          "output_type": "execute_result",
          "data": {
            "text/plain": [
              "61.333333333333336"
            ]
          },
          "metadata": {
            "tags": []
          },
          "execution_count": 26
        }
      ]
    },
    {
      "cell_type": "code",
      "metadata": {
        "id": "Gez6wufG_qph"
      },
      "source": [
        "Math-=27"
      ],
      "execution_count": 27,
      "outputs": []
    },
    {
      "cell_type": "code",
      "metadata": {
        "colab": {
          "base_uri": "https://localhost:8080/"
        },
        "id": "qUgEn5pQ_0-M",
        "outputId": "28909a64-8e0a-4d98-e71f-7aea0b8560c2"
      },
      "source": [
        "Math"
      ],
      "execution_count": 28,
      "outputs": [
        {
          "output_type": "execute_result",
          "data": {
            "text/plain": [
              "34.333333333333336"
            ]
          },
          "metadata": {
            "tags": []
          },
          "execution_count": 28
        }
      ]
    },
    {
      "cell_type": "code",
      "metadata": {
        "id": "wcxaNG9O_5gu"
      },
      "source": [
        "#>= greater than or equal to\n",
        "# == equal\n",
        "# != not equal\n",
        "# < less than\n",
        "# <= less than or equal to\n",
        "# > greater than"
      ],
      "execution_count": 29,
      "outputs": []
    },
    {
      "cell_type": "code",
      "metadata": {
        "colab": {
          "base_uri": "https://localhost:8080/"
        },
        "id": "WI1v0obhARc_",
        "outputId": "f8d93986-2f34-4430-e97f-067b1fad3353"
      },
      "source": [
        "print(22>=32)\n",
        "print(22>=21)\n",
        "print(22>=22)\n",
        "print(22==33)\n",
        "print(22==22.0)\n",
        "print(22!=22)\n",
        "print(22!=23)\n",
        "print(22<23)\n",
        "print(22<21)\n",
        "print(22<22)\n",
        "print(22<=22)\n",
        "print(22<=21)\n",
        "print(22<=24)\n",
        "sum([2,3,56,76,23,352,4,-4,-8,90.2])"
      ],
      "execution_count": 30,
      "outputs": [
        {
          "output_type": "stream",
          "text": [
            "False\n",
            "True\n",
            "True\n",
            "False\n",
            "True\n",
            "False\n",
            "True\n",
            "True\n",
            "False\n",
            "False\n",
            "True\n",
            "False\n",
            "True\n"
          ],
          "name": "stdout"
        },
        {
          "output_type": "execute_result",
          "data": {
            "text/plain": [
              "594.2"
            ]
          },
          "metadata": {
            "tags": []
          },
          "execution_count": 30
        }
      ]
    },
    {
      "cell_type": "markdown",
      "metadata": {
        "id": "Rf0P7BpMIYrT"
      },
      "source": [
        "Calculus in Python?\n",
        "You can do several calculus processes in Python using simpy function.\n",
        "\n",
        "Disciplines that utilize calculus include physics, engineering, economics, statistics, and medicine.\n",
        "\n",
        "**Sympy**- is a library within Python that means Symbolic Mathematics.\n",
        "\n",
        "Think of it as a Scientific Calculator in Python.\n",
        "\n",
        "This library will come into play when dealing with Derivatives, Integrals, Limits, and Expansions.\n",
        "\n"
      ]
    },
    {
      "cell_type": "markdown",
      "metadata": {
        "id": "AKAVVAsJJtZM"
      },
      "source": [
        "**Geometry**= math that focuses on the measurement and relationship of lines, angles, surfaces, solids and points.\n",
        "\n",
        "Geometry is the precursor of Trigonometry\n",
        "\n",
        "**Euclid Geometry(without Height)**= Flat Shapes, Lines Surfaces(considered 2d)\n",
        "\n",
        "**Non-Euclid Geometry(with Height)**= Non Flat Shapes, Spheres, Cylinder(considered 3d)\n"
      ]
    },
    {
      "cell_type": "code",
      "metadata": {
        "id": "b-a_glo8Kz9a"
      },
      "source": [
        "import math"
      ],
      "execution_count": 31,
      "outputs": []
    },
    {
      "cell_type": "code",
      "metadata": {
        "colab": {
          "base_uri": "https://localhost:8080/"
        },
        "id": "rjwKaDUdK4Ah",
        "outputId": "4b1509a3-cc62-4bc6-f132-d321c5e1779e"
      },
      "source": [
        "#pie function\n",
        "#The ration of the circumference to the diameter of a circle\n",
        "math.pi"
      ],
      "execution_count": 32,
      "outputs": [
        {
          "output_type": "execute_result",
          "data": {
            "text/plain": [
              "3.141592653589793"
            ]
          },
          "metadata": {
            "tags": []
          },
          "execution_count": 32
        }
      ]
    },
    {
      "cell_type": "code",
      "metadata": {
        "colab": {
          "base_uri": "https://localhost:8080/"
        },
        "id": "_vpAXEcfLEP5",
        "outputId": "d99306e0-b9cc-4686-aa15-1baaf6721587"
      },
      "source": [
        "#Called Eulers Number\n",
        "#e is the basis of logarithm\n",
        "#A logarithm is the power to whick a number is \"Example: The logarithm of 10 to 100 is 2\"\n",
        "#Used in High Level Data Analysis, Calculus, Differential Equations, Discrete Mathematics, Trigonometry, and Statistics\n",
        "#This is heavily used in those interested in Economics and Finace\n",
        "math.e"
      ],
      "execution_count": 33,
      "outputs": [
        {
          "output_type": "execute_result",
          "data": {
            "text/plain": [
              "2.718281828459045"
            ]
          },
          "metadata": {
            "tags": []
          },
          "execution_count": 33
        }
      ]
    },
    {
      "cell_type": "code",
      "metadata": {
        "colab": {
          "base_uri": "https://localhost:8080/"
        },
        "id": "03w-Ds3wLxUK",
        "outputId": "dcc061a4-562a-4f15-e4b3-d604cdb87112"
      },
      "source": [
        "#exponent function using Eulers Number\n",
        "math.exp(10)"
      ],
      "execution_count": 34,
      "outputs": [
        {
          "output_type": "execute_result",
          "data": {
            "text/plain": [
              "22026.465794806718"
            ]
          },
          "metadata": {
            "tags": []
          },
          "execution_count": 34
        }
      ]
    },
    {
      "cell_type": "code",
      "metadata": {
        "colab": {
          "base_uri": "https://localhost:8080/"
        },
        "id": "jbiuBWPCL7Hr",
        "outputId": "13e1fbfb-d1fe-4dc8-ce6a-810ca45a96a2"
      },
      "source": [
        "#Think of a Radian as how a circle is measured compared to a Triangle in degrees\n",
        "#A radian is bigger than a degree. A 360 degree circle has 2pie (2 times pie) radians\n",
        "#A radian is almost 1/6 of a circle (about 57 degrees)\n",
        "#In this example lets measure a cirlce with 360 degrees and convert it into radians\n",
        "math.radians(360)"
      ],
      "execution_count": 35,
      "outputs": [
        {
          "output_type": "execute_result",
          "data": {
            "text/plain": [
              "6.283185307179586"
            ]
          },
          "metadata": {
            "tags": []
          },
          "execution_count": 35
        }
      ]
    },
    {
      "cell_type": "code",
      "metadata": {
        "colab": {
          "base_uri": "https://localhost:8080/"
        },
        "id": "1wcUqFNEM-tw",
        "outputId": "700ad0f7-2848-4df6-b366-a1a25c41fab0"
      },
      "source": [
        "#Now lets convert our Radians into Degrees\n",
        "math.degrees(6.283185307179586)"
      ],
      "execution_count": 36,
      "outputs": [
        {
          "output_type": "execute_result",
          "data": {
            "text/plain": [
              "360.0"
            ]
          },
          "metadata": {
            "tags": []
          },
          "execution_count": 36
        }
      ]
    },
    {
      "cell_type": "code",
      "metadata": {
        "colab": {
          "base_uri": "https://localhost:8080/"
        },
        "id": "PjWhqjV4NZnY",
        "outputId": "7a913320-ab15-4864-b765-1cc55a3c8d92"
      },
      "source": [
        "#Now lets convert our Radians into degrees\n",
        "math.degrees(6.283185307179586)"
      ],
      "execution_count": 37,
      "outputs": [
        {
          "output_type": "execute_result",
          "data": {
            "text/plain": [
              "360.0"
            ]
          },
          "metadata": {
            "tags": []
          },
          "execution_count": 37
        }
      ]
    },
    {
      "cell_type": "code",
      "metadata": {
        "colab": {
          "base_uri": "https://localhost:8080/"
        },
        "id": "AMPt2gdENuz_",
        "outputId": "15eda62f-0c71-405f-d874-604c227a2cdb"
      },
      "source": [
        "import statistics\n",
        "statistics.mean([2,7,81,107])"
      ],
      "execution_count": 38,
      "outputs": [
        {
          "output_type": "execute_result",
          "data": {
            "text/plain": [
              "49.25"
            ]
          },
          "metadata": {
            "tags": []
          },
          "execution_count": 38
        }
      ]
    },
    {
      "cell_type": "code",
      "metadata": {
        "colab": {
          "base_uri": "https://localhost:8080/"
        },
        "id": "-Dif_ArzN8JR",
        "outputId": "4d9d7c6d-c50d-404c-c77b-280f35a0d6f9"
      },
      "source": [
        "statistics.median([1,3,7,44,63])"
      ],
      "execution_count": 39,
      "outputs": [
        {
          "output_type": "execute_result",
          "data": {
            "text/plain": [
              "7"
            ]
          },
          "metadata": {
            "tags": []
          },
          "execution_count": 39
        }
      ]
    },
    {
      "cell_type": "code",
      "metadata": {
        "colab": {
          "base_uri": "https://localhost:8080/"
        },
        "id": "OxmyFcj5OGSn",
        "outputId": "0e587fd1-b9b7-4799-b611-217a85bcd669"
      },
      "source": [
        "statistics.mode([2,55,43,12,8,3,9,4,2,5,6])"
      ],
      "execution_count": 40,
      "outputs": [
        {
          "output_type": "execute_result",
          "data": {
            "text/plain": [
              "2"
            ]
          },
          "metadata": {
            "tags": []
          },
          "execution_count": 40
        }
      ]
    },
    {
      "cell_type": "code",
      "metadata": {
        "colab": {
          "base_uri": "https://localhost:8080/"
        },
        "id": "jGUNvQOGXINz",
        "outputId": "9419aad1-9632-4676-e661-54c0ba65d183"
      },
      "source": [
        "statistics.stdev([1,1.5,2,25.5,3,13.5,4,84.5,5])"
      ],
      "execution_count": 41,
      "outputs": [
        {
          "output_type": "execute_result",
          "data": {
            "text/plain": [
              "27.046770191240537"
            ]
          },
          "metadata": {
            "tags": []
          },
          "execution_count": 41
        }
      ]
    },
    {
      "cell_type": "code",
      "metadata": {
        "colab": {
          "base_uri": "https://localhost:8080/"
        },
        "id": "RxDTfhwGXkxU",
        "outputId": "ea52f0da-83af-45f9-ac65-5f523db08a31"
      },
      "source": [
        "#P stands for probability Variance\n",
        "import statistics\n",
        "Dadrian=[1,4,6,8,9,15,18,17,16,6,6,7]\n",
        "statistics.pvariance(Dadrian)"
      ],
      "execution_count": 42,
      "outputs": [
        {
          "output_type": "execute_result",
          "data": {
            "text/plain": [
              "29.07638888888889"
            ]
          },
          "metadata": {
            "tags": []
          },
          "execution_count": 42
        }
      ]
    },
    {
      "cell_type": "markdown",
      "metadata": {
        "id": "iYkQYkEOX-cV"
      },
      "source": [
        "Variance measures the distance of each value for the mean.\n",
        "\n",
        "Calculated by the average of all squared deviations.\n",
        "\n",
        "Variance Formula= o*2"
      ]
    }
  ]
}