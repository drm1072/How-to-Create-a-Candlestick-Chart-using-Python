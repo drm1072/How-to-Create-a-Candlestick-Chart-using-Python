{
  "nbformat": 4,
  "nbformat_minor": 0,
  "metadata": {
    "colab": {
      "name": "Data science basics with python part 1.ipynb",
      "provenance": [],
      "collapsed_sections": [],
      "authorship_tag": "ABX9TyORiGFldBMGMYC0OjuzyZO7",
      "include_colab_link": true
    },
    "kernelspec": {
      "name": "python3",
      "display_name": "Python 3"
    },
    "language_info": {
      "name": "python"
    }
  },
  "cells": [
    {
      "cell_type": "markdown",
      "metadata": {
        "id": "view-in-github",
        "colab_type": "text"
      },
      "source": [
        "<a href=\"https://colab.research.google.com/github/drm1072/Workload-DRM/blob/main/Data_science_basics_with_python_part_1.ipynb\" target=\"_parent\"><img src=\"https://colab.research.google.com/assets/colab-badge.svg\" alt=\"Open In Colab\"/></a>"
      ]
    },
    {
      "cell_type": "code",
      "metadata": {
        "id": "t7G-guQnnWSv"
      },
      "source": [
        "import pandas as pd #Used for high level Data Indexing processes\n",
        "import numpy as np #Numpy provides fast mathematical function processing`b"
      ],
      "execution_count": 1,
      "outputs": []
    },
    {
      "cell_type": "code",
      "metadata": {
        "id": "FLNWLdBypIeU"
      },
      "source": [
        "#Lets create a dataframe and a dictionary\n",
        "#We know we are creating a dictionary because we see (Key : Values)\n",
        "DATASAMPLE1 = pd.DataFrame({'Favorite Colors': ['Blue', 'green', 'purple', 'yellow'],\n",
        "                            'Favorite Shoes': ['Puma', 'Converse', ' Lacoste', 'Under Armour']},\n",
        "                           index=[0, 1, 2, 3]) #Organizes our table"
      ],
      "execution_count": 2,
      "outputs": []
    },
    {
      "cell_type": "code",
      "metadata": {
        "colab": {
          "base_uri": "https://localhost:8080/",
          "height": 166
        },
        "id": "kNGlUaa3qRfo",
        "outputId": "9ba1cd34-5e09-48fd-8918-63c19f9b29e4"
      },
      "source": [
        "DATASAMPLE1"
      ],
      "execution_count": 3,
      "outputs": [
        {
          "output_type": "execute_result",
          "data": {
            "text/html": [
              "<div>\n",
              "<style scoped>\n",
              "    .dataframe tbody tr th:only-of-type {\n",
              "        vertical-align: middle;\n",
              "    }\n",
              "\n",
              "    .dataframe tbody tr th {\n",
              "        vertical-align: top;\n",
              "    }\n",
              "\n",
              "    .dataframe thead th {\n",
              "        text-align: right;\n",
              "    }\n",
              "</style>\n",
              "<table border=\"1\" class=\"dataframe\">\n",
              "  <thead>\n",
              "    <tr style=\"text-align: right;\">\n",
              "      <th></th>\n",
              "      <th>Favorite Colors</th>\n",
              "      <th>Favorite Shoes</th>\n",
              "    </tr>\n",
              "  </thead>\n",
              "  <tbody>\n",
              "    <tr>\n",
              "      <th>0</th>\n",
              "      <td>Blue</td>\n",
              "      <td>Puma</td>\n",
              "    </tr>\n",
              "    <tr>\n",
              "      <th>1</th>\n",
              "      <td>green</td>\n",
              "      <td>Converse</td>\n",
              "    </tr>\n",
              "    <tr>\n",
              "      <th>2</th>\n",
              "      <td>purple</td>\n",
              "      <td>Lacoste</td>\n",
              "    </tr>\n",
              "    <tr>\n",
              "      <th>3</th>\n",
              "      <td>yellow</td>\n",
              "      <td>Under Armour</td>\n",
              "    </tr>\n",
              "  </tbody>\n",
              "</table>\n",
              "</div>"
            ],
            "text/plain": [
              "  Favorite Colors Favorite Shoes\n",
              "0            Blue           Puma\n",
              "1           green       Converse\n",
              "2          purple        Lacoste\n",
              "3          yellow   Under Armour"
            ]
          },
          "metadata": {
            "tags": []
          },
          "execution_count": 3
        }
      ]
    },
    {
      "cell_type": "code",
      "metadata": {
        "id": "aF433Vn8qdQX"
      },
      "source": [
        "DATASAMPLE2 = pd.DataFrame({'Favorite Shows': ['The Wire', 'Girls gone wild', 'Dexter'], 'Favorite Movies': ['Kids', 'World War Z', 'Malcolm X']}, index=[0, 1, 2 ])"
      ],
      "execution_count": 4,
      "outputs": []
    },
    {
      "cell_type": "code",
      "metadata": {
        "colab": {
          "base_uri": "https://localhost:8080/",
          "height": 136
        },
        "id": "Bc94lQPttDjb",
        "outputId": "2cf89b41-6692-4d44-a399-5bac80b68562"
      },
      "source": [
        "DATASAMPLE2"
      ],
      "execution_count": 5,
      "outputs": [
        {
          "output_type": "execute_result",
          "data": {
            "text/html": [
              "<div>\n",
              "<style scoped>\n",
              "    .dataframe tbody tr th:only-of-type {\n",
              "        vertical-align: middle;\n",
              "    }\n",
              "\n",
              "    .dataframe tbody tr th {\n",
              "        vertical-align: top;\n",
              "    }\n",
              "\n",
              "    .dataframe thead th {\n",
              "        text-align: right;\n",
              "    }\n",
              "</style>\n",
              "<table border=\"1\" class=\"dataframe\">\n",
              "  <thead>\n",
              "    <tr style=\"text-align: right;\">\n",
              "      <th></th>\n",
              "      <th>Favorite Shows</th>\n",
              "      <th>Favorite Movies</th>\n",
              "    </tr>\n",
              "  </thead>\n",
              "  <tbody>\n",
              "    <tr>\n",
              "      <th>0</th>\n",
              "      <td>The Wire</td>\n",
              "      <td>Kids</td>\n",
              "    </tr>\n",
              "    <tr>\n",
              "      <th>1</th>\n",
              "      <td>Girls gone wild</td>\n",
              "      <td>World War Z</td>\n",
              "    </tr>\n",
              "    <tr>\n",
              "      <th>2</th>\n",
              "      <td>Dexter</td>\n",
              "      <td>Malcolm X</td>\n",
              "    </tr>\n",
              "  </tbody>\n",
              "</table>\n",
              "</div>"
            ],
            "text/plain": [
              "    Favorite Shows Favorite Movies\n",
              "0         The Wire            Kids\n",
              "1  Girls gone wild     World War Z\n",
              "2           Dexter       Malcolm X"
            ]
          },
          "metadata": {
            "tags": []
          },
          "execution_count": 5
        }
      ]
    },
    {
      "cell_type": "code",
      "metadata": {
        "id": "7aTiWijztLpV"
      },
      "source": [
        "#Lets combine those data samples into a LIST inside a new variable.\n",
        "DATASAMPLES = [DATASAMPLE1, DATASAMPLE2]"
      ],
      "execution_count": 6,
      "outputs": []
    },
    {
      "cell_type": "code",
      "metadata": {
        "colab": {
          "base_uri": "https://localhost:8080/"
        },
        "id": "4YFSd983uGyt",
        "outputId": "cdfc5d0f-eb1e-4b11-fc08-1c5e40ac6b50"
      },
      "source": [
        "DATASAMPLES"
      ],
      "execution_count": 7,
      "outputs": [
        {
          "output_type": "execute_result",
          "data": {
            "text/plain": [
              "[  Favorite Colors Favorite Shoes\n",
              " 0            Blue           Puma\n",
              " 1           green       Converse\n",
              " 2          purple        Lacoste\n",
              " 3          yellow   Under Armour,     Favorite Shows Favorite Movies\n",
              " 0         The Wire            Kids\n",
              " 1  Girls gone wild     World War Z\n",
              " 2           Dexter       Malcolm X]"
            ]
          },
          "metadata": {
            "tags": []
          },
          "execution_count": 7
        }
      ]
    },
    {
      "cell_type": "code",
      "metadata": {
        "id": "j8QUVR7xvHot"
      },
      "source": [
        "#Now lets combine these data sets into one table\n",
        "COMPILEDDATA= pd.concat(DATASAMPLES)"
      ],
      "execution_count": 8,
      "outputs": []
    },
    {
      "cell_type": "code",
      "metadata": {
        "colab": {
          "base_uri": "https://localhost:8080/",
          "height": 254
        },
        "id": "ymD_mEMmvpfS",
        "outputId": "f7f49640-65a9-418e-bc0e-e35de49ef376"
      },
      "source": [
        "COMPILEDDATA"
      ],
      "execution_count": 9,
      "outputs": [
        {
          "output_type": "execute_result",
          "data": {
            "text/html": [
              "<div>\n",
              "<style scoped>\n",
              "    .dataframe tbody tr th:only-of-type {\n",
              "        vertical-align: middle;\n",
              "    }\n",
              "\n",
              "    .dataframe tbody tr th {\n",
              "        vertical-align: top;\n",
              "    }\n",
              "\n",
              "    .dataframe thead th {\n",
              "        text-align: right;\n",
              "    }\n",
              "</style>\n",
              "<table border=\"1\" class=\"dataframe\">\n",
              "  <thead>\n",
              "    <tr style=\"text-align: right;\">\n",
              "      <th></th>\n",
              "      <th>Favorite Colors</th>\n",
              "      <th>Favorite Shoes</th>\n",
              "      <th>Favorite Shows</th>\n",
              "      <th>Favorite Movies</th>\n",
              "    </tr>\n",
              "  </thead>\n",
              "  <tbody>\n",
              "    <tr>\n",
              "      <th>0</th>\n",
              "      <td>Blue</td>\n",
              "      <td>Puma</td>\n",
              "      <td>NaN</td>\n",
              "      <td>NaN</td>\n",
              "    </tr>\n",
              "    <tr>\n",
              "      <th>1</th>\n",
              "      <td>green</td>\n",
              "      <td>Converse</td>\n",
              "      <td>NaN</td>\n",
              "      <td>NaN</td>\n",
              "    </tr>\n",
              "    <tr>\n",
              "      <th>2</th>\n",
              "      <td>purple</td>\n",
              "      <td>Lacoste</td>\n",
              "      <td>NaN</td>\n",
              "      <td>NaN</td>\n",
              "    </tr>\n",
              "    <tr>\n",
              "      <th>3</th>\n",
              "      <td>yellow</td>\n",
              "      <td>Under Armour</td>\n",
              "      <td>NaN</td>\n",
              "      <td>NaN</td>\n",
              "    </tr>\n",
              "    <tr>\n",
              "      <th>0</th>\n",
              "      <td>NaN</td>\n",
              "      <td>NaN</td>\n",
              "      <td>The Wire</td>\n",
              "      <td>Kids</td>\n",
              "    </tr>\n",
              "    <tr>\n",
              "      <th>1</th>\n",
              "      <td>NaN</td>\n",
              "      <td>NaN</td>\n",
              "      <td>Girls gone wild</td>\n",
              "      <td>World War Z</td>\n",
              "    </tr>\n",
              "    <tr>\n",
              "      <th>2</th>\n",
              "      <td>NaN</td>\n",
              "      <td>NaN</td>\n",
              "      <td>Dexter</td>\n",
              "      <td>Malcolm X</td>\n",
              "    </tr>\n",
              "  </tbody>\n",
              "</table>\n",
              "</div>"
            ],
            "text/plain": [
              "  Favorite Colors Favorite Shoes   Favorite Shows Favorite Movies\n",
              "0            Blue           Puma              NaN             NaN\n",
              "1           green       Converse              NaN             NaN\n",
              "2          purple        Lacoste              NaN             NaN\n",
              "3          yellow   Under Armour              NaN             NaN\n",
              "0             NaN            NaN         The Wire            Kids\n",
              "1             NaN            NaN  Girls gone wild     World War Z\n",
              "2             NaN            NaN           Dexter       Malcolm X"
            ]
          },
          "metadata": {
            "tags": []
          },
          "execution_count": 9
        }
      ]
    },
    {
      "cell_type": "code",
      "metadata": {
        "id": "AghAmw92oFE0"
      },
      "source": [
        "DATASAMPLE3 = pd.DataFrame({'Favorite Cars': ['Ford Truck', 'Jeep Liberty', 'Ford Probe', \"Corvette\"]}, index=[0, 1, 2, 3 ])\n",
        "# Code that helps create a data frame."
      ],
      "execution_count": 10,
      "outputs": []
    },
    {
      "cell_type": "code",
      "metadata": {
        "colab": {
          "base_uri": "https://localhost:8080/",
          "height": 166
        },
        "id": "qEyggfw9zNNK",
        "outputId": "ddaeaf9e-3607-4746-fe5e-6a187b47c804"
      },
      "source": [
        "DATASAMPLE3"
      ],
      "execution_count": 11,
      "outputs": [
        {
          "output_type": "execute_result",
          "data": {
            "text/html": [
              "<div>\n",
              "<style scoped>\n",
              "    .dataframe tbody tr th:only-of-type {\n",
              "        vertical-align: middle;\n",
              "    }\n",
              "\n",
              "    .dataframe tbody tr th {\n",
              "        vertical-align: top;\n",
              "    }\n",
              "\n",
              "    .dataframe thead th {\n",
              "        text-align: right;\n",
              "    }\n",
              "</style>\n",
              "<table border=\"1\" class=\"dataframe\">\n",
              "  <thead>\n",
              "    <tr style=\"text-align: right;\">\n",
              "      <th></th>\n",
              "      <th>Favorite Cars</th>\n",
              "    </tr>\n",
              "  </thead>\n",
              "  <tbody>\n",
              "    <tr>\n",
              "      <th>0</th>\n",
              "      <td>Ford Truck</td>\n",
              "    </tr>\n",
              "    <tr>\n",
              "      <th>1</th>\n",
              "      <td>Jeep Liberty</td>\n",
              "    </tr>\n",
              "    <tr>\n",
              "      <th>2</th>\n",
              "      <td>Ford Probe</td>\n",
              "    </tr>\n",
              "    <tr>\n",
              "      <th>3</th>\n",
              "      <td>Corvette</td>\n",
              "    </tr>\n",
              "  </tbody>\n",
              "</table>\n",
              "</div>"
            ],
            "text/plain": [
              "  Favorite Cars\n",
              "0    Ford Truck\n",
              "1  Jeep Liberty\n",
              "2    Ford Probe\n",
              "3      Corvette"
            ]
          },
          "metadata": {
            "tags": []
          },
          "execution_count": 11
        }
      ]
    },
    {
      "cell_type": "code",
      "metadata": {
        "id": "SDidDCe8znDz"
      },
      "source": [
        "DATASAMPLES = [DATASAMPLE1, DATASAMPLE2, DATASAMPLE3]"
      ],
      "execution_count": 12,
      "outputs": []
    },
    {
      "cell_type": "code",
      "metadata": {
        "colab": {
          "base_uri": "https://localhost:8080/"
        },
        "id": "avZuq-rYzz-y",
        "outputId": "f0c59385-23ec-4681-a7d4-8c80589ad5b7"
      },
      "source": [
        "DATASAMPLES"
      ],
      "execution_count": 13,
      "outputs": [
        {
          "output_type": "execute_result",
          "data": {
            "text/plain": [
              "[  Favorite Colors Favorite Shoes\n",
              " 0            Blue           Puma\n",
              " 1           green       Converse\n",
              " 2          purple        Lacoste\n",
              " 3          yellow   Under Armour,     Favorite Shows Favorite Movies\n",
              " 0         The Wire            Kids\n",
              " 1  Girls gone wild     World War Z\n",
              " 2           Dexter       Malcolm X,   Favorite Cars\n",
              " 0    Ford Truck\n",
              " 1  Jeep Liberty\n",
              " 2    Ford Probe\n",
              " 3      Corvette]"
            ]
          },
          "metadata": {
            "tags": []
          },
          "execution_count": 13
        }
      ]
    },
    {
      "cell_type": "code",
      "metadata": {
        "id": "pFQl7sDKz-tZ"
      },
      "source": [
        "COMPILEDDATA= pd.concat(DATASAMPLES)"
      ],
      "execution_count": 14,
      "outputs": []
    },
    {
      "cell_type": "code",
      "metadata": {
        "colab": {
          "base_uri": "https://localhost:8080/",
          "height": 373
        },
        "id": "UmxaunPp0Fbx",
        "outputId": "00c0a0f4-0c99-42e5-88e9-16d28c0c9bf0"
      },
      "source": [
        "COMPILEDDATA"
      ],
      "execution_count": 15,
      "outputs": [
        {
          "output_type": "execute_result",
          "data": {
            "text/html": [
              "<div>\n",
              "<style scoped>\n",
              "    .dataframe tbody tr th:only-of-type {\n",
              "        vertical-align: middle;\n",
              "    }\n",
              "\n",
              "    .dataframe tbody tr th {\n",
              "        vertical-align: top;\n",
              "    }\n",
              "\n",
              "    .dataframe thead th {\n",
              "        text-align: right;\n",
              "    }\n",
              "</style>\n",
              "<table border=\"1\" class=\"dataframe\">\n",
              "  <thead>\n",
              "    <tr style=\"text-align: right;\">\n",
              "      <th></th>\n",
              "      <th>Favorite Colors</th>\n",
              "      <th>Favorite Shoes</th>\n",
              "      <th>Favorite Shows</th>\n",
              "      <th>Favorite Movies</th>\n",
              "      <th>Favorite Cars</th>\n",
              "    </tr>\n",
              "  </thead>\n",
              "  <tbody>\n",
              "    <tr>\n",
              "      <th>0</th>\n",
              "      <td>Blue</td>\n",
              "      <td>Puma</td>\n",
              "      <td>NaN</td>\n",
              "      <td>NaN</td>\n",
              "      <td>NaN</td>\n",
              "    </tr>\n",
              "    <tr>\n",
              "      <th>1</th>\n",
              "      <td>green</td>\n",
              "      <td>Converse</td>\n",
              "      <td>NaN</td>\n",
              "      <td>NaN</td>\n",
              "      <td>NaN</td>\n",
              "    </tr>\n",
              "    <tr>\n",
              "      <th>2</th>\n",
              "      <td>purple</td>\n",
              "      <td>Lacoste</td>\n",
              "      <td>NaN</td>\n",
              "      <td>NaN</td>\n",
              "      <td>NaN</td>\n",
              "    </tr>\n",
              "    <tr>\n",
              "      <th>3</th>\n",
              "      <td>yellow</td>\n",
              "      <td>Under Armour</td>\n",
              "      <td>NaN</td>\n",
              "      <td>NaN</td>\n",
              "      <td>NaN</td>\n",
              "    </tr>\n",
              "    <tr>\n",
              "      <th>0</th>\n",
              "      <td>NaN</td>\n",
              "      <td>NaN</td>\n",
              "      <td>The Wire</td>\n",
              "      <td>Kids</td>\n",
              "      <td>NaN</td>\n",
              "    </tr>\n",
              "    <tr>\n",
              "      <th>1</th>\n",
              "      <td>NaN</td>\n",
              "      <td>NaN</td>\n",
              "      <td>Girls gone wild</td>\n",
              "      <td>World War Z</td>\n",
              "      <td>NaN</td>\n",
              "    </tr>\n",
              "    <tr>\n",
              "      <th>2</th>\n",
              "      <td>NaN</td>\n",
              "      <td>NaN</td>\n",
              "      <td>Dexter</td>\n",
              "      <td>Malcolm X</td>\n",
              "      <td>NaN</td>\n",
              "    </tr>\n",
              "    <tr>\n",
              "      <th>0</th>\n",
              "      <td>NaN</td>\n",
              "      <td>NaN</td>\n",
              "      <td>NaN</td>\n",
              "      <td>NaN</td>\n",
              "      <td>Ford Truck</td>\n",
              "    </tr>\n",
              "    <tr>\n",
              "      <th>1</th>\n",
              "      <td>NaN</td>\n",
              "      <td>NaN</td>\n",
              "      <td>NaN</td>\n",
              "      <td>NaN</td>\n",
              "      <td>Jeep Liberty</td>\n",
              "    </tr>\n",
              "    <tr>\n",
              "      <th>2</th>\n",
              "      <td>NaN</td>\n",
              "      <td>NaN</td>\n",
              "      <td>NaN</td>\n",
              "      <td>NaN</td>\n",
              "      <td>Ford Probe</td>\n",
              "    </tr>\n",
              "    <tr>\n",
              "      <th>3</th>\n",
              "      <td>NaN</td>\n",
              "      <td>NaN</td>\n",
              "      <td>NaN</td>\n",
              "      <td>NaN</td>\n",
              "      <td>Corvette</td>\n",
              "    </tr>\n",
              "  </tbody>\n",
              "</table>\n",
              "</div>"
            ],
            "text/plain": [
              "  Favorite Colors Favorite Shoes   Favorite Shows Favorite Movies Favorite Cars\n",
              "0            Blue           Puma              NaN             NaN           NaN\n",
              "1           green       Converse              NaN             NaN           NaN\n",
              "2          purple        Lacoste              NaN             NaN           NaN\n",
              "3          yellow   Under Armour              NaN             NaN           NaN\n",
              "0             NaN            NaN         The Wire            Kids           NaN\n",
              "1             NaN            NaN  Girls gone wild     World War Z           NaN\n",
              "2             NaN            NaN           Dexter       Malcolm X           NaN\n",
              "0             NaN            NaN              NaN             NaN    Ford Truck\n",
              "1             NaN            NaN              NaN             NaN  Jeep Liberty\n",
              "2             NaN            NaN              NaN             NaN    Ford Probe\n",
              "3             NaN            NaN              NaN             NaN      Corvette"
            ]
          },
          "metadata": {
            "tags": []
          },
          "execution_count": 15
        }
      ]
    },
    {
      "cell_type": "code",
      "metadata": {
        "id": "slCCFsKj0nRa"
      },
      "source": [
        "COMPILEDDATA= pd.concat(DATASAMPLES)"
      ],
      "execution_count": 16,
      "outputs": []
    },
    {
      "cell_type": "code",
      "metadata": {
        "colab": {
          "base_uri": "https://localhost:8080/",
          "height": 373
        },
        "id": "2axM1-Y80-lg",
        "outputId": "b4d8189c-ccce-4f75-a1a2-ad95accf2083"
      },
      "source": [
        "COMPILEDDATA"
      ],
      "execution_count": 17,
      "outputs": [
        {
          "output_type": "execute_result",
          "data": {
            "text/html": [
              "<div>\n",
              "<style scoped>\n",
              "    .dataframe tbody tr th:only-of-type {\n",
              "        vertical-align: middle;\n",
              "    }\n",
              "\n",
              "    .dataframe tbody tr th {\n",
              "        vertical-align: top;\n",
              "    }\n",
              "\n",
              "    .dataframe thead th {\n",
              "        text-align: right;\n",
              "    }\n",
              "</style>\n",
              "<table border=\"1\" class=\"dataframe\">\n",
              "  <thead>\n",
              "    <tr style=\"text-align: right;\">\n",
              "      <th></th>\n",
              "      <th>Favorite Colors</th>\n",
              "      <th>Favorite Shoes</th>\n",
              "      <th>Favorite Shows</th>\n",
              "      <th>Favorite Movies</th>\n",
              "      <th>Favorite Cars</th>\n",
              "    </tr>\n",
              "  </thead>\n",
              "  <tbody>\n",
              "    <tr>\n",
              "      <th>0</th>\n",
              "      <td>Blue</td>\n",
              "      <td>Puma</td>\n",
              "      <td>NaN</td>\n",
              "      <td>NaN</td>\n",
              "      <td>NaN</td>\n",
              "    </tr>\n",
              "    <tr>\n",
              "      <th>1</th>\n",
              "      <td>green</td>\n",
              "      <td>Converse</td>\n",
              "      <td>NaN</td>\n",
              "      <td>NaN</td>\n",
              "      <td>NaN</td>\n",
              "    </tr>\n",
              "    <tr>\n",
              "      <th>2</th>\n",
              "      <td>purple</td>\n",
              "      <td>Lacoste</td>\n",
              "      <td>NaN</td>\n",
              "      <td>NaN</td>\n",
              "      <td>NaN</td>\n",
              "    </tr>\n",
              "    <tr>\n",
              "      <th>3</th>\n",
              "      <td>yellow</td>\n",
              "      <td>Under Armour</td>\n",
              "      <td>NaN</td>\n",
              "      <td>NaN</td>\n",
              "      <td>NaN</td>\n",
              "    </tr>\n",
              "    <tr>\n",
              "      <th>0</th>\n",
              "      <td>NaN</td>\n",
              "      <td>NaN</td>\n",
              "      <td>The Wire</td>\n",
              "      <td>Kids</td>\n",
              "      <td>NaN</td>\n",
              "    </tr>\n",
              "    <tr>\n",
              "      <th>1</th>\n",
              "      <td>NaN</td>\n",
              "      <td>NaN</td>\n",
              "      <td>Girls gone wild</td>\n",
              "      <td>World War Z</td>\n",
              "      <td>NaN</td>\n",
              "    </tr>\n",
              "    <tr>\n",
              "      <th>2</th>\n",
              "      <td>NaN</td>\n",
              "      <td>NaN</td>\n",
              "      <td>Dexter</td>\n",
              "      <td>Malcolm X</td>\n",
              "      <td>NaN</td>\n",
              "    </tr>\n",
              "    <tr>\n",
              "      <th>0</th>\n",
              "      <td>NaN</td>\n",
              "      <td>NaN</td>\n",
              "      <td>NaN</td>\n",
              "      <td>NaN</td>\n",
              "      <td>Ford Truck</td>\n",
              "    </tr>\n",
              "    <tr>\n",
              "      <th>1</th>\n",
              "      <td>NaN</td>\n",
              "      <td>NaN</td>\n",
              "      <td>NaN</td>\n",
              "      <td>NaN</td>\n",
              "      <td>Jeep Liberty</td>\n",
              "    </tr>\n",
              "    <tr>\n",
              "      <th>2</th>\n",
              "      <td>NaN</td>\n",
              "      <td>NaN</td>\n",
              "      <td>NaN</td>\n",
              "      <td>NaN</td>\n",
              "      <td>Ford Probe</td>\n",
              "    </tr>\n",
              "    <tr>\n",
              "      <th>3</th>\n",
              "      <td>NaN</td>\n",
              "      <td>NaN</td>\n",
              "      <td>NaN</td>\n",
              "      <td>NaN</td>\n",
              "      <td>Corvette</td>\n",
              "    </tr>\n",
              "  </tbody>\n",
              "</table>\n",
              "</div>"
            ],
            "text/plain": [
              "  Favorite Colors Favorite Shoes   Favorite Shows Favorite Movies Favorite Cars\n",
              "0            Blue           Puma              NaN             NaN           NaN\n",
              "1           green       Converse              NaN             NaN           NaN\n",
              "2          purple        Lacoste              NaN             NaN           NaN\n",
              "3          yellow   Under Armour              NaN             NaN           NaN\n",
              "0             NaN            NaN         The Wire            Kids           NaN\n",
              "1             NaN            NaN  Girls gone wild     World War Z           NaN\n",
              "2             NaN            NaN           Dexter       Malcolm X           NaN\n",
              "0             NaN            NaN              NaN             NaN    Ford Truck\n",
              "1             NaN            NaN              NaN             NaN  Jeep Liberty\n",
              "2             NaN            NaN              NaN             NaN    Ford Probe\n",
              "3             NaN            NaN              NaN             NaN      Corvette"
            ]
          },
          "metadata": {
            "tags": []
          },
          "execution_count": 17
        }
      ]
    },
    {
      "cell_type": "code",
      "metadata": {
        "id": "UrTjgqFl1Emh"
      },
      "source": [
        "NEWCOMPILEDDATA = pd.concat([DATASAMPLE1, DATASAMPLE2, DATASAMPLE3], axis=1).reindex(DATASAMPLE1.index)"
      ],
      "execution_count": 18,
      "outputs": []
    },
    {
      "cell_type": "code",
      "metadata": {
        "colab": {
          "base_uri": "https://localhost:8080/",
          "height": 166
        },
        "id": "A96TPdRG2L2i",
        "outputId": "aa35fdf4-505b-45bf-e050-a7990128bd1d"
      },
      "source": [
        "NEWCOMPILEDDATA"
      ],
      "execution_count": 19,
      "outputs": [
        {
          "output_type": "execute_result",
          "data": {
            "text/html": [
              "<div>\n",
              "<style scoped>\n",
              "    .dataframe tbody tr th:only-of-type {\n",
              "        vertical-align: middle;\n",
              "    }\n",
              "\n",
              "    .dataframe tbody tr th {\n",
              "        vertical-align: top;\n",
              "    }\n",
              "\n",
              "    .dataframe thead th {\n",
              "        text-align: right;\n",
              "    }\n",
              "</style>\n",
              "<table border=\"1\" class=\"dataframe\">\n",
              "  <thead>\n",
              "    <tr style=\"text-align: right;\">\n",
              "      <th></th>\n",
              "      <th>Favorite Colors</th>\n",
              "      <th>Favorite Shoes</th>\n",
              "      <th>Favorite Shows</th>\n",
              "      <th>Favorite Movies</th>\n",
              "      <th>Favorite Cars</th>\n",
              "    </tr>\n",
              "  </thead>\n",
              "  <tbody>\n",
              "    <tr>\n",
              "      <th>0</th>\n",
              "      <td>Blue</td>\n",
              "      <td>Puma</td>\n",
              "      <td>The Wire</td>\n",
              "      <td>Kids</td>\n",
              "      <td>Ford Truck</td>\n",
              "    </tr>\n",
              "    <tr>\n",
              "      <th>1</th>\n",
              "      <td>green</td>\n",
              "      <td>Converse</td>\n",
              "      <td>Girls gone wild</td>\n",
              "      <td>World War Z</td>\n",
              "      <td>Jeep Liberty</td>\n",
              "    </tr>\n",
              "    <tr>\n",
              "      <th>2</th>\n",
              "      <td>purple</td>\n",
              "      <td>Lacoste</td>\n",
              "      <td>Dexter</td>\n",
              "      <td>Malcolm X</td>\n",
              "      <td>Ford Probe</td>\n",
              "    </tr>\n",
              "    <tr>\n",
              "      <th>3</th>\n",
              "      <td>yellow</td>\n",
              "      <td>Under Armour</td>\n",
              "      <td>NaN</td>\n",
              "      <td>NaN</td>\n",
              "      <td>Corvette</td>\n",
              "    </tr>\n",
              "  </tbody>\n",
              "</table>\n",
              "</div>"
            ],
            "text/plain": [
              "  Favorite Colors Favorite Shoes   Favorite Shows Favorite Movies Favorite Cars\n",
              "0            Blue           Puma         The Wire            Kids    Ford Truck\n",
              "1           green       Converse  Girls gone wild     World War Z  Jeep Liberty\n",
              "2          purple        Lacoste           Dexter       Malcolm X    Ford Probe\n",
              "3          yellow   Under Armour              NaN             NaN      Corvette"
            ]
          },
          "metadata": {
            "tags": []
          },
          "execution_count": 19
        }
      ]
    },
    {
      "cell_type": "code",
      "metadata": {
        "colab": {
          "base_uri": "https://localhost:8080/"
        },
        "id": "qFFyspNb3Pkq",
        "outputId": "e752920b-4132-4d1f-90ee-b9707439e780"
      },
      "source": [
        "#Now lets check for null and nan valves\n",
        "NEWCOMPILEDDATA.isnull().values.any()"
      ],
      "execution_count": 20,
      "outputs": [
        {
          "output_type": "execute_result",
          "data": {
            "text/plain": [
              "True"
            ]
          },
          "metadata": {
            "tags": []
          },
          "execution_count": 20
        }
      ]
    },
    {
      "cell_type": "code",
      "metadata": {
        "colab": {
          "base_uri": "https://localhost:8080/"
        },
        "id": "1Ra04LWq5XIw",
        "outputId": "f01bbda4-29fe-4487-c305-72f28f54b5e5"
      },
      "source": [
        "#Now lets check for null and nan values\n",
        "NEWCOMPILEDDATA.isna().values.any()"
      ],
      "execution_count": 21,
      "outputs": [
        {
          "output_type": "execute_result",
          "data": {
            "text/plain": [
              "True"
            ]
          },
          "metadata": {
            "tags": []
          },
          "execution_count": 21
        }
      ]
    },
    {
      "cell_type": "code",
      "metadata": {
        "id": "-v-xsIhA5l6x"
      },
      "source": [
        "NEWCOMPILEDDATA = NEWCOMPILEDDATA.replace('NaN', '')"
      ],
      "execution_count": 22,
      "outputs": []
    },
    {
      "cell_type": "code",
      "metadata": {
        "colab": {
          "base_uri": "https://localhost:8080/",
          "height": 166
        },
        "id": "oPNjENAF5wQM",
        "outputId": "536a92ed-47de-4b0b-d30f-530497e73b20"
      },
      "source": [
        "NEWCOMPILEDDATA"
      ],
      "execution_count": 23,
      "outputs": [
        {
          "output_type": "execute_result",
          "data": {
            "text/html": [
              "<div>\n",
              "<style scoped>\n",
              "    .dataframe tbody tr th:only-of-type {\n",
              "        vertical-align: middle;\n",
              "    }\n",
              "\n",
              "    .dataframe tbody tr th {\n",
              "        vertical-align: top;\n",
              "    }\n",
              "\n",
              "    .dataframe thead th {\n",
              "        text-align: right;\n",
              "    }\n",
              "</style>\n",
              "<table border=\"1\" class=\"dataframe\">\n",
              "  <thead>\n",
              "    <tr style=\"text-align: right;\">\n",
              "      <th></th>\n",
              "      <th>Favorite Colors</th>\n",
              "      <th>Favorite Shoes</th>\n",
              "      <th>Favorite Shows</th>\n",
              "      <th>Favorite Movies</th>\n",
              "      <th>Favorite Cars</th>\n",
              "    </tr>\n",
              "  </thead>\n",
              "  <tbody>\n",
              "    <tr>\n",
              "      <th>0</th>\n",
              "      <td>Blue</td>\n",
              "      <td>Puma</td>\n",
              "      <td>The Wire</td>\n",
              "      <td>Kids</td>\n",
              "      <td>Ford Truck</td>\n",
              "    </tr>\n",
              "    <tr>\n",
              "      <th>1</th>\n",
              "      <td>green</td>\n",
              "      <td>Converse</td>\n",
              "      <td>Girls gone wild</td>\n",
              "      <td>World War Z</td>\n",
              "      <td>Jeep Liberty</td>\n",
              "    </tr>\n",
              "    <tr>\n",
              "      <th>2</th>\n",
              "      <td>purple</td>\n",
              "      <td>Lacoste</td>\n",
              "      <td>Dexter</td>\n",
              "      <td>Malcolm X</td>\n",
              "      <td>Ford Probe</td>\n",
              "    </tr>\n",
              "    <tr>\n",
              "      <th>3</th>\n",
              "      <td>yellow</td>\n",
              "      <td>Under Armour</td>\n",
              "      <td>NaN</td>\n",
              "      <td>NaN</td>\n",
              "      <td>Corvette</td>\n",
              "    </tr>\n",
              "  </tbody>\n",
              "</table>\n",
              "</div>"
            ],
            "text/plain": [
              "  Favorite Colors Favorite Shoes   Favorite Shows Favorite Movies Favorite Cars\n",
              "0            Blue           Puma         The Wire            Kids    Ford Truck\n",
              "1           green       Converse  Girls gone wild     World War Z  Jeep Liberty\n",
              "2          purple        Lacoste           Dexter       Malcolm X    Ford Probe\n",
              "3          yellow   Under Armour              NaN             NaN      Corvette"
            ]
          },
          "metadata": {
            "tags": []
          },
          "execution_count": 23
        }
      ]
    },
    {
      "cell_type": "code",
      "metadata": {
        "colab": {
          "base_uri": "https://localhost:8080/",
          "height": 166
        },
        "id": "lN8HtrD_52-d",
        "outputId": "87fb55a9-b1a3-4a35-8ebc-eb11227ba908"
      },
      "source": [
        "NEWCOMPILEDDATA.fillna(0)"
      ],
      "execution_count": 24,
      "outputs": [
        {
          "output_type": "execute_result",
          "data": {
            "text/html": [
              "<div>\n",
              "<style scoped>\n",
              "    .dataframe tbody tr th:only-of-type {\n",
              "        vertical-align: middle;\n",
              "    }\n",
              "\n",
              "    .dataframe tbody tr th {\n",
              "        vertical-align: top;\n",
              "    }\n",
              "\n",
              "    .dataframe thead th {\n",
              "        text-align: right;\n",
              "    }\n",
              "</style>\n",
              "<table border=\"1\" class=\"dataframe\">\n",
              "  <thead>\n",
              "    <tr style=\"text-align: right;\">\n",
              "      <th></th>\n",
              "      <th>Favorite Colors</th>\n",
              "      <th>Favorite Shoes</th>\n",
              "      <th>Favorite Shows</th>\n",
              "      <th>Favorite Movies</th>\n",
              "      <th>Favorite Cars</th>\n",
              "    </tr>\n",
              "  </thead>\n",
              "  <tbody>\n",
              "    <tr>\n",
              "      <th>0</th>\n",
              "      <td>Blue</td>\n",
              "      <td>Puma</td>\n",
              "      <td>The Wire</td>\n",
              "      <td>Kids</td>\n",
              "      <td>Ford Truck</td>\n",
              "    </tr>\n",
              "    <tr>\n",
              "      <th>1</th>\n",
              "      <td>green</td>\n",
              "      <td>Converse</td>\n",
              "      <td>Girls gone wild</td>\n",
              "      <td>World War Z</td>\n",
              "      <td>Jeep Liberty</td>\n",
              "    </tr>\n",
              "    <tr>\n",
              "      <th>2</th>\n",
              "      <td>purple</td>\n",
              "      <td>Lacoste</td>\n",
              "      <td>Dexter</td>\n",
              "      <td>Malcolm X</td>\n",
              "      <td>Ford Probe</td>\n",
              "    </tr>\n",
              "    <tr>\n",
              "      <th>3</th>\n",
              "      <td>yellow</td>\n",
              "      <td>Under Armour</td>\n",
              "      <td>0</td>\n",
              "      <td>0</td>\n",
              "      <td>Corvette</td>\n",
              "    </tr>\n",
              "  </tbody>\n",
              "</table>\n",
              "</div>"
            ],
            "text/plain": [
              "  Favorite Colors Favorite Shoes   Favorite Shows Favorite Movies Favorite Cars\n",
              "0            Blue           Puma         The Wire            Kids    Ford Truck\n",
              "1           green       Converse  Girls gone wild     World War Z  Jeep Liberty\n",
              "2          purple        Lacoste           Dexter       Malcolm X    Ford Probe\n",
              "3          yellow   Under Armour                0               0      Corvette"
            ]
          },
          "metadata": {
            "tags": []
          },
          "execution_count": 24
        }
      ]
    },
    {
      "cell_type": "code",
      "metadata": {
        "colab": {
          "base_uri": "https://localhost:8080/",
          "height": 166
        },
        "id": "u9Rkm2-I6Rm5",
        "outputId": "5429403e-4c2a-4ee8-f32d-842defb6123b"
      },
      "source": [
        "NEWCOMPILEDDATA.fillna('')"
      ],
      "execution_count": 25,
      "outputs": [
        {
          "output_type": "execute_result",
          "data": {
            "text/html": [
              "<div>\n",
              "<style scoped>\n",
              "    .dataframe tbody tr th:only-of-type {\n",
              "        vertical-align: middle;\n",
              "    }\n",
              "\n",
              "    .dataframe tbody tr th {\n",
              "        vertical-align: top;\n",
              "    }\n",
              "\n",
              "    .dataframe thead th {\n",
              "        text-align: right;\n",
              "    }\n",
              "</style>\n",
              "<table border=\"1\" class=\"dataframe\">\n",
              "  <thead>\n",
              "    <tr style=\"text-align: right;\">\n",
              "      <th></th>\n",
              "      <th>Favorite Colors</th>\n",
              "      <th>Favorite Shoes</th>\n",
              "      <th>Favorite Shows</th>\n",
              "      <th>Favorite Movies</th>\n",
              "      <th>Favorite Cars</th>\n",
              "    </tr>\n",
              "  </thead>\n",
              "  <tbody>\n",
              "    <tr>\n",
              "      <th>0</th>\n",
              "      <td>Blue</td>\n",
              "      <td>Puma</td>\n",
              "      <td>The Wire</td>\n",
              "      <td>Kids</td>\n",
              "      <td>Ford Truck</td>\n",
              "    </tr>\n",
              "    <tr>\n",
              "      <th>1</th>\n",
              "      <td>green</td>\n",
              "      <td>Converse</td>\n",
              "      <td>Girls gone wild</td>\n",
              "      <td>World War Z</td>\n",
              "      <td>Jeep Liberty</td>\n",
              "    </tr>\n",
              "    <tr>\n",
              "      <th>2</th>\n",
              "      <td>purple</td>\n",
              "      <td>Lacoste</td>\n",
              "      <td>Dexter</td>\n",
              "      <td>Malcolm X</td>\n",
              "      <td>Ford Probe</td>\n",
              "    </tr>\n",
              "    <tr>\n",
              "      <th>3</th>\n",
              "      <td>yellow</td>\n",
              "      <td>Under Armour</td>\n",
              "      <td></td>\n",
              "      <td></td>\n",
              "      <td>Corvette</td>\n",
              "    </tr>\n",
              "  </tbody>\n",
              "</table>\n",
              "</div>"
            ],
            "text/plain": [
              "  Favorite Colors Favorite Shoes   Favorite Shows Favorite Movies Favorite Cars\n",
              "0            Blue           Puma         The Wire            Kids    Ford Truck\n",
              "1           green       Converse  Girls gone wild     World War Z  Jeep Liberty\n",
              "2          purple        Lacoste           Dexter       Malcolm X    Ford Probe\n",
              "3          yellow   Under Armour                                       Corvette"
            ]
          },
          "metadata": {
            "tags": []
          },
          "execution_count": 25
        }
      ]
    },
    {
      "cell_type": "code",
      "metadata": {
        "id": "D7tDUoTW6qzn"
      },
      "source": [
        "DATASAMPLE4 = pd.DataFrame({'Favorite Ice cream flavors': ['Chocolate', 'Cookies and Cream', 'Vanilla']}, index=[0, 1, 2,])"
      ],
      "execution_count": 26,
      "outputs": []
    },
    {
      "cell_type": "code",
      "metadata": {
        "id": "2B76LFzS7T4q"
      },
      "source": [
        "#This is the append function to add another datatable\n",
        "NEWCOMPILEDDATA = NEWCOMPILEDDATA.append(DATASAMPLE4)"
      ],
      "execution_count": 27,
      "outputs": []
    },
    {
      "cell_type": "code",
      "metadata": {
        "colab": {
          "base_uri": "https://localhost:8080/",
          "height": 305
        },
        "id": "KEwPcaFB7fgI",
        "outputId": "ce0f0d21-a698-4908-9f8b-51c610035404"
      },
      "source": [
        "NEWCOMPILEDDATA"
      ],
      "execution_count": 28,
      "outputs": [
        {
          "output_type": "execute_result",
          "data": {
            "text/html": [
              "<div>\n",
              "<style scoped>\n",
              "    .dataframe tbody tr th:only-of-type {\n",
              "        vertical-align: middle;\n",
              "    }\n",
              "\n",
              "    .dataframe tbody tr th {\n",
              "        vertical-align: top;\n",
              "    }\n",
              "\n",
              "    .dataframe thead th {\n",
              "        text-align: right;\n",
              "    }\n",
              "</style>\n",
              "<table border=\"1\" class=\"dataframe\">\n",
              "  <thead>\n",
              "    <tr style=\"text-align: right;\">\n",
              "      <th></th>\n",
              "      <th>Favorite Colors</th>\n",
              "      <th>Favorite Shoes</th>\n",
              "      <th>Favorite Shows</th>\n",
              "      <th>Favorite Movies</th>\n",
              "      <th>Favorite Cars</th>\n",
              "      <th>Favorite Ice cream flavors</th>\n",
              "    </tr>\n",
              "  </thead>\n",
              "  <tbody>\n",
              "    <tr>\n",
              "      <th>0</th>\n",
              "      <td>Blue</td>\n",
              "      <td>Puma</td>\n",
              "      <td>The Wire</td>\n",
              "      <td>Kids</td>\n",
              "      <td>Ford Truck</td>\n",
              "      <td>NaN</td>\n",
              "    </tr>\n",
              "    <tr>\n",
              "      <th>1</th>\n",
              "      <td>green</td>\n",
              "      <td>Converse</td>\n",
              "      <td>Girls gone wild</td>\n",
              "      <td>World War Z</td>\n",
              "      <td>Jeep Liberty</td>\n",
              "      <td>NaN</td>\n",
              "    </tr>\n",
              "    <tr>\n",
              "      <th>2</th>\n",
              "      <td>purple</td>\n",
              "      <td>Lacoste</td>\n",
              "      <td>Dexter</td>\n",
              "      <td>Malcolm X</td>\n",
              "      <td>Ford Probe</td>\n",
              "      <td>NaN</td>\n",
              "    </tr>\n",
              "    <tr>\n",
              "      <th>3</th>\n",
              "      <td>yellow</td>\n",
              "      <td>Under Armour</td>\n",
              "      <td>NaN</td>\n",
              "      <td>NaN</td>\n",
              "      <td>Corvette</td>\n",
              "      <td>NaN</td>\n",
              "    </tr>\n",
              "    <tr>\n",
              "      <th>0</th>\n",
              "      <td>NaN</td>\n",
              "      <td>NaN</td>\n",
              "      <td>NaN</td>\n",
              "      <td>NaN</td>\n",
              "      <td>NaN</td>\n",
              "      <td>Chocolate</td>\n",
              "    </tr>\n",
              "    <tr>\n",
              "      <th>1</th>\n",
              "      <td>NaN</td>\n",
              "      <td>NaN</td>\n",
              "      <td>NaN</td>\n",
              "      <td>NaN</td>\n",
              "      <td>NaN</td>\n",
              "      <td>Cookies and Cream</td>\n",
              "    </tr>\n",
              "    <tr>\n",
              "      <th>2</th>\n",
              "      <td>NaN</td>\n",
              "      <td>NaN</td>\n",
              "      <td>NaN</td>\n",
              "      <td>NaN</td>\n",
              "      <td>NaN</td>\n",
              "      <td>Vanilla</td>\n",
              "    </tr>\n",
              "  </tbody>\n",
              "</table>\n",
              "</div>"
            ],
            "text/plain": [
              "  Favorite Colors Favorite Shoes  ... Favorite Cars Favorite Ice cream flavors\n",
              "0            Blue           Puma  ...    Ford Truck                        NaN\n",
              "1           green       Converse  ...  Jeep Liberty                        NaN\n",
              "2          purple        Lacoste  ...    Ford Probe                        NaN\n",
              "3          yellow   Under Armour  ...      Corvette                        NaN\n",
              "0             NaN            NaN  ...           NaN                  Chocolate\n",
              "1             NaN            NaN  ...           NaN          Cookies and Cream\n",
              "2             NaN            NaN  ...           NaN                    Vanilla\n",
              "\n",
              "[7 rows x 6 columns]"
            ]
          },
          "metadata": {
            "tags": []
          },
          "execution_count": 28
        }
      ]
    },
    {
      "cell_type": "code",
      "metadata": {
        "id": "pnkvuI8n7y-X"
      },
      "source": [
        "NEWCOMPILEDDATA = pd.concat([DATASAMPLE1, DATASAMPLE2, DATASAMPLE3, DATASAMPLE4], axis=1).reindex(DATASAMPLE1.index)"
      ],
      "execution_count": 29,
      "outputs": []
    },
    {
      "cell_type": "code",
      "metadata": {
        "colab": {
          "base_uri": "https://localhost:8080/",
          "height": 216
        },
        "id": "V8zV2kNA9ZVP",
        "outputId": "ffe3510e-1faa-4350-9a98-1cbe3f40df20"
      },
      "source": [
        "NEWCOMPILEDDATA"
      ],
      "execution_count": 30,
      "outputs": [
        {
          "output_type": "execute_result",
          "data": {
            "text/html": [
              "<div>\n",
              "<style scoped>\n",
              "    .dataframe tbody tr th:only-of-type {\n",
              "        vertical-align: middle;\n",
              "    }\n",
              "\n",
              "    .dataframe tbody tr th {\n",
              "        vertical-align: top;\n",
              "    }\n",
              "\n",
              "    .dataframe thead th {\n",
              "        text-align: right;\n",
              "    }\n",
              "</style>\n",
              "<table border=\"1\" class=\"dataframe\">\n",
              "  <thead>\n",
              "    <tr style=\"text-align: right;\">\n",
              "      <th></th>\n",
              "      <th>Favorite Colors</th>\n",
              "      <th>Favorite Shoes</th>\n",
              "      <th>Favorite Shows</th>\n",
              "      <th>Favorite Movies</th>\n",
              "      <th>Favorite Cars</th>\n",
              "      <th>Favorite Ice cream flavors</th>\n",
              "    </tr>\n",
              "  </thead>\n",
              "  <tbody>\n",
              "    <tr>\n",
              "      <th>0</th>\n",
              "      <td>Blue</td>\n",
              "      <td>Puma</td>\n",
              "      <td>The Wire</td>\n",
              "      <td>Kids</td>\n",
              "      <td>Ford Truck</td>\n",
              "      <td>Chocolate</td>\n",
              "    </tr>\n",
              "    <tr>\n",
              "      <th>1</th>\n",
              "      <td>green</td>\n",
              "      <td>Converse</td>\n",
              "      <td>Girls gone wild</td>\n",
              "      <td>World War Z</td>\n",
              "      <td>Jeep Liberty</td>\n",
              "      <td>Cookies and Cream</td>\n",
              "    </tr>\n",
              "    <tr>\n",
              "      <th>2</th>\n",
              "      <td>purple</td>\n",
              "      <td>Lacoste</td>\n",
              "      <td>Dexter</td>\n",
              "      <td>Malcolm X</td>\n",
              "      <td>Ford Probe</td>\n",
              "      <td>Vanilla</td>\n",
              "    </tr>\n",
              "    <tr>\n",
              "      <th>3</th>\n",
              "      <td>yellow</td>\n",
              "      <td>Under Armour</td>\n",
              "      <td>NaN</td>\n",
              "      <td>NaN</td>\n",
              "      <td>Corvette</td>\n",
              "      <td>NaN</td>\n",
              "    </tr>\n",
              "  </tbody>\n",
              "</table>\n",
              "</div>"
            ],
            "text/plain": [
              "  Favorite Colors Favorite Shoes  ... Favorite Cars Favorite Ice cream flavors\n",
              "0            Blue           Puma  ...    Ford Truck                  Chocolate\n",
              "1           green       Converse  ...  Jeep Liberty          Cookies and Cream\n",
              "2          purple        Lacoste  ...    Ford Probe                    Vanilla\n",
              "3          yellow   Under Armour  ...      Corvette                        NaN\n",
              "\n",
              "[4 rows x 6 columns]"
            ]
          },
          "metadata": {
            "tags": []
          },
          "execution_count": 30
        }
      ]
    },
    {
      "cell_type": "code",
      "metadata": {
        "colab": {
          "base_uri": "https://localhost:8080/",
          "height": 216
        },
        "id": "pSrwz7M89cUf",
        "outputId": "bb751cc1-d189-4541-ac63-1a21ade05971"
      },
      "source": [
        "NEWCOMPILEDDATA.fillna('')"
      ],
      "execution_count": 31,
      "outputs": [
        {
          "output_type": "execute_result",
          "data": {
            "text/html": [
              "<div>\n",
              "<style scoped>\n",
              "    .dataframe tbody tr th:only-of-type {\n",
              "        vertical-align: middle;\n",
              "    }\n",
              "\n",
              "    .dataframe tbody tr th {\n",
              "        vertical-align: top;\n",
              "    }\n",
              "\n",
              "    .dataframe thead th {\n",
              "        text-align: right;\n",
              "    }\n",
              "</style>\n",
              "<table border=\"1\" class=\"dataframe\">\n",
              "  <thead>\n",
              "    <tr style=\"text-align: right;\">\n",
              "      <th></th>\n",
              "      <th>Favorite Colors</th>\n",
              "      <th>Favorite Shoes</th>\n",
              "      <th>Favorite Shows</th>\n",
              "      <th>Favorite Movies</th>\n",
              "      <th>Favorite Cars</th>\n",
              "      <th>Favorite Ice cream flavors</th>\n",
              "    </tr>\n",
              "  </thead>\n",
              "  <tbody>\n",
              "    <tr>\n",
              "      <th>0</th>\n",
              "      <td>Blue</td>\n",
              "      <td>Puma</td>\n",
              "      <td>The Wire</td>\n",
              "      <td>Kids</td>\n",
              "      <td>Ford Truck</td>\n",
              "      <td>Chocolate</td>\n",
              "    </tr>\n",
              "    <tr>\n",
              "      <th>1</th>\n",
              "      <td>green</td>\n",
              "      <td>Converse</td>\n",
              "      <td>Girls gone wild</td>\n",
              "      <td>World War Z</td>\n",
              "      <td>Jeep Liberty</td>\n",
              "      <td>Cookies and Cream</td>\n",
              "    </tr>\n",
              "    <tr>\n",
              "      <th>2</th>\n",
              "      <td>purple</td>\n",
              "      <td>Lacoste</td>\n",
              "      <td>Dexter</td>\n",
              "      <td>Malcolm X</td>\n",
              "      <td>Ford Probe</td>\n",
              "      <td>Vanilla</td>\n",
              "    </tr>\n",
              "    <tr>\n",
              "      <th>3</th>\n",
              "      <td>yellow</td>\n",
              "      <td>Under Armour</td>\n",
              "      <td></td>\n",
              "      <td></td>\n",
              "      <td>Corvette</td>\n",
              "      <td></td>\n",
              "    </tr>\n",
              "  </tbody>\n",
              "</table>\n",
              "</div>"
            ],
            "text/plain": [
              "  Favorite Colors Favorite Shoes  ... Favorite Cars Favorite Ice cream flavors\n",
              "0            Blue           Puma  ...    Ford Truck                  Chocolate\n",
              "1           green       Converse  ...  Jeep Liberty          Cookies and Cream\n",
              "2          purple        Lacoste  ...    Ford Probe                    Vanilla\n",
              "3          yellow   Under Armour  ...      Corvette                           \n",
              "\n",
              "[4 rows x 6 columns]"
            ]
          },
          "metadata": {
            "tags": []
          },
          "execution_count": 31
        }
      ]
    },
    {
      "cell_type": "code",
      "metadata": {
        "colab": {
          "base_uri": "https://localhost:8080/",
          "height": 34
        },
        "id": "q26wgjJR9htw",
        "outputId": "6a66acc6-e028-4af1-9be3-8923203b7b99"
      },
      "source": [
        "import base64\n",
        "from IPython.display import HTML\n",
        "\n",
        "def create_download_link( df3, title = \"Download CSV file\", filename = \"Structured.csv\"):\n",
        "    csv = NEWCOMPILEDDATA.to_csv()\n",
        "    b64 = base64.b64encode(csv.encode())\n",
        "    payload = b64.decode()\n",
        "    html = '<a download=\"{filename}\" href=\"data:text/csv;base64,{payload}\" target=\"_blank\">(title)</a'\n",
        "    html = html.format(payload=payload, title=title, filename=filename)\n",
        "    return HTML(html)\n",
        "\n",
        "create_download_link(NEWCOMPILEDDATA)  "
      ],
      "execution_count": 32,
      "outputs": [
        {
          "output_type": "execute_result",
          "data": {
            "text/html": [
              "<a download=\"Structured.csv\" href=\"data:text/csv;base64,LEZhdm9yaXRlIENvbG9ycyxGYXZvcml0ZSBTaG9lcyxGYXZvcml0ZSBTaG93cyxGYXZvcml0ZSBNb3ZpZXMsRmF2b3JpdGUgQ2FycyxGYXZvcml0ZSBJY2UgY3JlYW0gZmxhdm9ycwowLEJsdWUsUHVtYSxUaGUgV2lyZSxLaWRzLEZvcmQgVHJ1Y2ssQ2hvY29sYXRlCjEsZ3JlZW4sQ29udmVyc2UsR2lybHMgZ29uZSB3aWxkLFdvcmxkIFdhciBaLEplZXAgTGliZXJ0eSxDb29raWVzIGFuZCBDcmVhbQoyLHB1cnBsZSwgTGFjb3N0ZSxEZXh0ZXIsTWFsY29sbSBYLEZvcmQgUHJvYmUsVmFuaWxsYQozLHllbGxvdyxVbmRlciBBcm1vdXIsLCxDb3J2ZXR0ZSwK\" target=\"_blank\">(title)</a"
            ],
            "text/plain": [
              "<IPython.core.display.HTML object>"
            ]
          },
          "metadata": {
            "tags": []
          },
          "execution_count": 32
        }
      ]
    }
  ]
}