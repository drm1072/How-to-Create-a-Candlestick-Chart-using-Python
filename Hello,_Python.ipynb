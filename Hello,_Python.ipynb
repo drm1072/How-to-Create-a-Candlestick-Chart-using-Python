{
  "nbformat": 4,
  "nbformat_minor": 0,
  "metadata": {
    "colab": {
      "name": "Hello, Python.ipynb",
      "provenance": [],
      "authorship_tag": "ABX9TyMxEocARPlSbfXwfOxzYb9F",
      "include_colab_link": true
    },
    "kernelspec": {
      "name": "python3",
      "display_name": "Python 3"
    },
    "language_info": {
      "name": "python"
    }
  },
  "cells": [
    {
      "cell_type": "markdown",
      "metadata": {
        "id": "view-in-github",
        "colab_type": "text"
      },
      "source": [
        "<a href=\"https://colab.research.google.com/github/drm1072/Workload-DRM/blob/main/Hello%2C_Python.ipynb\" target=\"_parent\"><img src=\"https://colab.research.google.com/assets/colab-badge.svg\" alt=\"Open In Colab\"/></a>"
      ]
    },
    {
      "cell_type": "code",
      "metadata": {
        "colab": {
          "base_uri": "https://localhost:8080/"
        },
        "id": "U8BzC7SW_MPo",
        "outputId": "08f6212e-3c52-4f72-bef4-a8fae13f08b3"
      },
      "source": [
        "spam_amount = 0\n",
        "print(spam_amount)"
      ],
      "execution_count": 1,
      "outputs": [
        {
          "output_type": "stream",
          "text": [
            "0\n"
          ],
          "name": "stdout"
        }
      ]
    },
    {
      "cell_type": "code",
      "metadata": {
        "colab": {
          "base_uri": "https://localhost:8080/"
        },
        "id": "Ehs4Tanc_ZY_",
        "outputId": "773cfa6b-acad-44d7-d046-1e123bdce8ec"
      },
      "source": [
        "#Ordering Spam, egg, Spam, Spam, bacon and Spam (4 more servings of Spam)\n",
        "spam_amount = spam_amount + 4\n",
        "\n",
        "if spam_amount > 0:\n",
        "    print(\"BUt I don't want Any spam!\")\n",
        "\n",
        "viking_song = \"Spam \" * spam_amount\n",
        "print(viking_song)    "
      ],
      "execution_count": 3,
      "outputs": [
        {
          "output_type": "stream",
          "text": [
            "BUt I don't want Any spam!\n",
            "Spam Spam Spam Spam \n"
          ],
          "name": "stdout"
        }
      ]
    },
    {
      "cell_type": "code",
      "metadata": {
        "id": "tZGClg_sAAZG"
      },
      "source": [
        "spam_amount = 0"
      ],
      "execution_count": 4,
      "outputs": []
    },
    {
      "cell_type": "markdown",
      "metadata": {
        "id": "oJTFu7GhAG-v"
      },
      "source": [
        "**Variable assignment**: Here we create a variable called spam_amount and assign it the value of 0 using =, which is called the assignment operator.\n",
        "\n",
        "Aside: If you've programmed in certain other languages (like Java or C++), you might be noticing some things Python doesn't require us to do here:\n",
        "\n",
        "we don't need to \"declare\" spam_amount \n",
        "before assigning to it\n",
        "we don't need to tell Python what type of value spam_amount is going to refer to. In fact, we can even go on to reassign spam_amount to refer to a different sort of thing like a string or a boolean."
      ]
    },
    {
      "cell_type": "code",
      "metadata": {
        "colab": {
          "base_uri": "https://localhost:8080/"
        },
        "id": "6cq6JgKBAKBG",
        "outputId": "f91caf66-0a4e-43c1-848e-57b227f934f9"
      },
      "source": [
        "spam_amount = 0\n",
        "type(spam_amount)\n",
        "type(19.95)"
      ],
      "execution_count": 5,
      "outputs": [
        {
          "output_type": "execute_result",
          "data": {
            "text/plain": [
              "float"
            ]
          },
          "metadata": {
            "tags": []
          },
          "execution_count": 5
        }
      ]
    },
    {
      "cell_type": "code",
      "metadata": {
        "colab": {
          "base_uri": "https://localhost:8080/"
        },
        "id": "io3JPrYMA0R2",
        "outputId": "98bb8c07-bd8a-4b06-8f6e-d13f980bd042"
      },
      "source": [
        "print(5/2)\n",
        "print(6/2)\n",
        "print(5//2)\n",
        "print(6//2)"
      ],
      "execution_count": 7,
      "outputs": [
        {
          "output_type": "stream",
          "text": [
            "2.5\n",
            "3.0\n",
            "2\n",
            "3\n"
          ],
          "name": "stdout"
        }
      ]
    },
    {
      "cell_type": "code",
      "metadata": {
        "colab": {
          "base_uri": "https://localhost:8080/"
        },
        "id": "ofzmo4xKBE0V",
        "outputId": "c1976689-fbeb-4688-ab5a-1c9b8975c8f7"
      },
      "source": [
        "8-3+2\n"
      ],
      "execution_count": 11,
      "outputs": [
        {
          "output_type": "execute_result",
          "data": {
            "text/plain": [
              "7"
            ]
          },
          "metadata": {
            "tags": []
          },
          "execution_count": 11
        }
      ]
    },
    {
      "cell_type": "code",
      "metadata": {
        "colab": {
          "base_uri": "https://localhost:8080/"
        },
        "id": "WsCQMyJTBN9t",
        "outputId": "10571f98-de63-4982-ae82-f62776fdbc98"
      },
      "source": [
        "-3+4*2"
      ],
      "execution_count": 12,
      "outputs": [
        {
          "output_type": "execute_result",
          "data": {
            "text/plain": [
              "5"
            ]
          },
          "metadata": {
            "tags": []
          },
          "execution_count": 12
        }
      ]
    },
    {
      "cell_type": "code",
      "metadata": {
        "colab": {
          "base_uri": "https://localhost:8080/"
        },
        "id": "yjJSFpdZBSGG",
        "outputId": "c29d2bfb-80d8-44fb-b41c-0351da03a67a"
      },
      "source": [
        "hat_height_cm = 25\n",
        "my_height_cm = 190\n",
        "# How tall am I, in meters, when wearing my hat?\n",
        "total_height_meters = hat_height_cm + my_height_cm / 100\n",
        "print(\"Height in meters =\", total_height_meters, \"?\")"
      ],
      "execution_count": 13,
      "outputs": [
        {
          "output_type": "stream",
          "text": [
            "Height in meters = 26.9 ?\n"
          ],
          "name": "stdout"
        }
      ]
    },
    {
      "cell_type": "code",
      "metadata": {
        "colab": {
          "base_uri": "https://localhost:8080/"
        },
        "id": "IiS2XfkVBv8e",
        "outputId": "cf9e42e6-9193-4dd9-f7b4-74d84c368386"
      },
      "source": [
        "total_height_meters = (hat_height_cm + my_height_cm) / 100\n",
        "print(\"Height in meters =\", total_height_meters)"
      ],
      "execution_count": 14,
      "outputs": [
        {
          "output_type": "stream",
          "text": [
            "Height in meters = 2.15\n"
          ],
          "name": "stdout"
        }
      ]
    },
    {
      "cell_type": "markdown",
      "metadata": {
        "id": "6Ize37dHCKkc"
      },
      "source": [
        "**Builtin functions for working with numbers**\n",
        "min and max return the minimum and maximum of their arguments, respectively..."
      ]
    },
    {
      "cell_type": "code",
      "metadata": {
        "colab": {
          "base_uri": "https://localhost:8080/"
        },
        "id": "ZDHZDbyoCRF-",
        "outputId": "0b042dde-6117-4be2-e1f6-5c47dc622a2f"
      },
      "source": [
        "print(min(1,2,3))\n",
        "print(max(1,2,3))"
      ],
      "execution_count": 16,
      "outputs": [
        {
          "output_type": "stream",
          "text": [
            "1\n",
            "3\n"
          ],
          "name": "stdout"
        }
      ]
    },
    {
      "cell_type": "markdown",
      "metadata": {
        "id": "9a-INMPwCh5E"
      },
      "source": [
        "abs returns the absolute value of it argument:"
      ]
    },
    {
      "cell_type": "code",
      "metadata": {
        "colab": {
          "base_uri": "https://localhost:8080/"
        },
        "id": "V7Pdy7A5CmNF",
        "outputId": "ad4a09fd-cf4f-440e-f6de-54d3dcf026cd"
      },
      "source": [
        "print(abs(32))\n",
        "print(abs(-32))"
      ],
      "execution_count": 17,
      "outputs": [
        {
          "output_type": "stream",
          "text": [
            "32\n",
            "32\n"
          ],
          "name": "stdout"
        }
      ]
    },
    {
      "cell_type": "code",
      "metadata": {
        "id": "qEmKnp0XDwQ1"
      },
      "source": [
        "print(float(10))\n",
        "print(int(3.33))\n",
        "#They can even be called on strings!\n",
        "print(int('807') + 1)"
      ],
      "execution_count": null,
      "outputs": []
    }
  ]
}