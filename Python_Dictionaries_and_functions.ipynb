{
  "nbformat": 4,
  "nbformat_minor": 0,
  "metadata": {
    "colab": {
      "name": "Python Dictionaries and functions.ipynb",
      "provenance": [],
      "authorship_tag": "ABX9TyOXwjyZrwxcfI4dOI+z2ug7",
      "include_colab_link": true
    },
    "kernelspec": {
      "name": "python3",
      "display_name": "Python 3"
    },
    "language_info": {
      "name": "python"
    }
  },
  "cells": [
    {
      "cell_type": "markdown",
      "metadata": {
        "id": "view-in-github",
        "colab_type": "text"
      },
      "source": [
        "<a href=\"https://colab.research.google.com/github/drm1072/How-to-Create-a-Candlestick-Chart-using-Python/blob/main/Python_Dictionaries_and_functions.ipynb\" target=\"_parent\"><img src=\"https://colab.research.google.com/assets/colab-badge.svg\" alt=\"Open In Colab\"/></a>"
      ]
    },
    {
      "cell_type": "code",
      "metadata": {
        "id": "Zq6oV7OkrSEl"
      },
      "source": [
        ""
      ],
      "execution_count": 1,
      "outputs": []
    },
    {
      "cell_type": "code",
      "metadata": {
        "id": "zOteesX9CQXG"
      },
      "source": [
        "#The def keyword signifies that a function is about to be defined.\n",
        "#Next is the function name (in this case my function name is Hats)\n",
        "#Next is what is called a \"Parameter\" within ( ) this could be none or how many you input (in this case I only have number of hats)\n",
        "#Now the : tells the Python interpreter that you're about to provide the lines(s) of code making up the main body of the function.\n",
        "#Return button ends the statement\n",
        "#Next is the function's parameter list, which are the parameters the function will pass inside the when the function is ran.\n",
        "#In our example our body is just one line of code: return number_of_hats * 5\n",
        "#I chose five because I have 5 hats\n",
        "def shoes(number_of_shoes):\n",
        "  return number_of_shoes*3"
      ],
      "execution_count": 2,
      "outputs": []
    },
    {
      "cell_type": "code",
      "metadata": {
        "id": "AJwqddK8ttOh"
      },
      "source": [
        "Shoe_prices = {'Nike': 100,\n",
        "               'Reebok': 50,\n",
        "               'Adidas': 70,\n",
        "               }"
      ],
      "execution_count": 3,
      "outputs": []
    },
    {
      "cell_type": "code",
      "metadata": {
        "id": "z7uYUxvquEtQ"
      },
      "source": [
        "def prices(Shoe_brands):\n",
        "  if Shoe_brands in Shoe_prices:\n",
        "    return 'The Shoe price for {} is ${}'.format(Shoe_brands, Shoe_prices[Shoe_brands])"
      ],
      "execution_count": 4,
      "outputs": []
    },
    {
      "cell_type": "code",
      "metadata": {
        "colab": {
          "base_uri": "https://localhost:8080/",
          "height": 35
        },
        "id": "b09-h-SXuxaR",
        "outputId": "d200b2ff-2a52-4423-f86f-1a86565bf1cf"
      },
      "source": [
        "prices('Nike')"
      ],
      "execution_count": 5,
      "outputs": [
        {
          "output_type": "execute_result",
          "data": {
            "application/vnd.google.colaboratory.intrinsic+json": {
              "type": "string"
            },
            "text/plain": [
              "'The Shoe price for Nike is $100'"
            ]
          },
          "metadata": {
            "tags": []
          },
          "execution_count": 5
        }
      ]
    },
    {
      "cell_type": "code",
      "metadata": {
        "id": "Bwr4dD2Cu69B"
      },
      "source": [
        "def prices(Shoe_brands):\n",
        "  if Shoe_brands in Shoe_prices:\n",
        "    return 'The Shoe price for {} is ${}'.format(Shoe_brands, Shoe_prices[Shoe_brands])\n",
        "  else:\n",
        "    return 'The shoe price for {} is not available'.format(Shoe_brands)  "
      ],
      "execution_count": 6,
      "outputs": []
    },
    {
      "cell_type": "code",
      "metadata": {
        "colab": {
          "base_uri": "https://localhost:8080/",
          "height": 35
        },
        "id": "cLTZE2Xiv2sD",
        "outputId": "eec9cd76-11fc-4bb6-fec1-a49d89ccbf52"
      },
      "source": [
        "prices(\"puma\")"
      ],
      "execution_count": 7,
      "outputs": [
        {
          "output_type": "execute_result",
          "data": {
            "application/vnd.google.colaboratory.intrinsic+json": {
              "type": "string"
            },
            "text/plain": [
              "'The shoe price for puma is not available'"
            ]
          },
          "metadata": {
            "tags": []
          },
          "execution_count": 7
        }
      ]
    },
    {
      "cell_type": "code",
      "metadata": {
        "id": "BXY3MILTv8tC"
      },
      "source": [
        "def prices(Shoe_brands):\n",
        "  return 'The price for {} is {}'.format(Shoe_brands,Shoe_prices.get(Shoe_brands, 'not available'))"
      ],
      "execution_count": 8,
      "outputs": []
    },
    {
      "cell_type": "code",
      "metadata": {
        "colab": {
          "base_uri": "https://localhost:8080/",
          "height": 35
        },
        "id": "zAdqWIIiwcIK",
        "outputId": "193a3087-5488-46ec-8db5-183d19631725"
      },
      "source": [
        "prices('puma')"
      ],
      "execution_count": 9,
      "outputs": [
        {
          "output_type": "execute_result",
          "data": {
            "application/vnd.google.colaboratory.intrinsic+json": {
              "type": "string"
            },
            "text/plain": [
              "'The price for puma is not available'"
            ]
          },
          "metadata": {
            "tags": []
          },
          "execution_count": 9
        }
      ]
    },
    {
      "cell_type": "code",
      "metadata": {
        "colab": {
          "base_uri": "https://localhost:8080/"
        },
        "id": "zdeo6K2cwiXi",
        "outputId": "0c60195e-88bb-4aa9-eff3-0145aabc5899"
      },
      "source": [
        "'puma' in Shoe_prices"
      ],
      "execution_count": 10,
      "outputs": [
        {
          "output_type": "execute_result",
          "data": {
            "text/plain": [
              "False"
            ]
          },
          "metadata": {
            "tags": []
          },
          "execution_count": 10
        }
      ]
    },
    {
      "cell_type": "code",
      "metadata": {
        "colab": {
          "base_uri": "https://localhost:8080/"
        },
        "id": "oysrDrdXwnph",
        "outputId": "95f1befa-4618-434b-8972-d3d60a796e1e"
      },
      "source": [
        "len(Shoe_prices)"
      ],
      "execution_count": 11,
      "outputs": [
        {
          "output_type": "execute_result",
          "data": {
            "text/plain": [
              "3"
            ]
          },
          "metadata": {
            "tags": []
          },
          "execution_count": 11
        }
      ]
    },
    {
      "cell_type": "code",
      "metadata": {
        "colab": {
          "base_uri": "https://localhost:8080/"
        },
        "id": "rYY5pzwI1Tpl",
        "outputId": "813e8d30-db7c-43e1-bd02-9cdf30516859"
      },
      "source": [
        "list(Shoe_prices.keys())"
      ],
      "execution_count": 12,
      "outputs": [
        {
          "output_type": "execute_result",
          "data": {
            "text/plain": [
              "['Nike', 'Reebok', 'Adidas']"
            ]
          },
          "metadata": {
            "tags": []
          },
          "execution_count": 12
        }
      ]
    },
    {
      "cell_type": "code",
      "metadata": {
        "colab": {
          "base_uri": "https://localhost:8080/"
        },
        "id": "lwhI39T31g5i",
        "outputId": "8fd69dc6-60e4-4f1d-af2a-4435a0f65734"
      },
      "source": [
        "list(Shoe_prices.values())"
      ],
      "execution_count": 13,
      "outputs": [
        {
          "output_type": "execute_result",
          "data": {
            "text/plain": [
              "[100, 50, 70]"
            ]
          },
          "metadata": {
            "tags": []
          },
          "execution_count": 13
        }
      ]
    },
    {
      "cell_type": "code",
      "metadata": {
        "id": "koQcxWfG1xli"
      },
      "source": [
        "#the .clear() empties out our dictionary\n",
        "Shoe_prices.clear()"
      ],
      "execution_count": 14,
      "outputs": []
    },
    {
      "cell_type": "code",
      "metadata": {
        "colab": {
          "base_uri": "https://localhost:8080/",
          "height": 180
        },
        "id": "AdIMjpe71_r0",
        "outputId": "63f2dc25-3e74-46ee-c958-acf2da30e543"
      },
      "source": [
        "#The .pop function removes a designated key value pair\n",
        "Shoe_prices .pop('Reebok')"
      ],
      "execution_count": 15,
      "outputs": [
        {
          "output_type": "error",
          "ename": "KeyError",
          "evalue": "ignored",
          "traceback": [
            "\u001b[0;31m---------------------------------------------------------------------------\u001b[0m",
            "\u001b[0;31mKeyError\u001b[0m                                  Traceback (most recent call last)",
            "\u001b[0;32m<ipython-input-15-dfa5e465c09e>\u001b[0m in \u001b[0;36m<module>\u001b[0;34m()\u001b[0m\n\u001b[1;32m      1\u001b[0m \u001b[0;31m#The .pop function removes a designated key value pair\u001b[0m\u001b[0;34m\u001b[0m\u001b[0;34m\u001b[0m\u001b[0;34m\u001b[0m\u001b[0m\n\u001b[0;32m----> 2\u001b[0;31m \u001b[0mShoe_prices\u001b[0m\u001b[0;34m.\u001b[0m\u001b[0mpop\u001b[0m \u001b[0;34m(\u001b[0m\u001b[0;34m'Reebok'\u001b[0m\u001b[0;34m)\u001b[0m\u001b[0;34m\u001b[0m\u001b[0;34m\u001b[0m\u001b[0m\n\u001b[0m",
            "\u001b[0;31mKeyError\u001b[0m: 'Reebok'"
          ]
        }
      ]
    },
    {
      "cell_type": "code",
      "metadata": {
        "id": "I1LbrR2Q2e8K"
      },
      "source": [
        "Shoe_prices"
      ],
      "execution_count": null,
      "outputs": []
    },
    {
      "cell_type": "code",
      "metadata": {
        "id": "4dcuN-pt2mqk"
      },
      "source": [
        "#This function removes the last value added to the dictionary based on whats left\n",
        "Shoe_prices.popitem()"
      ],
      "execution_count": null,
      "outputs": []
    },
    {
      "cell_type": "code",
      "metadata": {
        "id": "Abc8nqgv26sc"
      },
      "source": [
        "Shoe_prices"
      ],
      "execution_count": null,
      "outputs": []
    },
    {
      "cell_type": "code",
      "metadata": {
        "id": "D-9kCaBi29lj"
      },
      "source": [
        "Shoe_prices = {'Nike': 100, 'Timberland': 130, 'Converse': 20}\n",
        "New_Shoe_prices = {'UnderArmour': 200, 'Skechers': 400}"
      ],
      "execution_count": null,
      "outputs": []
    },
    {
      "cell_type": "code",
      "metadata": {
        "id": "3VRnDmym3bYk"
      },
      "source": [
        "Shoe_prices.update(New_Shoe_prices)"
      ],
      "execution_count": null,
      "outputs": []
    },
    {
      "cell_type": "code",
      "metadata": {
        "id": "ETHneKIt3fnU"
      },
      "source": [
        "Shoe_prices"
      ],
      "execution_count": null,
      "outputs": []
    },
    {
      "cell_type": "code",
      "metadata": {
        "id": "-31Bo7q73hB8"
      },
      "source": [
        "Shoe_prices.update(New_Shoe_prices)"
      ],
      "execution_count": null,
      "outputs": []
    },
    {
      "cell_type": "code",
      "metadata": {
        "id": "AvB1Bjjo3nB8"
      },
      "source": [
        "Shoe_prices"
      ],
      "execution_count": null,
      "outputs": []
    },
    {
      "cell_type": "code",
      "metadata": {
        "id": "tuxIQD353t6X"
      },
      "source": [
        "Shoe_prices.popitem()"
      ],
      "execution_count": null,
      "outputs": []
    },
    {
      "cell_type": "code",
      "metadata": {
        "id": "NxcD_ZV73xxr"
      },
      "source": [
        "Shoe_prices"
      ],
      "execution_count": null,
      "outputs": []
    },
    {
      "cell_type": "code",
      "metadata": {
        "id": "772VaeRx3z48"
      },
      "source": [
        "Shoe_prices.clear()"
      ],
      "execution_count": null,
      "outputs": []
    },
    {
      "cell_type": "code",
      "metadata": {
        "id": "LtHRiBRP33nr"
      },
      "source": [
        "Shoe_prices"
      ],
      "execution_count": null,
      "outputs": []
    },
    {
      "cell_type": "code",
      "metadata": {
        "id": "ZrchOcNb36QN"
      },
      "source": [
        "del Shoe_prices"
      ],
      "execution_count": null,
      "outputs": []
    },
    {
      "cell_type": "code",
      "metadata": {
        "id": "eL8P-fC43_AD"
      },
      "source": [
        "def Math_example(x,y): #in this example lets create 2 parameters or arguments\n",
        "return x + y"
      ],
      "execution_count": null,
      "outputs": []
    },
    {
      "cell_type": "code",
      "metadata": {
        "id": "bBBMG2OvOiNA"
      },
      "source": [
        "print(Math_example)"
      ],
      "execution_count": null,
      "outputs": []
    },
    {
      "cell_type": "code",
      "metadata": {
        "id": "kqjLvkfrOo2P"
      },
      "source": [
        "Math=Math_example(2,4)"
      ],
      "execution_count": null,
      "outputs": []
    },
    {
      "cell_type": "code",
      "metadata": {
        "id": "Dj35bejOOzCW"
      },
      "source": [
        "print(Math)"
      ],
      "execution_count": null,
      "outputs": []
    },
    {
      "cell_type": "code",
      "metadata": {
        "id": "al7BQpteO17G"
      },
      "source": [
        "def Arithmetic(Mathematics, A, B):\n",
        "    if Mathematics == 'addition':\n",
        "      return A+B\n",
        "    elif Mathematics == 'subtract':\n",
        "      return A-B\n",
        "    elif Mathematics == 'multiply':\n",
        "      return A * B \n",
        "    elif Mathematics == 'division':\n",
        "     return A/B   "
      ],
      "execution_count": null,
      "outputs": []
    },
    {
      "cell_type": "code",
      "metadata": {
        "id": "BOPJT8Z7P5M4"
      },
      "source": [
        "Arithmetic('addition', 16, 6)"
      ],
      "execution_count": null,
      "outputs": []
    },
    {
      "cell_type": "code",
      "metadata": {
        "id": "TYVCtZbOQGLn"
      },
      "source": [
        "#Convert a List into a Dictionary\n",
        "List=[['Age',33], ['Name', 'Terrence'], ['Food', 'Jamaican']]"
      ],
      "execution_count": null,
      "outputs": []
    },
    {
      "cell_type": "code",
      "metadata": {
        "id": "zNOEcGq2QyRH"
      },
      "source": [
        "List"
      ],
      "execution_count": null,
      "outputs": []
    },
    {
      "cell_type": "code",
      "metadata": {
        "id": "feYE1Z9vQ2ig"
      },
      "source": [
        "Dictionary=dict(List)"
      ],
      "execution_count": null,
      "outputs": []
    },
    {
      "cell_type": "code",
      "metadata": {
        "id": "XMfW0llWQ7vw"
      },
      "source": [
        "Dictionary"
      ],
      "execution_count": null,
      "outputs": []
    },
    {
      "cell_type": "code",
      "metadata": {
        "id": "hckR_LiwQ-QB"
      },
      "source": [
        "#Lets Create a list within Lists called a \"Nested List\"\n",
        "Money = [\"Coins\", [\"Pesos\", \"Dollars\"], \"Bitcoin\"]"
      ],
      "execution_count": null,
      "outputs": []
    },
    {
      "cell_type": "code",
      "metadata": {
        "id": "JUcAw7tzRTaM"
      },
      "source": [
        "Money"
      ],
      "execution_count": null,
      "outputs": []
    },
    {
      "cell_type": "code",
      "metadata": {
        "id": "DcJT0FfARXxV"
      },
      "source": [
        "#This code allows us to locate information with lists\n",
        "#The number 1 in the first bracket pulls the second value which has been nested together as one value\n",
        "#Then the number 1 pulls out the second value within the list\n",
        "Money = [\"Coins\", [\"Pesos\", \"Dollars\"], \"Bitcoin\"]\n",
        "print(Money[1][1])"
      ],
      "execution_count": null,
      "outputs": []
    },
    {
      "cell_type": "code",
      "metadata": {
        "id": "91-zqoS7SKIy"
      },
      "source": [
        "#Add another data point to list\n",
        "Money.append(\"Yen\")\n",
        "print(Money)"
      ],
      "execution_count": null,
      "outputs": []
    },
    {
      "cell_type": "code",
      "metadata": {
        "id": "rq3QpgRfSZUh"
      },
      "source": [
        "#List have a particular length.\n",
        "Currency = len(Money)"
      ],
      "execution_count": null,
      "outputs": []
    },
    {
      "cell_type": "code",
      "metadata": {
        "id": "1nz00NuySibF"
      },
      "source": [
        "#Now it shows us 4 values\n",
        "Currency"
      ],
      "execution_count": null,
      "outputs": []
    },
    {
      "cell_type": "code",
      "metadata": {
        "id": "IpfXoQH0Som5"
      },
      "source": [
        "print(\"You have {} different currencies in the bank\".format(Currency))"
      ],
      "execution_count": null,
      "outputs": []
    },
    {
      "cell_type": "code",
      "metadata": {
        "id": "vNOdewI9S2vw"
      },
      "source": [
        "Family = { 'Sisters': 1,\n",
        "          'Brothers': 1,\n",
        "          'Children': 1\n",
        "          }"
      ],
      "execution_count": null,
      "outputs": []
    },
    {
      "cell_type": "code",
      "metadata": {
        "id": "6jJGIi6kTLxP"
      },
      "source": [
        "#Checking the type\n",
        "type(Family)"
      ],
      "execution_count": null,
      "outputs": []
    },
    {
      "cell_type": "code",
      "metadata": {
        "id": "6wq1FQSgTWyV"
      },
      "source": [
        "# Checking a single value\n",
        "Family ['Brothers']"
      ],
      "execution_count": null,
      "outputs": []
    },
    {
      "cell_type": "code",
      "metadata": {
        "id": "5D2Q-3lcTfla"
      },
      "source": [
        "# Updating a value\n",
        "Family ['Children'] +=5\n",
        "print(Family)"
      ],
      "execution_count": null,
      "outputs": []
    },
    {
      "cell_type": "code",
      "metadata": {
        "id": "ik37jc9ETuXQ"
      },
      "source": [
        "#Adding a new pair\n",
        "Family ['Wife'] = 1\n",
        "print(Family)"
      ],
      "execution_count": null,
      "outputs": []
    },
    {
      "cell_type": "code",
      "metadata": {
        "id": "E_2SRyhsT6aS"
      },
      "source": [
        "#Here's a super simple dictionary\n",
        "#Dictionaries are used heavily in NoSQL processing\n",
        "Consultant = {\"name\": \"Dadrian\",\n",
        "              \"profession\": \"Data Scientist\"}\n",
        "Customer = {\"Company\": None,\n",
        "            \"Business Industry\": \"Sports\",\n",
        "            \"Company Locations\": 4,\n",
        "            \"Employee Count\": 105,\n",
        "            }"
      ],
      "execution_count": null,
      "outputs": []
    },
    {
      "cell_type": "code",
      "metadata": {
        "id": "L3P2uQt6UCct"
      },
      "source": [
        "#We modify dictionary values just like we access them.\n",
        "if Customer[\"Company\"] is None:\n",
        "    Customer[\"Company\"] = input(\"Create a dba Company name for me to register?\"\"\")\n",
        "    print(\"Great nice to meet you, my name is {}\".format(Consultant[\"name\"]))"
      ],
      "execution_count": null,
      "outputs": []
    },
    {
      "cell_type": "code",
      "metadata": {
        "id": "mRWckyNKU1kw"
      },
      "source": [
        "Customer[\"Business Industry\"] = \"Healthcare\"\n",
        "print(Customer[\"Business Industry\"])"
      ],
      "execution_count": null,
      "outputs": []
    },
    {
      "cell_type": "code",
      "metadata": {
        "id": "3M6n8kUuVFcF"
      },
      "source": [
        ""
      ],
      "execution_count": null,
      "outputs": []
    }
  ]
}