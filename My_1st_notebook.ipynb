{
  "nbformat": 4,
  "nbformat_minor": 0,
  "metadata": {
    "colab": {
      "name": "My 1st notebook.ipynb",
      "provenance": [],
      "authorship_tag": "ABX9TyNKbrDPOoURI5CQJgHgKQcO",
      "include_colab_link": true
    },
    "kernelspec": {
      "name": "python3",
      "display_name": "Python 3"
    },
    "language_info": {
      "name": "python"
    }
  },
  "cells": [
    {
      "cell_type": "markdown",
      "metadata": {
        "id": "view-in-github",
        "colab_type": "text"
      },
      "source": [
        "<a href=\"https://colab.research.google.com/github/drm1072/Workload-DRM/blob/main/My_1st_notebook.ipynb\" target=\"_parent\"><img src=\"https://colab.research.google.com/assets/colab-badge.svg\" alt=\"Open In Colab\"/></a>"
      ]
    },
    {
      "cell_type": "markdown",
      "metadata": {
        "id": "kheAMcu25JLw"
      },
      "source": [
        "Example text goes here."
      ]
    },
    {
      "cell_type": "markdown",
      "metadata": {
        "id": "LS3J0tiL7Bun"
      },
      "source": [
        "#Heading #1\n",
        "This represents the the contents of heading 1"
      ]
    },
    {
      "cell_type": "code",
      "metadata": {
        "id": "LFSaboCI7Ldw"
      },
      "source": [
        "a=1"
      ],
      "execution_count": 1,
      "outputs": []
    },
    {
      "cell_type": "code",
      "metadata": {
        "id": "_afAsfvw7OmY"
      },
      "source": [
        "b='data'"
      ],
      "execution_count": 2,
      "outputs": []
    },
    {
      "cell_type": "code",
      "metadata": {
        "id": "RdsILSKD7bPG"
      },
      "source": [
        "c= [1,2,3,4,5]"
      ],
      "execution_count": 3,
      "outputs": []
    },
    {
      "cell_type": "code",
      "metadata": {
        "id": "xfbgDiVi7nFf"
      },
      "source": [
        "d= ['John', 'Sally', 'Joe', 'Susy', 'Jack']"
      ],
      "execution_count": 4,
      "outputs": []
    },
    {
      "cell_type": "code",
      "metadata": {
        "colab": {
          "base_uri": "https://localhost:8080/"
        },
        "id": "hADuYirz71ud",
        "outputId": "a65513df-829d-414b-8e81-b6753fd09b4b"
      },
      "source": [
        "for i,j in zip(c,d):\n",
        "  if i == 1:\n",
        "    print(j + ' has ' + str(1) + ' car. ')\n",
        "  else:\n",
        "    print(j + ' has ' + str(1) + ' cars. ')  "
      ],
      "execution_count": 5,
      "outputs": [
        {
          "output_type": "stream",
          "text": [
            "John has 1 car. \n",
            "Sally has 1 cars. \n",
            "Joe has 1 cars. \n",
            "Susy has 1 cars. \n",
            "Jack has 1 cars. \n"
          ],
          "name": "stdout"
        }
      ]
    },
    {
      "cell_type": "markdown",
      "metadata": {
        "id": "Y-uasmPS9Atw"
      },
      "source": [
        "## Heading 1.1 \n",
        "\n",
        "Yeah YEah Yeah"
      ]
    },
    {
      "cell_type": "markdown",
      "metadata": {
        "id": "aEgPgGhu9bHd"
      },
      "source": [
        "###Heading 1.2"
      ]
    },
    {
      "cell_type": "markdown",
      "metadata": {
        "id": "oA-NDxqk91pY"
      },
      "source": [
        "#### Heading 1.3"
      ]
    },
    {
      "cell_type": "code",
      "metadata": {
        "id": "1Nk0YvbM9fIh"
      },
      "source": [
        ""
      ],
      "execution_count": 5,
      "outputs": []
    },
    {
      "cell_type": "code",
      "metadata": {
        "id": "qqN2Zx159SRa"
      },
      "source": [
        "var1 = 2"
      ],
      "execution_count": 6,
      "outputs": []
    },
    {
      "cell_type": "markdown",
      "metadata": {
        "id": "T-qlhDUb-UB3"
      },
      "source": [
        "# Import Libraries\n",
        "\n",
        "Here, we import the neccessary libraries used in this notebook"
      ]
    },
    {
      "cell_type": "code",
      "metadata": {
        "id": "3GFHw5Mk97-T"
      },
      "source": [
        "import pandas as pd\n",
        "import seaborn as sns\n",
        "import numpy as np\n",
        "from sklearn import svm\n",
        "import matplotlib.pyplot as plt\n"
      ],
      "execution_count": 7,
      "outputs": []
    },
    {
      "cell_type": "code",
      "metadata": {
        "colab": {
          "base_uri": "https://localhost:8080/"
        },
        "id": "8eMVlNxf-hFF",
        "outputId": "49372472-61ac-48cd-8a47-df8741753318"
      },
      "source": [
        "! pip install py3dmol"
      ],
      "execution_count": 8,
      "outputs": [
        {
          "output_type": "stream",
          "text": [
            "Requirement already satisfied: py3dmol in /usr/local/lib/python3.7/dist-packages (0.9.1)\n"
          ],
          "name": "stdout"
        }
      ]
    },
    {
      "cell_type": "code",
      "metadata": {
        "id": "YFUYmflGFMPd"
      },
      "source": [
        "import py3Dmol"
      ],
      "execution_count": 12,
      "outputs": []
    },
    {
      "cell_type": "code",
      "metadata": {
        "id": "nEVebi31FrAW"
      },
      "source": [
        ""
      ],
      "execution_count": null,
      "outputs": []
    },
    {
      "cell_type": "code",
      "metadata": {
        "scrolled": false,
        "id": "oMtjSTR0Gx5O",
        "colab": {
          "base_uri": "https://localhost:8080/",
          "height": 514
        },
        "outputId": "b2b68be9-7d2d-4e14-fb35-84f595b47efa"
      },
      "source": [
        "p = py3Dmol.view(query='mmtf:1ycr')\n",
        "p.setStyle({'cartoon': {'color':'spectrum'}})\n",
        "p"
      ],
      "execution_count": 13,
      "outputs": [
        {
          "output_type": "display_data",
          "data": {
            "application/3dmoljs_load.v0": "<div id=\"3dmolviewer_16187008524555724\"  style=\"position: relative; width: 640px; height: 480px\">\n        <p id=\"3dmolwarning_16187008524555724\" style=\"background-color:#ffcccc;color:black\">You appear to be running in JupyterLab (or JavaScript failed to load for some other reason).  You need to install the 3dmol extension: <br>\n        <tt>jupyter labextension install jupyterlab_3dmol</tt></p>\n        </div>\n<script>\n\nvar loadScriptAsync = function(uri){\n  return new Promise((resolve, reject) => {\n    var tag = document.createElement('script');\n    tag.src = uri;\n    tag.async = true;\n    tag.onload = () => {\n      resolve();\n    };\n  var firstScriptTag = document.getElementsByTagName('script')[0];\n  firstScriptTag.parentNode.insertBefore(tag, firstScriptTag);\n});\n};\n\nif(typeof $3Dmolpromise === 'undefined') {\n$3Dmolpromise = null;\n  $3Dmolpromise = loadScriptAsync('https://3dmol.org/build/3Dmol.js');\n}\n\nvar viewer_16187008524555724 = null;\nvar warn = document.getElementById(\"3dmolwarning_16187008524555724\");\nif(warn) {\n    warn.parentNode.removeChild(warn);\n}\n$3Dmolpromise.then(function() {\nviewer_16187008524555724 = $3Dmol.createViewer($(\"#3dmolviewer_16187008524555724\"),{backgroundColor:\"white\"});\n$3Dmol.download(\"mmtf:1ycr\", viewer_16187008524555724, {}, function() {\nviewer_16187008524555724.zoomTo();\n\tviewer_16187008524555724.setStyle({\"cartoon\": {\"color\": \"spectrum\"}});\nviewer_16187008524555724.render();\n})\n});\n</script>",
            "text/html": [
              "<div id=\"3dmolviewer_16187008524555724\"  style=\"position: relative; width: 640px; height: 480px\">\n",
              "        <p id=\"3dmolwarning_16187008524555724\" style=\"background-color:#ffcccc;color:black\">You appear to be running in JupyterLab (or JavaScript failed to load for some other reason).  You need to install the 3dmol extension: <br>\n",
              "        <tt>jupyter labextension install jupyterlab_3dmol</tt></p>\n",
              "        </div>\n",
              "<script>\n",
              "\n",
              "var loadScriptAsync = function(uri){\n",
              "  return new Promise((resolve, reject) => {\n",
              "    var tag = document.createElement('script');\n",
              "    tag.src = uri;\n",
              "    tag.async = true;\n",
              "    tag.onload = () => {\n",
              "      resolve();\n",
              "    };\n",
              "  var firstScriptTag = document.getElementsByTagName('script')[0];\n",
              "  firstScriptTag.parentNode.insertBefore(tag, firstScriptTag);\n",
              "});\n",
              "};\n",
              "\n",
              "if(typeof $3Dmolpromise === 'undefined') {\n",
              "$3Dmolpromise = null;\n",
              "  $3Dmolpromise = loadScriptAsync('https://3dmol.org/build/3Dmol.js');\n",
              "}\n",
              "\n",
              "var viewer_16187008524555724 = null;\n",
              "var warn = document.getElementById(\"3dmolwarning_16187008524555724\");\n",
              "if(warn) {\n",
              "    warn.parentNode.removeChild(warn);\n",
              "}\n",
              "$3Dmolpromise.then(function() {\n",
              "viewer_16187008524555724 = $3Dmol.createViewer($(\"#3dmolviewer_16187008524555724\"),{backgroundColor:\"white\"});\n",
              "$3Dmol.download(\"mmtf:1ycr\", viewer_16187008524555724, {}, function() {\n",
              "viewer_16187008524555724.zoomTo();\n",
              "\tviewer_16187008524555724.setStyle({\"cartoon\": {\"color\": \"spectrum\"}});\n",
              "viewer_16187008524555724.render();\n",
              "})\n",
              "});\n",
              "</script>"
            ]
          },
          "metadata": {
            "tags": []
          }
        },
        {
          "output_type": "execute_result",
          "data": {
            "text/plain": [
              "<py3Dmol.view at 0x7f6eb88bb3d0>"
            ]
          },
          "metadata": {
            "tags": []
          },
          "execution_count": 13
        }
      ]
    }
  ]
}