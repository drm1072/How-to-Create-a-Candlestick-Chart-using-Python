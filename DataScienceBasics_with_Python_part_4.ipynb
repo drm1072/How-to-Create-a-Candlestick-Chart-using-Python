{
  "nbformat": 4,
  "nbformat_minor": 0,
  "metadata": {
    "colab": {
      "name": "DataScienceBasics with Python part 4.ipynb",
      "provenance": [],
      "authorship_tag": "ABX9TyMapKh1h0d1osSCSzNwm4vy",
      "include_colab_link": true
    },
    "kernelspec": {
      "name": "python3",
      "display_name": "Python 3"
    },
    "language_info": {
      "name": "python"
    }
  },
  "cells": [
    {
      "cell_type": "markdown",
      "metadata": {
        "id": "view-in-github",
        "colab_type": "text"
      },
      "source": [
        "<a href=\"https://colab.research.google.com/github/drm1072/Workload-DRM/blob/main/DataScienceBasics_with_Python_part_4.ipynb\" target=\"_parent\"><img src=\"https://colab.research.google.com/assets/colab-badge.svg\" alt=\"Open In Colab\"/></a>"
      ]
    },
    {
      "cell_type": "code",
      "metadata": {
        "id": "PQ3jCvCop19e"
      },
      "source": [
        "import numpy as np  #Numpy provides fast mathematical function processing\n",
        "#We use np as a quick way to execute code same thing as pandas pd\n",
        "import pandas as pd #Used for high level Data Indexing processes"
      ],
      "execution_count": 2,
      "outputs": []
    },
    {
      "cell_type": "code",
      "metadata": {
        "id": "HTzLVkvNt1Ks"
      },
      "source": [
        "#1st number represents (rows/attributes)\n",
        "#2nd number represents (features/columns)\n",
        "#the columns must match the column number in the list\n",
        "#random gives us random numbers\n",
        "Newdata = pd.DataFrame(np.random.randn(22, 4), columns=['Numbers1', 'Numbers2', 'Numbers3', 'Numbers4'])"
      ],
      "execution_count": 3,
      "outputs": []
    },
    {
      "cell_type": "code",
      "metadata": {
        "colab": {
          "base_uri": "https://localhost:8080/",
          "height": 698
        },
        "id": "_CpLOJZ6uwrb",
        "outputId": "48021781-5c0f-4e57-f3ce-434626ea6cd7"
      },
      "source": [
        "#This gives us random numbers within 4 columns and 22 rows\n",
        "Newdata"
      ],
      "execution_count": 4,
      "outputs": [
        {
          "output_type": "execute_result",
          "data": {
            "text/html": [
              "<div>\n",
              "<style scoped>\n",
              "    .dataframe tbody tr th:only-of-type {\n",
              "        vertical-align: middle;\n",
              "    }\n",
              "\n",
              "    .dataframe tbody tr th {\n",
              "        vertical-align: top;\n",
              "    }\n",
              "\n",
              "    .dataframe thead th {\n",
              "        text-align: right;\n",
              "    }\n",
              "</style>\n",
              "<table border=\"1\" class=\"dataframe\">\n",
              "  <thead>\n",
              "    <tr style=\"text-align: right;\">\n",
              "      <th></th>\n",
              "      <th>Numbers1</th>\n",
              "      <th>Numbers2</th>\n",
              "      <th>Numbers3</th>\n",
              "      <th>Numbers4</th>\n",
              "    </tr>\n",
              "  </thead>\n",
              "  <tbody>\n",
              "    <tr>\n",
              "      <th>0</th>\n",
              "      <td>0.987705</td>\n",
              "      <td>-1.037676</td>\n",
              "      <td>-1.582057</td>\n",
              "      <td>0.391924</td>\n",
              "    </tr>\n",
              "    <tr>\n",
              "      <th>1</th>\n",
              "      <td>0.554321</td>\n",
              "      <td>-1.009975</td>\n",
              "      <td>-0.160262</td>\n",
              "      <td>-2.092348</td>\n",
              "    </tr>\n",
              "    <tr>\n",
              "      <th>2</th>\n",
              "      <td>-0.501563</td>\n",
              "      <td>0.622408</td>\n",
              "      <td>-0.965643</td>\n",
              "      <td>-0.522200</td>\n",
              "    </tr>\n",
              "    <tr>\n",
              "      <th>3</th>\n",
              "      <td>0.788007</td>\n",
              "      <td>-0.175884</td>\n",
              "      <td>1.170487</td>\n",
              "      <td>-1.080783</td>\n",
              "    </tr>\n",
              "    <tr>\n",
              "      <th>4</th>\n",
              "      <td>-0.639451</td>\n",
              "      <td>-0.288055</td>\n",
              "      <td>0.972606</td>\n",
              "      <td>-1.683573</td>\n",
              "    </tr>\n",
              "    <tr>\n",
              "      <th>5</th>\n",
              "      <td>1.054618</td>\n",
              "      <td>1.611970</td>\n",
              "      <td>1.075044</td>\n",
              "      <td>0.428583</td>\n",
              "    </tr>\n",
              "    <tr>\n",
              "      <th>6</th>\n",
              "      <td>0.844754</td>\n",
              "      <td>1.493330</td>\n",
              "      <td>-1.278713</td>\n",
              "      <td>1.337129</td>\n",
              "    </tr>\n",
              "    <tr>\n",
              "      <th>7</th>\n",
              "      <td>0.595959</td>\n",
              "      <td>0.178159</td>\n",
              "      <td>0.543953</td>\n",
              "      <td>-0.066950</td>\n",
              "    </tr>\n",
              "    <tr>\n",
              "      <th>8</th>\n",
              "      <td>0.372750</td>\n",
              "      <td>0.236555</td>\n",
              "      <td>-0.282945</td>\n",
              "      <td>0.056602</td>\n",
              "    </tr>\n",
              "    <tr>\n",
              "      <th>9</th>\n",
              "      <td>1.753986</td>\n",
              "      <td>0.875368</td>\n",
              "      <td>-0.609239</td>\n",
              "      <td>0.255834</td>\n",
              "    </tr>\n",
              "    <tr>\n",
              "      <th>10</th>\n",
              "      <td>-0.888809</td>\n",
              "      <td>-1.424787</td>\n",
              "      <td>-0.340378</td>\n",
              "      <td>0.499547</td>\n",
              "    </tr>\n",
              "    <tr>\n",
              "      <th>11</th>\n",
              "      <td>1.636619</td>\n",
              "      <td>1.789345</td>\n",
              "      <td>0.669885</td>\n",
              "      <td>1.318895</td>\n",
              "    </tr>\n",
              "    <tr>\n",
              "      <th>12</th>\n",
              "      <td>1.062835</td>\n",
              "      <td>-0.621257</td>\n",
              "      <td>1.721254</td>\n",
              "      <td>-0.086995</td>\n",
              "    </tr>\n",
              "    <tr>\n",
              "      <th>13</th>\n",
              "      <td>0.287430</td>\n",
              "      <td>-0.236557</td>\n",
              "      <td>0.699683</td>\n",
              "      <td>0.594719</td>\n",
              "    </tr>\n",
              "    <tr>\n",
              "      <th>14</th>\n",
              "      <td>0.200550</td>\n",
              "      <td>-1.214720</td>\n",
              "      <td>-0.488136</td>\n",
              "      <td>-0.384846</td>\n",
              "    </tr>\n",
              "    <tr>\n",
              "      <th>15</th>\n",
              "      <td>0.801958</td>\n",
              "      <td>0.791415</td>\n",
              "      <td>-0.431905</td>\n",
              "      <td>-0.533371</td>\n",
              "    </tr>\n",
              "    <tr>\n",
              "      <th>16</th>\n",
              "      <td>1.085183</td>\n",
              "      <td>1.411630</td>\n",
              "      <td>-0.119510</td>\n",
              "      <td>1.211080</td>\n",
              "    </tr>\n",
              "    <tr>\n",
              "      <th>17</th>\n",
              "      <td>1.970204</td>\n",
              "      <td>-1.117760</td>\n",
              "      <td>1.829937</td>\n",
              "      <td>-0.758175</td>\n",
              "    </tr>\n",
              "    <tr>\n",
              "      <th>18</th>\n",
              "      <td>1.085091</td>\n",
              "      <td>2.292062</td>\n",
              "      <td>0.046482</td>\n",
              "      <td>-0.041573</td>\n",
              "    </tr>\n",
              "    <tr>\n",
              "      <th>19</th>\n",
              "      <td>0.139993</td>\n",
              "      <td>-0.601590</td>\n",
              "      <td>-1.435133</td>\n",
              "      <td>-1.110907</td>\n",
              "    </tr>\n",
              "    <tr>\n",
              "      <th>20</th>\n",
              "      <td>1.600411</td>\n",
              "      <td>-0.564745</td>\n",
              "      <td>0.149481</td>\n",
              "      <td>-1.190592</td>\n",
              "    </tr>\n",
              "    <tr>\n",
              "      <th>21</th>\n",
              "      <td>0.071676</td>\n",
              "      <td>-0.231492</td>\n",
              "      <td>-0.515688</td>\n",
              "      <td>-0.346307</td>\n",
              "    </tr>\n",
              "  </tbody>\n",
              "</table>\n",
              "</div>"
            ],
            "text/plain": [
              "    Numbers1  Numbers2  Numbers3  Numbers4\n",
              "0   0.987705 -1.037676 -1.582057  0.391924\n",
              "1   0.554321 -1.009975 -0.160262 -2.092348\n",
              "2  -0.501563  0.622408 -0.965643 -0.522200\n",
              "3   0.788007 -0.175884  1.170487 -1.080783\n",
              "4  -0.639451 -0.288055  0.972606 -1.683573\n",
              "5   1.054618  1.611970  1.075044  0.428583\n",
              "6   0.844754  1.493330 -1.278713  1.337129\n",
              "7   0.595959  0.178159  0.543953 -0.066950\n",
              "8   0.372750  0.236555 -0.282945  0.056602\n",
              "9   1.753986  0.875368 -0.609239  0.255834\n",
              "10 -0.888809 -1.424787 -0.340378  0.499547\n",
              "11  1.636619  1.789345  0.669885  1.318895\n",
              "12  1.062835 -0.621257  1.721254 -0.086995\n",
              "13  0.287430 -0.236557  0.699683  0.594719\n",
              "14  0.200550 -1.214720 -0.488136 -0.384846\n",
              "15  0.801958  0.791415 -0.431905 -0.533371\n",
              "16  1.085183  1.411630 -0.119510  1.211080\n",
              "17  1.970204 -1.117760  1.829937 -0.758175\n",
              "18  1.085091  2.292062  0.046482 -0.041573\n",
              "19  0.139993 -0.601590 -1.435133 -1.110907\n",
              "20  1.600411 -0.564745  0.149481 -1.190592\n",
              "21  0.071676 -0.231492 -0.515688 -0.346307"
            ]
          },
          "metadata": {
            "tags": []
          },
          "execution_count": 4
        }
      ]
    },
    {
      "cell_type": "code",
      "metadata": {
        "id": "l1aY0jaBvKKr"
      },
      "source": [
        "#Creating another dataframe\n",
        "Newdata2 = pd.DataFrame(np.random.randn(4,3), columns=['Numbers1', 'Numbers2', 'Numbers3'])"
      ],
      "execution_count": 6,
      "outputs": []
    },
    {
      "cell_type": "code",
      "metadata": {
        "id": "adNdjC_Yvmiz"
      },
      "source": [
        "Newdata3=Newdata + Newdata2"
      ],
      "execution_count": 8,
      "outputs": []
    },
    {
      "cell_type": "code",
      "metadata": {
        "colab": {
          "base_uri": "https://localhost:8080/",
          "height": 698
        },
        "id": "YSY99hRcv0SS",
        "outputId": "f4e9791a-1184-4a59-be37-624de7352f22"
      },
      "source": [
        "#We see a ton of NAN values\n",
        "Newdata3"
      ],
      "execution_count": 9,
      "outputs": [
        {
          "output_type": "execute_result",
          "data": {
            "text/html": [
              "<div>\n",
              "<style scoped>\n",
              "    .dataframe tbody tr th:only-of-type {\n",
              "        vertical-align: middle;\n",
              "    }\n",
              "\n",
              "    .dataframe tbody tr th {\n",
              "        vertical-align: top;\n",
              "    }\n",
              "\n",
              "    .dataframe thead th {\n",
              "        text-align: right;\n",
              "    }\n",
              "</style>\n",
              "<table border=\"1\" class=\"dataframe\">\n",
              "  <thead>\n",
              "    <tr style=\"text-align: right;\">\n",
              "      <th></th>\n",
              "      <th>Numbers1</th>\n",
              "      <th>Numbers2</th>\n",
              "      <th>Numbers3</th>\n",
              "      <th>Numbers4</th>\n",
              "    </tr>\n",
              "  </thead>\n",
              "  <tbody>\n",
              "    <tr>\n",
              "      <th>0</th>\n",
              "      <td>1.574320</td>\n",
              "      <td>-2.921498</td>\n",
              "      <td>-0.362045</td>\n",
              "      <td>NaN</td>\n",
              "    </tr>\n",
              "    <tr>\n",
              "      <th>1</th>\n",
              "      <td>-0.194478</td>\n",
              "      <td>-1.895272</td>\n",
              "      <td>0.582077</td>\n",
              "      <td>NaN</td>\n",
              "    </tr>\n",
              "    <tr>\n",
              "      <th>2</th>\n",
              "      <td>0.131017</td>\n",
              "      <td>0.908011</td>\n",
              "      <td>-0.969344</td>\n",
              "      <td>NaN</td>\n",
              "    </tr>\n",
              "    <tr>\n",
              "      <th>3</th>\n",
              "      <td>1.758891</td>\n",
              "      <td>-0.804878</td>\n",
              "      <td>2.472034</td>\n",
              "      <td>NaN</td>\n",
              "    </tr>\n",
              "    <tr>\n",
              "      <th>4</th>\n",
              "      <td>NaN</td>\n",
              "      <td>NaN</td>\n",
              "      <td>NaN</td>\n",
              "      <td>NaN</td>\n",
              "    </tr>\n",
              "    <tr>\n",
              "      <th>5</th>\n",
              "      <td>NaN</td>\n",
              "      <td>NaN</td>\n",
              "      <td>NaN</td>\n",
              "      <td>NaN</td>\n",
              "    </tr>\n",
              "    <tr>\n",
              "      <th>6</th>\n",
              "      <td>NaN</td>\n",
              "      <td>NaN</td>\n",
              "      <td>NaN</td>\n",
              "      <td>NaN</td>\n",
              "    </tr>\n",
              "    <tr>\n",
              "      <th>7</th>\n",
              "      <td>NaN</td>\n",
              "      <td>NaN</td>\n",
              "      <td>NaN</td>\n",
              "      <td>NaN</td>\n",
              "    </tr>\n",
              "    <tr>\n",
              "      <th>8</th>\n",
              "      <td>NaN</td>\n",
              "      <td>NaN</td>\n",
              "      <td>NaN</td>\n",
              "      <td>NaN</td>\n",
              "    </tr>\n",
              "    <tr>\n",
              "      <th>9</th>\n",
              "      <td>NaN</td>\n",
              "      <td>NaN</td>\n",
              "      <td>NaN</td>\n",
              "      <td>NaN</td>\n",
              "    </tr>\n",
              "    <tr>\n",
              "      <th>10</th>\n",
              "      <td>NaN</td>\n",
              "      <td>NaN</td>\n",
              "      <td>NaN</td>\n",
              "      <td>NaN</td>\n",
              "    </tr>\n",
              "    <tr>\n",
              "      <th>11</th>\n",
              "      <td>NaN</td>\n",
              "      <td>NaN</td>\n",
              "      <td>NaN</td>\n",
              "      <td>NaN</td>\n",
              "    </tr>\n",
              "    <tr>\n",
              "      <th>12</th>\n",
              "      <td>NaN</td>\n",
              "      <td>NaN</td>\n",
              "      <td>NaN</td>\n",
              "      <td>NaN</td>\n",
              "    </tr>\n",
              "    <tr>\n",
              "      <th>13</th>\n",
              "      <td>NaN</td>\n",
              "      <td>NaN</td>\n",
              "      <td>NaN</td>\n",
              "      <td>NaN</td>\n",
              "    </tr>\n",
              "    <tr>\n",
              "      <th>14</th>\n",
              "      <td>NaN</td>\n",
              "      <td>NaN</td>\n",
              "      <td>NaN</td>\n",
              "      <td>NaN</td>\n",
              "    </tr>\n",
              "    <tr>\n",
              "      <th>15</th>\n",
              "      <td>NaN</td>\n",
              "      <td>NaN</td>\n",
              "      <td>NaN</td>\n",
              "      <td>NaN</td>\n",
              "    </tr>\n",
              "    <tr>\n",
              "      <th>16</th>\n",
              "      <td>NaN</td>\n",
              "      <td>NaN</td>\n",
              "      <td>NaN</td>\n",
              "      <td>NaN</td>\n",
              "    </tr>\n",
              "    <tr>\n",
              "      <th>17</th>\n",
              "      <td>NaN</td>\n",
              "      <td>NaN</td>\n",
              "      <td>NaN</td>\n",
              "      <td>NaN</td>\n",
              "    </tr>\n",
              "    <tr>\n",
              "      <th>18</th>\n",
              "      <td>NaN</td>\n",
              "      <td>NaN</td>\n",
              "      <td>NaN</td>\n",
              "      <td>NaN</td>\n",
              "    </tr>\n",
              "    <tr>\n",
              "      <th>19</th>\n",
              "      <td>NaN</td>\n",
              "      <td>NaN</td>\n",
              "      <td>NaN</td>\n",
              "      <td>NaN</td>\n",
              "    </tr>\n",
              "    <tr>\n",
              "      <th>20</th>\n",
              "      <td>NaN</td>\n",
              "      <td>NaN</td>\n",
              "      <td>NaN</td>\n",
              "      <td>NaN</td>\n",
              "    </tr>\n",
              "    <tr>\n",
              "      <th>21</th>\n",
              "      <td>NaN</td>\n",
              "      <td>NaN</td>\n",
              "      <td>NaN</td>\n",
              "      <td>NaN</td>\n",
              "    </tr>\n",
              "  </tbody>\n",
              "</table>\n",
              "</div>"
            ],
            "text/plain": [
              "    Numbers1  Numbers2  Numbers3  Numbers4\n",
              "0   1.574320 -2.921498 -0.362045       NaN\n",
              "1  -0.194478 -1.895272  0.582077       NaN\n",
              "2   0.131017  0.908011 -0.969344       NaN\n",
              "3   1.758891 -0.804878  2.472034       NaN\n",
              "4        NaN       NaN       NaN       NaN\n",
              "5        NaN       NaN       NaN       NaN\n",
              "6        NaN       NaN       NaN       NaN\n",
              "7        NaN       NaN       NaN       NaN\n",
              "8        NaN       NaN       NaN       NaN\n",
              "9        NaN       NaN       NaN       NaN\n",
              "10       NaN       NaN       NaN       NaN\n",
              "11       NaN       NaN       NaN       NaN\n",
              "12       NaN       NaN       NaN       NaN\n",
              "13       NaN       NaN       NaN       NaN\n",
              "14       NaN       NaN       NaN       NaN\n",
              "15       NaN       NaN       NaN       NaN\n",
              "16       NaN       NaN       NaN       NaN\n",
              "17       NaN       NaN       NaN       NaN\n",
              "18       NaN       NaN       NaN       NaN\n",
              "19       NaN       NaN       NaN       NaN\n",
              "20       NaN       NaN       NaN       NaN\n",
              "21       NaN       NaN       NaN       NaN"
            ]
          },
          "metadata": {
            "tags": []
          },
          "execution_count": 9
        }
      ]
    },
    {
      "cell_type": "code",
      "metadata": {
        "colab": {
          "base_uri": "https://localhost:8080/",
          "height": 698
        },
        "id": "d3FDtLRDwIq6",
        "outputId": "10343b24-b4d1-4eab-9dfe-aba7b380c260"
      },
      "source": [
        "Newdata3. fillna(\"\")\n",
        "#this quickest way to replace NULL/Nan values"
      ],
      "execution_count": 10,
      "outputs": [
        {
          "output_type": "execute_result",
          "data": {
            "text/html": [
              "<div>\n",
              "<style scoped>\n",
              "    .dataframe tbody tr th:only-of-type {\n",
              "        vertical-align: middle;\n",
              "    }\n",
              "\n",
              "    .dataframe tbody tr th {\n",
              "        vertical-align: top;\n",
              "    }\n",
              "\n",
              "    .dataframe thead th {\n",
              "        text-align: right;\n",
              "    }\n",
              "</style>\n",
              "<table border=\"1\" class=\"dataframe\">\n",
              "  <thead>\n",
              "    <tr style=\"text-align: right;\">\n",
              "      <th></th>\n",
              "      <th>Numbers1</th>\n",
              "      <th>Numbers2</th>\n",
              "      <th>Numbers3</th>\n",
              "      <th>Numbers4</th>\n",
              "    </tr>\n",
              "  </thead>\n",
              "  <tbody>\n",
              "    <tr>\n",
              "      <th>0</th>\n",
              "      <td>1.57432</td>\n",
              "      <td>-2.9215</td>\n",
              "      <td>-0.362045</td>\n",
              "      <td></td>\n",
              "    </tr>\n",
              "    <tr>\n",
              "      <th>1</th>\n",
              "      <td>-0.194478</td>\n",
              "      <td>-1.89527</td>\n",
              "      <td>0.582077</td>\n",
              "      <td></td>\n",
              "    </tr>\n",
              "    <tr>\n",
              "      <th>2</th>\n",
              "      <td>0.131017</td>\n",
              "      <td>0.908011</td>\n",
              "      <td>-0.969344</td>\n",
              "      <td></td>\n",
              "    </tr>\n",
              "    <tr>\n",
              "      <th>3</th>\n",
              "      <td>1.75889</td>\n",
              "      <td>-0.804878</td>\n",
              "      <td>2.47203</td>\n",
              "      <td></td>\n",
              "    </tr>\n",
              "    <tr>\n",
              "      <th>4</th>\n",
              "      <td></td>\n",
              "      <td></td>\n",
              "      <td></td>\n",
              "      <td></td>\n",
              "    </tr>\n",
              "    <tr>\n",
              "      <th>5</th>\n",
              "      <td></td>\n",
              "      <td></td>\n",
              "      <td></td>\n",
              "      <td></td>\n",
              "    </tr>\n",
              "    <tr>\n",
              "      <th>6</th>\n",
              "      <td></td>\n",
              "      <td></td>\n",
              "      <td></td>\n",
              "      <td></td>\n",
              "    </tr>\n",
              "    <tr>\n",
              "      <th>7</th>\n",
              "      <td></td>\n",
              "      <td></td>\n",
              "      <td></td>\n",
              "      <td></td>\n",
              "    </tr>\n",
              "    <tr>\n",
              "      <th>8</th>\n",
              "      <td></td>\n",
              "      <td></td>\n",
              "      <td></td>\n",
              "      <td></td>\n",
              "    </tr>\n",
              "    <tr>\n",
              "      <th>9</th>\n",
              "      <td></td>\n",
              "      <td></td>\n",
              "      <td></td>\n",
              "      <td></td>\n",
              "    </tr>\n",
              "    <tr>\n",
              "      <th>10</th>\n",
              "      <td></td>\n",
              "      <td></td>\n",
              "      <td></td>\n",
              "      <td></td>\n",
              "    </tr>\n",
              "    <tr>\n",
              "      <th>11</th>\n",
              "      <td></td>\n",
              "      <td></td>\n",
              "      <td></td>\n",
              "      <td></td>\n",
              "    </tr>\n",
              "    <tr>\n",
              "      <th>12</th>\n",
              "      <td></td>\n",
              "      <td></td>\n",
              "      <td></td>\n",
              "      <td></td>\n",
              "    </tr>\n",
              "    <tr>\n",
              "      <th>13</th>\n",
              "      <td></td>\n",
              "      <td></td>\n",
              "      <td></td>\n",
              "      <td></td>\n",
              "    </tr>\n",
              "    <tr>\n",
              "      <th>14</th>\n",
              "      <td></td>\n",
              "      <td></td>\n",
              "      <td></td>\n",
              "      <td></td>\n",
              "    </tr>\n",
              "    <tr>\n",
              "      <th>15</th>\n",
              "      <td></td>\n",
              "      <td></td>\n",
              "      <td></td>\n",
              "      <td></td>\n",
              "    </tr>\n",
              "    <tr>\n",
              "      <th>16</th>\n",
              "      <td></td>\n",
              "      <td></td>\n",
              "      <td></td>\n",
              "      <td></td>\n",
              "    </tr>\n",
              "    <tr>\n",
              "      <th>17</th>\n",
              "      <td></td>\n",
              "      <td></td>\n",
              "      <td></td>\n",
              "      <td></td>\n",
              "    </tr>\n",
              "    <tr>\n",
              "      <th>18</th>\n",
              "      <td></td>\n",
              "      <td></td>\n",
              "      <td></td>\n",
              "      <td></td>\n",
              "    </tr>\n",
              "    <tr>\n",
              "      <th>19</th>\n",
              "      <td></td>\n",
              "      <td></td>\n",
              "      <td></td>\n",
              "      <td></td>\n",
              "    </tr>\n",
              "    <tr>\n",
              "      <th>20</th>\n",
              "      <td></td>\n",
              "      <td></td>\n",
              "      <td></td>\n",
              "      <td></td>\n",
              "    </tr>\n",
              "    <tr>\n",
              "      <th>21</th>\n",
              "      <td></td>\n",
              "      <td></td>\n",
              "      <td></td>\n",
              "      <td></td>\n",
              "    </tr>\n",
              "  </tbody>\n",
              "</table>\n",
              "</div>"
            ],
            "text/plain": [
              "    Numbers1  Numbers2  Numbers3 Numbers4\n",
              "0    1.57432   -2.9215 -0.362045         \n",
              "1  -0.194478  -1.89527  0.582077         \n",
              "2   0.131017  0.908011 -0.969344         \n",
              "3    1.75889 -0.804878   2.47203         \n",
              "4                                        \n",
              "5                                        \n",
              "6                                        \n",
              "7                                        \n",
              "8                                        \n",
              "9                                        \n",
              "10                                       \n",
              "11                                       \n",
              "12                                       \n",
              "13                                       \n",
              "14                                       \n",
              "15                                       \n",
              "16                                       \n",
              "17                                       \n",
              "18                                       \n",
              "19                                       \n",
              "20                                       \n",
              "21                                       "
            ]
          },
          "metadata": {
            "tags": []
          },
          "execution_count": 10
        }
      ]
    },
    {
      "cell_type": "code",
      "metadata": {
        "id": "Lj0OXwXxwYja"
      },
      "source": [
        "#Now lets drop the rows in our dataframe that are missing\n",
        "#subset specifies the column to look for missing rows\n",
        "#We choose numbers1 since it is the 1st column in our dataframe\n",
        "Newdata4=Newdata3.dropna(subset=[\"Numbers1\"])"
      ],
      "execution_count": 11,
      "outputs": []
    },
    {
      "cell_type": "code",
      "metadata": {
        "colab": {
          "base_uri": "https://localhost:8080/",
          "height": 166
        },
        "id": "gh2Cmu_mxhWb",
        "outputId": "c0aaa989-745f-49a7-e5da-fcdfcb48fc73"
      },
      "source": [
        "Newdata4"
      ],
      "execution_count": 12,
      "outputs": [
        {
          "output_type": "execute_result",
          "data": {
            "text/html": [
              "<div>\n",
              "<style scoped>\n",
              "    .dataframe tbody tr th:only-of-type {\n",
              "        vertical-align: middle;\n",
              "    }\n",
              "\n",
              "    .dataframe tbody tr th {\n",
              "        vertical-align: top;\n",
              "    }\n",
              "\n",
              "    .dataframe thead th {\n",
              "        text-align: right;\n",
              "    }\n",
              "</style>\n",
              "<table border=\"1\" class=\"dataframe\">\n",
              "  <thead>\n",
              "    <tr style=\"text-align: right;\">\n",
              "      <th></th>\n",
              "      <th>Numbers1</th>\n",
              "      <th>Numbers2</th>\n",
              "      <th>Numbers3</th>\n",
              "      <th>Numbers4</th>\n",
              "    </tr>\n",
              "  </thead>\n",
              "  <tbody>\n",
              "    <tr>\n",
              "      <th>0</th>\n",
              "      <td>1.574320</td>\n",
              "      <td>-2.921498</td>\n",
              "      <td>-0.362045</td>\n",
              "      <td>NaN</td>\n",
              "    </tr>\n",
              "    <tr>\n",
              "      <th>1</th>\n",
              "      <td>-0.194478</td>\n",
              "      <td>-1.895272</td>\n",
              "      <td>0.582077</td>\n",
              "      <td>NaN</td>\n",
              "    </tr>\n",
              "    <tr>\n",
              "      <th>2</th>\n",
              "      <td>0.131017</td>\n",
              "      <td>0.908011</td>\n",
              "      <td>-0.969344</td>\n",
              "      <td>NaN</td>\n",
              "    </tr>\n",
              "    <tr>\n",
              "      <th>3</th>\n",
              "      <td>1.758891</td>\n",
              "      <td>-0.804878</td>\n",
              "      <td>2.472034</td>\n",
              "      <td>NaN</td>\n",
              "    </tr>\n",
              "  </tbody>\n",
              "</table>\n",
              "</div>"
            ],
            "text/plain": [
              "   Numbers1  Numbers2  Numbers3  Numbers4\n",
              "0  1.574320 -2.921498 -0.362045       NaN\n",
              "1 -0.194478 -1.895272  0.582077       NaN\n",
              "2  0.131017  0.908011 -0.969344       NaN\n",
              "3  1.758891 -0.804878  2.472034       NaN"
            ]
          },
          "metadata": {
            "tags": []
          },
          "execution_count": 12
        }
      ]
    },
    {
      "cell_type": "code",
      "metadata": {
        "id": "4sbkHuVwxkFa"
      },
      "source": [
        "#removing the last column because it has all of the nan/null values\n",
        "#NaN = Not a number or null value\n",
        "del Newdata4['Numbers4']"
      ],
      "execution_count": 17,
      "outputs": []
    },
    {
      "cell_type": "code",
      "metadata": {
        "colab": {
          "base_uri": "https://localhost:8080/",
          "height": 166
        },
        "id": "H5WQdxtGyRB7",
        "outputId": "164c6ec0-f18d-4c47-f1cf-ffa495cd38a0"
      },
      "source": [
        "Newdata4"
      ],
      "execution_count": 18,
      "outputs": [
        {
          "output_type": "execute_result",
          "data": {
            "text/html": [
              "<div>\n",
              "<style scoped>\n",
              "    .dataframe tbody tr th:only-of-type {\n",
              "        vertical-align: middle;\n",
              "    }\n",
              "\n",
              "    .dataframe tbody tr th {\n",
              "        vertical-align: top;\n",
              "    }\n",
              "\n",
              "    .dataframe thead th {\n",
              "        text-align: right;\n",
              "    }\n",
              "</style>\n",
              "<table border=\"1\" class=\"dataframe\">\n",
              "  <thead>\n",
              "    <tr style=\"text-align: right;\">\n",
              "      <th></th>\n",
              "      <th>Numbers1</th>\n",
              "      <th>Numbers2</th>\n",
              "      <th>Numbers3</th>\n",
              "    </tr>\n",
              "  </thead>\n",
              "  <tbody>\n",
              "    <tr>\n",
              "      <th>0</th>\n",
              "      <td>1.574320</td>\n",
              "      <td>-2.921498</td>\n",
              "      <td>-0.362045</td>\n",
              "    </tr>\n",
              "    <tr>\n",
              "      <th>1</th>\n",
              "      <td>-0.194478</td>\n",
              "      <td>-1.895272</td>\n",
              "      <td>0.582077</td>\n",
              "    </tr>\n",
              "    <tr>\n",
              "      <th>2</th>\n",
              "      <td>0.131017</td>\n",
              "      <td>0.908011</td>\n",
              "      <td>-0.969344</td>\n",
              "    </tr>\n",
              "    <tr>\n",
              "      <th>3</th>\n",
              "      <td>1.758891</td>\n",
              "      <td>-0.804878</td>\n",
              "      <td>2.472034</td>\n",
              "    </tr>\n",
              "  </tbody>\n",
              "</table>\n",
              "</div>"
            ],
            "text/plain": [
              "   Numbers1  Numbers2  Numbers3\n",
              "0  1.574320 -2.921498 -0.362045\n",
              "1 -0.194478 -1.895272  0.582077\n",
              "2  0.131017  0.908011 -0.969344\n",
              "3  1.758891 -0.804878  2.472034"
            ]
          },
          "metadata": {
            "tags": []
          },
          "execution_count": 18
        }
      ]
    },
    {
      "cell_type": "code",
      "metadata": {
        "id": "OM2tYw6kyh_R"
      },
      "source": [
        "Newdata5= pd.DataFrame([[5, 6, 9],[9,88,45],[12,77,15]])"
      ],
      "execution_count": 21,
      "outputs": []
    },
    {
      "cell_type": "code",
      "metadata": {
        "colab": {
          "base_uri": "https://localhost:8080/",
          "height": 136
        },
        "id": "c4oN3XHfzYgi",
        "outputId": "006a2e81-d2e3-4feb-fe27-8bf10fc1cdb1"
      },
      "source": [
        "Newdata5"
      ],
      "execution_count": 22,
      "outputs": [
        {
          "output_type": "execute_result",
          "data": {
            "text/html": [
              "<div>\n",
              "<style scoped>\n",
              "    .dataframe tbody tr th:only-of-type {\n",
              "        vertical-align: middle;\n",
              "    }\n",
              "\n",
              "    .dataframe tbody tr th {\n",
              "        vertical-align: top;\n",
              "    }\n",
              "\n",
              "    .dataframe thead th {\n",
              "        text-align: right;\n",
              "    }\n",
              "</style>\n",
              "<table border=\"1\" class=\"dataframe\">\n",
              "  <thead>\n",
              "    <tr style=\"text-align: right;\">\n",
              "      <th></th>\n",
              "      <th>0</th>\n",
              "      <th>1</th>\n",
              "      <th>2</th>\n",
              "    </tr>\n",
              "  </thead>\n",
              "  <tbody>\n",
              "    <tr>\n",
              "      <th>0</th>\n",
              "      <td>5</td>\n",
              "      <td>6</td>\n",
              "      <td>9</td>\n",
              "    </tr>\n",
              "    <tr>\n",
              "      <th>1</th>\n",
              "      <td>9</td>\n",
              "      <td>88</td>\n",
              "      <td>45</td>\n",
              "    </tr>\n",
              "    <tr>\n",
              "      <th>2</th>\n",
              "      <td>12</td>\n",
              "      <td>77</td>\n",
              "      <td>15</td>\n",
              "    </tr>\n",
              "  </tbody>\n",
              "</table>\n",
              "</div>"
            ],
            "text/plain": [
              "    0   1   2\n",
              "0   5   6   9\n",
              "1   9  88  45\n",
              "2  12  77  15"
            ]
          },
          "metadata": {
            "tags": []
          },
          "execution_count": 22
        }
      ]
    },
    {
      "cell_type": "code",
      "metadata": {
        "id": "DqVbSkWrzbZa"
      },
      "source": [
        "Newdata6=Newdata4.append(Newdata5)"
      ],
      "execution_count": 23,
      "outputs": []
    },
    {
      "cell_type": "code",
      "metadata": {
        "colab": {
          "base_uri": "https://localhost:8080/",
          "height": 254
        },
        "id": "PDk2oW6-zrC6",
        "outputId": "1e0080b1-d472-47c9-9ef5-e63d3ae16f7e"
      },
      "source": [
        "Newdata6"
      ],
      "execution_count": 24,
      "outputs": [
        {
          "output_type": "execute_result",
          "data": {
            "text/html": [
              "<div>\n",
              "<style scoped>\n",
              "    .dataframe tbody tr th:only-of-type {\n",
              "        vertical-align: middle;\n",
              "    }\n",
              "\n",
              "    .dataframe tbody tr th {\n",
              "        vertical-align: top;\n",
              "    }\n",
              "\n",
              "    .dataframe thead th {\n",
              "        text-align: right;\n",
              "    }\n",
              "</style>\n",
              "<table border=\"1\" class=\"dataframe\">\n",
              "  <thead>\n",
              "    <tr style=\"text-align: right;\">\n",
              "      <th></th>\n",
              "      <th>Numbers1</th>\n",
              "      <th>Numbers2</th>\n",
              "      <th>Numbers3</th>\n",
              "      <th>0</th>\n",
              "      <th>1</th>\n",
              "      <th>2</th>\n",
              "    </tr>\n",
              "  </thead>\n",
              "  <tbody>\n",
              "    <tr>\n",
              "      <th>0</th>\n",
              "      <td>1.574320</td>\n",
              "      <td>-2.921498</td>\n",
              "      <td>-0.362045</td>\n",
              "      <td>NaN</td>\n",
              "      <td>NaN</td>\n",
              "      <td>NaN</td>\n",
              "    </tr>\n",
              "    <tr>\n",
              "      <th>1</th>\n",
              "      <td>-0.194478</td>\n",
              "      <td>-1.895272</td>\n",
              "      <td>0.582077</td>\n",
              "      <td>NaN</td>\n",
              "      <td>NaN</td>\n",
              "      <td>NaN</td>\n",
              "    </tr>\n",
              "    <tr>\n",
              "      <th>2</th>\n",
              "      <td>0.131017</td>\n",
              "      <td>0.908011</td>\n",
              "      <td>-0.969344</td>\n",
              "      <td>NaN</td>\n",
              "      <td>NaN</td>\n",
              "      <td>NaN</td>\n",
              "    </tr>\n",
              "    <tr>\n",
              "      <th>3</th>\n",
              "      <td>1.758891</td>\n",
              "      <td>-0.804878</td>\n",
              "      <td>2.472034</td>\n",
              "      <td>NaN</td>\n",
              "      <td>NaN</td>\n",
              "      <td>NaN</td>\n",
              "    </tr>\n",
              "    <tr>\n",
              "      <th>0</th>\n",
              "      <td>NaN</td>\n",
              "      <td>NaN</td>\n",
              "      <td>NaN</td>\n",
              "      <td>5.0</td>\n",
              "      <td>6.0</td>\n",
              "      <td>9.0</td>\n",
              "    </tr>\n",
              "    <tr>\n",
              "      <th>1</th>\n",
              "      <td>NaN</td>\n",
              "      <td>NaN</td>\n",
              "      <td>NaN</td>\n",
              "      <td>9.0</td>\n",
              "      <td>88.0</td>\n",
              "      <td>45.0</td>\n",
              "    </tr>\n",
              "    <tr>\n",
              "      <th>2</th>\n",
              "      <td>NaN</td>\n",
              "      <td>NaN</td>\n",
              "      <td>NaN</td>\n",
              "      <td>12.0</td>\n",
              "      <td>77.0</td>\n",
              "      <td>15.0</td>\n",
              "    </tr>\n",
              "  </tbody>\n",
              "</table>\n",
              "</div>"
            ],
            "text/plain": [
              "   Numbers1  Numbers2  Numbers3     0     1     2\n",
              "0  1.574320 -2.921498 -0.362045   NaN   NaN   NaN\n",
              "1 -0.194478 -1.895272  0.582077   NaN   NaN   NaN\n",
              "2  0.131017  0.908011 -0.969344   NaN   NaN   NaN\n",
              "3  1.758891 -0.804878  2.472034   NaN   NaN   NaN\n",
              "0       NaN       NaN       NaN   5.0   6.0   9.0\n",
              "1       NaN       NaN       NaN   9.0  88.0  45.0\n",
              "2       NaN       NaN       NaN  12.0  77.0  15.0"
            ]
          },
          "metadata": {
            "tags": []
          },
          "execution_count": 24
        }
      ]
    },
    {
      "cell_type": "code",
      "metadata": {
        "id": "FQ4xcZQEz626"
      },
      "source": [
        "Newdata7=Newdata6.rename(columns={0: 'Numbers4', 1: 'Numbers5', 2: \"Numbers6\"})"
      ],
      "execution_count": 25,
      "outputs": []
    },
    {
      "cell_type": "code",
      "metadata": {
        "colab": {
          "base_uri": "https://localhost:8080/",
          "height": 254
        },
        "id": "h3UMk0DU0U9K",
        "outputId": "eb5376ca-15fe-49c1-bb7d-3c32d1b4f3c2"
      },
      "source": [
        "Newdata7"
      ],
      "execution_count": 26,
      "outputs": [
        {
          "output_type": "execute_result",
          "data": {
            "text/html": [
              "<div>\n",
              "<style scoped>\n",
              "    .dataframe tbody tr th:only-of-type {\n",
              "        vertical-align: middle;\n",
              "    }\n",
              "\n",
              "    .dataframe tbody tr th {\n",
              "        vertical-align: top;\n",
              "    }\n",
              "\n",
              "    .dataframe thead th {\n",
              "        text-align: right;\n",
              "    }\n",
              "</style>\n",
              "<table border=\"1\" class=\"dataframe\">\n",
              "  <thead>\n",
              "    <tr style=\"text-align: right;\">\n",
              "      <th></th>\n",
              "      <th>Numbers1</th>\n",
              "      <th>Numbers2</th>\n",
              "      <th>Numbers3</th>\n",
              "      <th>Numbers4</th>\n",
              "      <th>Numbers5</th>\n",
              "      <th>Numbers6</th>\n",
              "    </tr>\n",
              "  </thead>\n",
              "  <tbody>\n",
              "    <tr>\n",
              "      <th>0</th>\n",
              "      <td>1.574320</td>\n",
              "      <td>-2.921498</td>\n",
              "      <td>-0.362045</td>\n",
              "      <td>NaN</td>\n",
              "      <td>NaN</td>\n",
              "      <td>NaN</td>\n",
              "    </tr>\n",
              "    <tr>\n",
              "      <th>1</th>\n",
              "      <td>-0.194478</td>\n",
              "      <td>-1.895272</td>\n",
              "      <td>0.582077</td>\n",
              "      <td>NaN</td>\n",
              "      <td>NaN</td>\n",
              "      <td>NaN</td>\n",
              "    </tr>\n",
              "    <tr>\n",
              "      <th>2</th>\n",
              "      <td>0.131017</td>\n",
              "      <td>0.908011</td>\n",
              "      <td>-0.969344</td>\n",
              "      <td>NaN</td>\n",
              "      <td>NaN</td>\n",
              "      <td>NaN</td>\n",
              "    </tr>\n",
              "    <tr>\n",
              "      <th>3</th>\n",
              "      <td>1.758891</td>\n",
              "      <td>-0.804878</td>\n",
              "      <td>2.472034</td>\n",
              "      <td>NaN</td>\n",
              "      <td>NaN</td>\n",
              "      <td>NaN</td>\n",
              "    </tr>\n",
              "    <tr>\n",
              "      <th>0</th>\n",
              "      <td>NaN</td>\n",
              "      <td>NaN</td>\n",
              "      <td>NaN</td>\n",
              "      <td>5.0</td>\n",
              "      <td>6.0</td>\n",
              "      <td>9.0</td>\n",
              "    </tr>\n",
              "    <tr>\n",
              "      <th>1</th>\n",
              "      <td>NaN</td>\n",
              "      <td>NaN</td>\n",
              "      <td>NaN</td>\n",
              "      <td>9.0</td>\n",
              "      <td>88.0</td>\n",
              "      <td>45.0</td>\n",
              "    </tr>\n",
              "    <tr>\n",
              "      <th>2</th>\n",
              "      <td>NaN</td>\n",
              "      <td>NaN</td>\n",
              "      <td>NaN</td>\n",
              "      <td>12.0</td>\n",
              "      <td>77.0</td>\n",
              "      <td>15.0</td>\n",
              "    </tr>\n",
              "  </tbody>\n",
              "</table>\n",
              "</div>"
            ],
            "text/plain": [
              "   Numbers1  Numbers2  Numbers3  Numbers4  Numbers5  Numbers6\n",
              "0  1.574320 -2.921498 -0.362045       NaN       NaN       NaN\n",
              "1 -0.194478 -1.895272  0.582077       NaN       NaN       NaN\n",
              "2  0.131017  0.908011 -0.969344       NaN       NaN       NaN\n",
              "3  1.758891 -0.804878  2.472034       NaN       NaN       NaN\n",
              "0       NaN       NaN       NaN       5.0       6.0       9.0\n",
              "1       NaN       NaN       NaN       9.0      88.0      45.0\n",
              "2       NaN       NaN       NaN      12.0      77.0      15.0"
            ]
          },
          "metadata": {
            "tags": []
          },
          "execution_count": 26
        }
      ]
    },
    {
      "cell_type": "code",
      "metadata": {
        "id": "-wvk2ypF0Ydi"
      },
      "source": [
        "#Lets clean up those NaN Values\n",
        "Newdata8=Newdata7. fillna(\"6\")\n",
        "#this quickest way to replace NULL/Nan values"
      ],
      "execution_count": 27,
      "outputs": []
    },
    {
      "cell_type": "code",
      "metadata": {
        "colab": {
          "base_uri": "https://localhost:8080/",
          "height": 254
        },
        "id": "pTiyjeIq00Ch",
        "outputId": "1be5014c-af93-49ce-e990-0eab4808fb1a"
      },
      "source": [
        "Newdata8"
      ],
      "execution_count": 28,
      "outputs": [
        {
          "output_type": "execute_result",
          "data": {
            "text/html": [
              "<div>\n",
              "<style scoped>\n",
              "    .dataframe tbody tr th:only-of-type {\n",
              "        vertical-align: middle;\n",
              "    }\n",
              "\n",
              "    .dataframe tbody tr th {\n",
              "        vertical-align: top;\n",
              "    }\n",
              "\n",
              "    .dataframe thead th {\n",
              "        text-align: right;\n",
              "    }\n",
              "</style>\n",
              "<table border=\"1\" class=\"dataframe\">\n",
              "  <thead>\n",
              "    <tr style=\"text-align: right;\">\n",
              "      <th></th>\n",
              "      <th>Numbers1</th>\n",
              "      <th>Numbers2</th>\n",
              "      <th>Numbers3</th>\n",
              "      <th>Numbers4</th>\n",
              "      <th>Numbers5</th>\n",
              "      <th>Numbers6</th>\n",
              "    </tr>\n",
              "  </thead>\n",
              "  <tbody>\n",
              "    <tr>\n",
              "      <th>0</th>\n",
              "      <td>1.57432</td>\n",
              "      <td>-2.9215</td>\n",
              "      <td>-0.362045</td>\n",
              "      <td>6</td>\n",
              "      <td>6</td>\n",
              "      <td>6</td>\n",
              "    </tr>\n",
              "    <tr>\n",
              "      <th>1</th>\n",
              "      <td>-0.194478</td>\n",
              "      <td>-1.89527</td>\n",
              "      <td>0.582077</td>\n",
              "      <td>6</td>\n",
              "      <td>6</td>\n",
              "      <td>6</td>\n",
              "    </tr>\n",
              "    <tr>\n",
              "      <th>2</th>\n",
              "      <td>0.131017</td>\n",
              "      <td>0.908011</td>\n",
              "      <td>-0.969344</td>\n",
              "      <td>6</td>\n",
              "      <td>6</td>\n",
              "      <td>6</td>\n",
              "    </tr>\n",
              "    <tr>\n",
              "      <th>3</th>\n",
              "      <td>1.75889</td>\n",
              "      <td>-0.804878</td>\n",
              "      <td>2.47203</td>\n",
              "      <td>6</td>\n",
              "      <td>6</td>\n",
              "      <td>6</td>\n",
              "    </tr>\n",
              "    <tr>\n",
              "      <th>0</th>\n",
              "      <td>6</td>\n",
              "      <td>6</td>\n",
              "      <td>6</td>\n",
              "      <td>5</td>\n",
              "      <td>6</td>\n",
              "      <td>9</td>\n",
              "    </tr>\n",
              "    <tr>\n",
              "      <th>1</th>\n",
              "      <td>6</td>\n",
              "      <td>6</td>\n",
              "      <td>6</td>\n",
              "      <td>9</td>\n",
              "      <td>88</td>\n",
              "      <td>45</td>\n",
              "    </tr>\n",
              "    <tr>\n",
              "      <th>2</th>\n",
              "      <td>6</td>\n",
              "      <td>6</td>\n",
              "      <td>6</td>\n",
              "      <td>12</td>\n",
              "      <td>77</td>\n",
              "      <td>15</td>\n",
              "    </tr>\n",
              "  </tbody>\n",
              "</table>\n",
              "</div>"
            ],
            "text/plain": [
              "   Numbers1  Numbers2  Numbers3 Numbers4 Numbers5 Numbers6\n",
              "0   1.57432   -2.9215 -0.362045        6        6        6\n",
              "1 -0.194478  -1.89527  0.582077        6        6        6\n",
              "2  0.131017  0.908011 -0.969344        6        6        6\n",
              "3   1.75889 -0.804878   2.47203        6        6        6\n",
              "0         6         6         6        5        6        9\n",
              "1         6         6         6        9       88       45\n",
              "2         6         6         6       12       77       15"
            ]
          },
          "metadata": {
            "tags": []
          },
          "execution_count": 28
        }
      ]
    },
    {
      "cell_type": "code",
      "metadata": {
        "id": "ZWHLN5jU02y4"
      },
      "source": [
        "#This code fixes our indexing after we added new data\n",
        "Newdata9=Newdata8.reset_index(drop=True)"
      ],
      "execution_count": 29,
      "outputs": []
    },
    {
      "cell_type": "code",
      "metadata": {
        "colab": {
          "base_uri": "https://localhost:8080/",
          "height": 254
        },
        "id": "H4Y-Lznw1MsR",
        "outputId": "d7bebab9-45d5-4a5b-cb27-f1eced59e9a5"
      },
      "source": [
        "Newdata9"
      ],
      "execution_count": 30,
      "outputs": [
        {
          "output_type": "execute_result",
          "data": {
            "text/html": [
              "<div>\n",
              "<style scoped>\n",
              "    .dataframe tbody tr th:only-of-type {\n",
              "        vertical-align: middle;\n",
              "    }\n",
              "\n",
              "    .dataframe tbody tr th {\n",
              "        vertical-align: top;\n",
              "    }\n",
              "\n",
              "    .dataframe thead th {\n",
              "        text-align: right;\n",
              "    }\n",
              "</style>\n",
              "<table border=\"1\" class=\"dataframe\">\n",
              "  <thead>\n",
              "    <tr style=\"text-align: right;\">\n",
              "      <th></th>\n",
              "      <th>Numbers1</th>\n",
              "      <th>Numbers2</th>\n",
              "      <th>Numbers3</th>\n",
              "      <th>Numbers4</th>\n",
              "      <th>Numbers5</th>\n",
              "      <th>Numbers6</th>\n",
              "    </tr>\n",
              "  </thead>\n",
              "  <tbody>\n",
              "    <tr>\n",
              "      <th>0</th>\n",
              "      <td>1.57432</td>\n",
              "      <td>-2.9215</td>\n",
              "      <td>-0.362045</td>\n",
              "      <td>6</td>\n",
              "      <td>6</td>\n",
              "      <td>6</td>\n",
              "    </tr>\n",
              "    <tr>\n",
              "      <th>1</th>\n",
              "      <td>-0.194478</td>\n",
              "      <td>-1.89527</td>\n",
              "      <td>0.582077</td>\n",
              "      <td>6</td>\n",
              "      <td>6</td>\n",
              "      <td>6</td>\n",
              "    </tr>\n",
              "    <tr>\n",
              "      <th>2</th>\n",
              "      <td>0.131017</td>\n",
              "      <td>0.908011</td>\n",
              "      <td>-0.969344</td>\n",
              "      <td>6</td>\n",
              "      <td>6</td>\n",
              "      <td>6</td>\n",
              "    </tr>\n",
              "    <tr>\n",
              "      <th>3</th>\n",
              "      <td>1.75889</td>\n",
              "      <td>-0.804878</td>\n",
              "      <td>2.47203</td>\n",
              "      <td>6</td>\n",
              "      <td>6</td>\n",
              "      <td>6</td>\n",
              "    </tr>\n",
              "    <tr>\n",
              "      <th>4</th>\n",
              "      <td>6</td>\n",
              "      <td>6</td>\n",
              "      <td>6</td>\n",
              "      <td>5</td>\n",
              "      <td>6</td>\n",
              "      <td>9</td>\n",
              "    </tr>\n",
              "    <tr>\n",
              "      <th>5</th>\n",
              "      <td>6</td>\n",
              "      <td>6</td>\n",
              "      <td>6</td>\n",
              "      <td>9</td>\n",
              "      <td>88</td>\n",
              "      <td>45</td>\n",
              "    </tr>\n",
              "    <tr>\n",
              "      <th>6</th>\n",
              "      <td>6</td>\n",
              "      <td>6</td>\n",
              "      <td>6</td>\n",
              "      <td>12</td>\n",
              "      <td>77</td>\n",
              "      <td>15</td>\n",
              "    </tr>\n",
              "  </tbody>\n",
              "</table>\n",
              "</div>"
            ],
            "text/plain": [
              "   Numbers1  Numbers2  Numbers3 Numbers4 Numbers5 Numbers6\n",
              "0   1.57432   -2.9215 -0.362045        6        6        6\n",
              "1 -0.194478  -1.89527  0.582077        6        6        6\n",
              "2  0.131017  0.908011 -0.969344        6        6        6\n",
              "3   1.75889 -0.804878   2.47203        6        6        6\n",
              "4         6         6         6        5        6        9\n",
              "5         6         6         6        9       88       45\n",
              "6         6         6         6       12       77       15"
            ]
          },
          "metadata": {
            "tags": []
          },
          "execution_count": 30
        }
      ]
    },
    {
      "cell_type": "code",
      "metadata": {
        "colab": {
          "base_uri": "https://localhost:8080/"
        },
        "id": "vJ3TjLI81Rth",
        "outputId": "3a886f5d-2c5b-4f0d-9059-942ea47ae9a6"
      },
      "source": [
        "#Checking data types\n",
        "Newdata9.dtypes"
      ],
      "execution_count": 31,
      "outputs": [
        {
          "output_type": "execute_result",
          "data": {
            "text/plain": [
              "Numbers1    object\n",
              "Numbers2    object\n",
              "Numbers3    object\n",
              "Numbers4    object\n",
              "Numbers5    object\n",
              "Numbers6    object\n",
              "dtype: object"
            ]
          },
          "metadata": {
            "tags": []
          },
          "execution_count": 31
        }
      ]
    },
    {
      "cell_type": "code",
      "metadata": {
        "id": "87OD7mh12DkA"
      },
      "source": [
        "#Converting our objects into a float\n",
        "Newdata10= Newdata9.astype(float)"
      ],
      "execution_count": 32,
      "outputs": []
    },
    {
      "cell_type": "code",
      "metadata": {
        "colab": {
          "base_uri": "https://localhost:8080/"
        },
        "id": "eRJLs5wl2QQA",
        "outputId": "baceee2b-bfe2-4edb-b21e-0cd98253520c"
      },
      "source": [
        "Newdata10.dtypes"
      ],
      "execution_count": 33,
      "outputs": [
        {
          "output_type": "execute_result",
          "data": {
            "text/plain": [
              "Numbers1    float64\n",
              "Numbers2    float64\n",
              "Numbers3    float64\n",
              "Numbers4    float64\n",
              "Numbers5    float64\n",
              "Numbers6    float64\n",
              "dtype: object"
            ]
          },
          "metadata": {
            "tags": []
          },
          "execution_count": 33
        }
      ]
    },
    {
      "cell_type": "code",
      "metadata": {
        "colab": {
          "base_uri": "https://localhost:8080/",
          "height": 254
        },
        "id": "yPyNZI_02TVx",
        "outputId": "85d04e51-e26d-43e4-e208-88cc9018839b"
      },
      "source": [
        "Newdata10"
      ],
      "execution_count": 34,
      "outputs": [
        {
          "output_type": "execute_result",
          "data": {
            "text/html": [
              "<div>\n",
              "<style scoped>\n",
              "    .dataframe tbody tr th:only-of-type {\n",
              "        vertical-align: middle;\n",
              "    }\n",
              "\n",
              "    .dataframe tbody tr th {\n",
              "        vertical-align: top;\n",
              "    }\n",
              "\n",
              "    .dataframe thead th {\n",
              "        text-align: right;\n",
              "    }\n",
              "</style>\n",
              "<table border=\"1\" class=\"dataframe\">\n",
              "  <thead>\n",
              "    <tr style=\"text-align: right;\">\n",
              "      <th></th>\n",
              "      <th>Numbers1</th>\n",
              "      <th>Numbers2</th>\n",
              "      <th>Numbers3</th>\n",
              "      <th>Numbers4</th>\n",
              "      <th>Numbers5</th>\n",
              "      <th>Numbers6</th>\n",
              "    </tr>\n",
              "  </thead>\n",
              "  <tbody>\n",
              "    <tr>\n",
              "      <th>0</th>\n",
              "      <td>1.574320</td>\n",
              "      <td>-2.921498</td>\n",
              "      <td>-0.362045</td>\n",
              "      <td>6.0</td>\n",
              "      <td>6.0</td>\n",
              "      <td>6.0</td>\n",
              "    </tr>\n",
              "    <tr>\n",
              "      <th>1</th>\n",
              "      <td>-0.194478</td>\n",
              "      <td>-1.895272</td>\n",
              "      <td>0.582077</td>\n",
              "      <td>6.0</td>\n",
              "      <td>6.0</td>\n",
              "      <td>6.0</td>\n",
              "    </tr>\n",
              "    <tr>\n",
              "      <th>2</th>\n",
              "      <td>0.131017</td>\n",
              "      <td>0.908011</td>\n",
              "      <td>-0.969344</td>\n",
              "      <td>6.0</td>\n",
              "      <td>6.0</td>\n",
              "      <td>6.0</td>\n",
              "    </tr>\n",
              "    <tr>\n",
              "      <th>3</th>\n",
              "      <td>1.758891</td>\n",
              "      <td>-0.804878</td>\n",
              "      <td>2.472034</td>\n",
              "      <td>6.0</td>\n",
              "      <td>6.0</td>\n",
              "      <td>6.0</td>\n",
              "    </tr>\n",
              "    <tr>\n",
              "      <th>4</th>\n",
              "      <td>6.000000</td>\n",
              "      <td>6.000000</td>\n",
              "      <td>6.000000</td>\n",
              "      <td>5.0</td>\n",
              "      <td>6.0</td>\n",
              "      <td>9.0</td>\n",
              "    </tr>\n",
              "    <tr>\n",
              "      <th>5</th>\n",
              "      <td>6.000000</td>\n",
              "      <td>6.000000</td>\n",
              "      <td>6.000000</td>\n",
              "      <td>9.0</td>\n",
              "      <td>88.0</td>\n",
              "      <td>45.0</td>\n",
              "    </tr>\n",
              "    <tr>\n",
              "      <th>6</th>\n",
              "      <td>6.000000</td>\n",
              "      <td>6.000000</td>\n",
              "      <td>6.000000</td>\n",
              "      <td>12.0</td>\n",
              "      <td>77.0</td>\n",
              "      <td>15.0</td>\n",
              "    </tr>\n",
              "  </tbody>\n",
              "</table>\n",
              "</div>"
            ],
            "text/plain": [
              "   Numbers1  Numbers2  Numbers3  Numbers4  Numbers5  Numbers6\n",
              "0  1.574320 -2.921498 -0.362045       6.0       6.0       6.0\n",
              "1 -0.194478 -1.895272  0.582077       6.0       6.0       6.0\n",
              "2  0.131017  0.908011 -0.969344       6.0       6.0       6.0\n",
              "3  1.758891 -0.804878  2.472034       6.0       6.0       6.0\n",
              "4  6.000000  6.000000  6.000000       5.0       6.0       9.0\n",
              "5  6.000000  6.000000  6.000000       9.0      88.0      45.0\n",
              "6  6.000000  6.000000  6.000000      12.0      77.0      15.0"
            ]
          },
          "metadata": {
            "tags": []
          },
          "execution_count": 34
        }
      ]
    },
    {
      "cell_type": "code",
      "metadata": {
        "colab": {
          "base_uri": "https://localhost:8080/"
        },
        "id": "Sy3Wii8M2XS6",
        "outputId": "8c9b101c-09d5-4dca-dd66-56a55a94f9bc"
      },
      "source": [
        "#This tells us how many different numbers make up data in the column\n",
        "Newdata10.nunique()"
      ],
      "execution_count": 35,
      "outputs": [
        {
          "output_type": "execute_result",
          "data": {
            "text/plain": [
              "Numbers1    5\n",
              "Numbers2    5\n",
              "Numbers3    5\n",
              "Numbers4    4\n",
              "Numbers5    3\n",
              "Numbers6    4\n",
              "dtype: int64"
            ]
          },
          "metadata": {
            "tags": []
          },
          "execution_count": 35
        }
      ]
    },
    {
      "cell_type": "code",
      "metadata": {
        "colab": {
          "base_uri": "https://localhost:8080/"
        },
        "id": "GYcDymCN2kIE",
        "outputId": "d2ed4089-2881-4d80-c017-45610349d7ae"
      },
      "source": [
        "#Gives us the number of times this value shows up in the column\n",
        "#This only works with columns\n",
        "Newdata10['Numbers2'].value_counts()"
      ],
      "execution_count": 36,
      "outputs": [
        {
          "output_type": "execute_result",
          "data": {
            "text/plain": [
              " 6.000000    3\n",
              " 0.908011    1\n",
              "-1.895272    1\n",
              "-0.804878    1\n",
              "-2.921498    1\n",
              "Name: Numbers2, dtype: int64"
            ]
          },
          "metadata": {
            "tags": []
          },
          "execution_count": 36
        }
      ]
    },
    {
      "cell_type": "code",
      "metadata": {
        "colab": {
          "base_uri": "https://localhost:8080/",
          "height": 284
        },
        "id": "9xyOuDIp3AGI",
        "outputId": "d391b7bf-1786-41de-aca4-f11d3e4840ef"
      },
      "source": [
        "#This .describe function is commonly used to evaluate data for quick analysis\n",
        "#count tells us that every row is equal in both columns\n",
        "#mean tells us the average of the values in each column\n",
        "#standard deviation is the disparity between each number and the mean\n",
        "#A low standard deviation means that most of the numbers are close to the avearage\n",
        "#A high standard deviation means that the numbers are more spread out\n",
        "#25% of data is below the mean\n",
        "#50% of data is below the mean\n",
        "#75% of data is below the mean\n",
        "Newdata10.describe()"
      ],
      "execution_count": 37,
      "outputs": [
        {
          "output_type": "execute_result",
          "data": {
            "text/html": [
              "<div>\n",
              "<style scoped>\n",
              "    .dataframe tbody tr th:only-of-type {\n",
              "        vertical-align: middle;\n",
              "    }\n",
              "\n",
              "    .dataframe tbody tr th {\n",
              "        vertical-align: top;\n",
              "    }\n",
              "\n",
              "    .dataframe thead th {\n",
              "        text-align: right;\n",
              "    }\n",
              "</style>\n",
              "<table border=\"1\" class=\"dataframe\">\n",
              "  <thead>\n",
              "    <tr style=\"text-align: right;\">\n",
              "      <th></th>\n",
              "      <th>Numbers1</th>\n",
              "      <th>Numbers2</th>\n",
              "      <th>Numbers3</th>\n",
              "      <th>Numbers4</th>\n",
              "      <th>Numbers5</th>\n",
              "      <th>Numbers6</th>\n",
              "    </tr>\n",
              "  </thead>\n",
              "  <tbody>\n",
              "    <tr>\n",
              "      <th>count</th>\n",
              "      <td>7.000000</td>\n",
              "      <td>7.000000</td>\n",
              "      <td>7.000000</td>\n",
              "      <td>7.000000</td>\n",
              "      <td>7.000000</td>\n",
              "      <td>7.000000</td>\n",
              "    </tr>\n",
              "    <tr>\n",
              "      <th>mean</th>\n",
              "      <td>3.038536</td>\n",
              "      <td>1.898052</td>\n",
              "      <td>2.817532</td>\n",
              "      <td>7.142857</td>\n",
              "      <td>27.857143</td>\n",
              "      <td>13.285714</td>\n",
              "    </tr>\n",
              "    <tr>\n",
              "      <th>std</th>\n",
              "      <td>2.857688</td>\n",
              "      <td>4.007936</td>\n",
              "      <td>3.160988</td>\n",
              "      <td>2.478479</td>\n",
              "      <td>37.462998</td>\n",
              "      <td>14.372593</td>\n",
              "    </tr>\n",
              "    <tr>\n",
              "      <th>min</th>\n",
              "      <td>-0.194478</td>\n",
              "      <td>-2.921498</td>\n",
              "      <td>-0.969344</td>\n",
              "      <td>5.000000</td>\n",
              "      <td>6.000000</td>\n",
              "      <td>6.000000</td>\n",
              "    </tr>\n",
              "    <tr>\n",
              "      <th>25%</th>\n",
              "      <td>0.852669</td>\n",
              "      <td>-1.350075</td>\n",
              "      <td>0.110016</td>\n",
              "      <td>6.000000</td>\n",
              "      <td>6.000000</td>\n",
              "      <td>6.000000</td>\n",
              "    </tr>\n",
              "    <tr>\n",
              "      <th>50%</th>\n",
              "      <td>1.758891</td>\n",
              "      <td>0.908011</td>\n",
              "      <td>2.472034</td>\n",
              "      <td>6.000000</td>\n",
              "      <td>6.000000</td>\n",
              "      <td>6.000000</td>\n",
              "    </tr>\n",
              "    <tr>\n",
              "      <th>75%</th>\n",
              "      <td>6.000000</td>\n",
              "      <td>6.000000</td>\n",
              "      <td>6.000000</td>\n",
              "      <td>7.500000</td>\n",
              "      <td>41.500000</td>\n",
              "      <td>12.000000</td>\n",
              "    </tr>\n",
              "    <tr>\n",
              "      <th>max</th>\n",
              "      <td>6.000000</td>\n",
              "      <td>6.000000</td>\n",
              "      <td>6.000000</td>\n",
              "      <td>12.000000</td>\n",
              "      <td>88.000000</td>\n",
              "      <td>45.000000</td>\n",
              "    </tr>\n",
              "  </tbody>\n",
              "</table>\n",
              "</div>"
            ],
            "text/plain": [
              "       Numbers1  Numbers2  Numbers3   Numbers4   Numbers5   Numbers6\n",
              "count  7.000000  7.000000  7.000000   7.000000   7.000000   7.000000\n",
              "mean   3.038536  1.898052  2.817532   7.142857  27.857143  13.285714\n",
              "std    2.857688  4.007936  3.160988   2.478479  37.462998  14.372593\n",
              "min   -0.194478 -2.921498 -0.969344   5.000000   6.000000   6.000000\n",
              "25%    0.852669 -1.350075  0.110016   6.000000   6.000000   6.000000\n",
              "50%    1.758891  0.908011  2.472034   6.000000   6.000000   6.000000\n",
              "75%    6.000000  6.000000  6.000000   7.500000  41.500000  12.000000\n",
              "max    6.000000  6.000000  6.000000  12.000000  88.000000  45.000000"
            ]
          },
          "metadata": {
            "tags": []
          },
          "execution_count": 37
        }
      ]
    },
    {
      "cell_type": "markdown",
      "metadata": {
        "id": "wrRqZWmV9PJM"
      },
      "source": [
        "'s': second\n",
        "\n",
        "'min': minute\n",
        "\n",
        "'H':hour\n",
        "\n",
        "'D':Day\n",
        "\n",
        "'w':week\n",
        "\n",
        "'m':month\n",
        "\n",
        "'A':End of Year\n",
        "\n",
        "'AS':Start of year\n"
      ]
    },
    {
      "cell_type": "code",
      "metadata": {
        "colab": {
          "base_uri": "https://localhost:8080/"
        },
        "id": "R-o0Wcav9kb0",
        "outputId": "89dfca3c-7f67-4c0e-8bef-304d008c492a"
      },
      "source": [
        "pd.date_range('6/24/2020', periods=8, freq='n')"
      ],
      "execution_count": 43,
      "outputs": [
        {
          "output_type": "execute_result",
          "data": {
            "text/plain": [
              "DatetimeIndex([          '2020-06-24 00:00:00',\n",
              "               '2020-06-24 00:00:00.000000001',\n",
              "               '2020-06-24 00:00:00.000000002',\n",
              "               '2020-06-24 00:00:00.000000003',\n",
              "               '2020-06-24 00:00:00.000000004',\n",
              "               '2020-06-24 00:00:00.000000005',\n",
              "               '2020-06-24 00:00:00.000000006',\n",
              "               '2020-06-24 00:00:00.000000007'],\n",
              "              dtype='datetime64[ns]', freq='N')"
            ]
          },
          "metadata": {
            "tags": []
          },
          "execution_count": 43
        }
      ]
    },
    {
      "cell_type": "code",
      "metadata": {
        "colab": {
          "base_uri": "https://localhost:8080/"
        },
        "id": "kr8evM4z-hsF",
        "outputId": "f909ff98-7bc3-4d5a-8987-b6e6652ea2b7"
      },
      "source": [
        "pd.date_range('6/24/2020', periods=8, freq='d')"
      ],
      "execution_count": 44,
      "outputs": [
        {
          "output_type": "execute_result",
          "data": {
            "text/plain": [
              "DatetimeIndex(['2020-06-24', '2020-06-25', '2020-06-26', '2020-06-27',\n",
              "               '2020-06-28', '2020-06-29', '2020-06-30', '2020-07-01'],\n",
              "              dtype='datetime64[ns]', freq='D')"
            ]
          },
          "metadata": {
            "tags": []
          },
          "execution_count": 44
        }
      ]
    },
    {
      "cell_type": "code",
      "metadata": {
        "colab": {
          "base_uri": "https://localhost:8080/"
        },
        "id": "cGI-tLze-mKj",
        "outputId": "f98692b8-aeb4-4b87-f729-910337e057d6"
      },
      "source": [
        "#This is for when you want to index time by year\n",
        "pd.date_range('6/24/2020', periods=8, freq=pd.DateOffset(years=1))"
      ],
      "execution_count": 45,
      "outputs": [
        {
          "output_type": "execute_result",
          "data": {
            "text/plain": [
              "DatetimeIndex(['2020-06-24', '2021-06-24', '2022-06-24', '2023-06-24',\n",
              "               '2024-06-24', '2025-06-24', '2026-06-24', '2027-06-24'],\n",
              "              dtype='datetime64[ns]', freq='<DateOffset: years=1>')"
            ]
          },
          "metadata": {
            "tags": []
          },
          "execution_count": 45
        }
      ]
    },
    {
      "cell_type": "code",
      "metadata": {
        "id": "ErKDP49A_Bps"
      },
      "source": [
        "#Lets use a dictionary to accomplish the same thing\n",
        "Cars = {'VW': 2011,\n",
        "        'Ford': 1993,\n",
        "        'Chevy': 2010,\n",
        "        'Dodge': 2002,}"
      ],
      "execution_count": 46,
      "outputs": []
    },
    {
      "cell_type": "code",
      "metadata": {
        "colab": {
          "base_uri": "https://localhost:8080/"
        },
        "id": "uilG2tpx_hZs",
        "outputId": "458e7850-6118-41d1-a9ce-85ea1d9fbaa1"
      },
      "source": [
        "Cars"
      ],
      "execution_count": 47,
      "outputs": [
        {
          "output_type": "execute_result",
          "data": {
            "text/plain": [
              "{'Chevy': 2010, 'Dodge': 2002, 'Ford': 1993, 'VW': 2011}"
            ]
          },
          "metadata": {
            "tags": []
          },
          "execution_count": 47
        }
      ]
    },
    {
      "cell_type": "code",
      "metadata": {
        "id": "HLMWt3n4_kXD"
      },
      "source": [
        "#So now lets turn this into an array dataframe\n",
        "Cars2=pd.Series(Cars)"
      ],
      "execution_count": 48,
      "outputs": []
    },
    {
      "cell_type": "code",
      "metadata": {
        "colab": {
          "base_uri": "https://localhost:8080/"
        },
        "id": "u8mq5x3c_uME",
        "outputId": "516ea76e-1d65-490b-c103-21ec4491b6ab"
      },
      "source": [
        "Cars2"
      ],
      "execution_count": 49,
      "outputs": [
        {
          "output_type": "execute_result",
          "data": {
            "text/plain": [
              "VW       2011\n",
              "Ford     1993\n",
              "Chevy    2010\n",
              "Dodge    2002\n",
              "dtype: int64"
            ]
          },
          "metadata": {
            "tags": []
          },
          "execution_count": 49
        }
      ]
    },
    {
      "cell_type": "code",
      "metadata": {
        "id": "OkGT4Mqd_wpy"
      },
      "source": [
        "Cars3 = pd.DataFrame({'Car Model':Cars2.index, 'Car Year': Cars2.values})"
      ],
      "execution_count": 50,
      "outputs": []
    },
    {
      "cell_type": "code",
      "metadata": {
        "colab": {
          "base_uri": "https://localhost:8080/",
          "height": 166
        },
        "id": "R2BNvYvpAE0T",
        "outputId": "99207234-9b9c-4b1f-e0bd-abac38090a76"
      },
      "source": [
        "Cars3"
      ],
      "execution_count": 51,
      "outputs": [
        {
          "output_type": "execute_result",
          "data": {
            "text/html": [
              "<div>\n",
              "<style scoped>\n",
              "    .dataframe tbody tr th:only-of-type {\n",
              "        vertical-align: middle;\n",
              "    }\n",
              "\n",
              "    .dataframe tbody tr th {\n",
              "        vertical-align: top;\n",
              "    }\n",
              "\n",
              "    .dataframe thead th {\n",
              "        text-align: right;\n",
              "    }\n",
              "</style>\n",
              "<table border=\"1\" class=\"dataframe\">\n",
              "  <thead>\n",
              "    <tr style=\"text-align: right;\">\n",
              "      <th></th>\n",
              "      <th>Car Model</th>\n",
              "      <th>Car Year</th>\n",
              "    </tr>\n",
              "  </thead>\n",
              "  <tbody>\n",
              "    <tr>\n",
              "      <th>0</th>\n",
              "      <td>VW</td>\n",
              "      <td>2011</td>\n",
              "    </tr>\n",
              "    <tr>\n",
              "      <th>1</th>\n",
              "      <td>Ford</td>\n",
              "      <td>1993</td>\n",
              "    </tr>\n",
              "    <tr>\n",
              "      <th>2</th>\n",
              "      <td>Chevy</td>\n",
              "      <td>2010</td>\n",
              "    </tr>\n",
              "    <tr>\n",
              "      <th>3</th>\n",
              "      <td>Dodge</td>\n",
              "      <td>2002</td>\n",
              "    </tr>\n",
              "  </tbody>\n",
              "</table>\n",
              "</div>"
            ],
            "text/plain": [
              "  Car Model  Car Year\n",
              "0        VW      2011\n",
              "1      Ford      1993\n",
              "2     Chevy      2010\n",
              "3     Dodge      2002"
            ]
          },
          "metadata": {
            "tags": []
          },
          "execution_count": 51
        }
      ]
    }
  ]
}