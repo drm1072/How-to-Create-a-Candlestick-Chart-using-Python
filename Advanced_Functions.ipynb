{
  "nbformat": 4,
  "nbformat_minor": 0,
  "metadata": {
    "colab": {
      "name": "Advanced Functions.ipynb",
      "provenance": [],
      "collapsed_sections": [],
      "authorship_tag": "ABX9TyPK0SUSraxmT8oev8vr0r97",
      "include_colab_link": true
    },
    "kernelspec": {
      "name": "python3",
      "display_name": "Python 3"
    },
    "language_info": {
      "name": "python"
    }
  },
  "cells": [
    {
      "cell_type": "markdown",
      "metadata": {
        "id": "view-in-github",
        "colab_type": "text"
      },
      "source": [
        "<a href=\"https://colab.research.google.com/github/drm1072/How-to-Create-a-Candlestick-Chart-using-Python/blob/main/Advanced_Functions.ipynb\" target=\"_parent\"><img src=\"https://colab.research.google.com/assets/colab-badge.svg\" alt=\"Open In Colab\"/></a>"
      ]
    },
    {
      "cell_type": "code",
      "metadata": {
        "colab": {
          "base_uri": "https://localhost:8080/"
        },
        "id": "EtaOOSzNWpOH",
        "outputId": "36cf68a9-f517-4e5d-eabd-13c9835a54a0"
      },
      "source": [
        "#Let's start by printing a universal and classic message.\n",
        "#The print function with () and parenthesis inside prints whatever we have inside\n",
        "\n",
        "print(\"Hello, world, this is Dadrian!\")"
      ],
      "execution_count": null,
      "outputs": [
        {
          "output_type": "stream",
          "text": [
            "Hello, world, this is Dadrian!\n"
          ],
          "name": "stdout"
        }
      ]
    },
    {
      "cell_type": "code",
      "metadata": {
        "colab": {
          "base_uri": "https://localhost:8080/"
        },
        "id": "kaL0kKlEa57e",
        "outputId": "d89d9bb2-cfba-4076-f765-901319a9b1bc"
      },
      "source": [
        "#Now when we use Integers or whole numbers we don't need \"\" marks\n",
        "#Same thing with Floats or numbers with decimals\n",
        "print(21)\n",
        "print(21.12)"
      ],
      "execution_count": null,
      "outputs": [
        {
          "output_type": "stream",
          "text": [
            "21\n",
            "21.12\n"
          ],
          "name": "stdout"
        }
      ]
    },
    {
      "cell_type": "code",
      "metadata": {
        "id": "b5T9RO6HbOOC"
      },
      "source": [
        "#The def keyword signifies that a function is about to be defined.\n",
        "#Next is the function name (in this case my function name is Hats)\n",
        "#Next is what is called a \"Parameter\" within ( ) this could be none or how many you input (in this case I only have number_of_hats)\n",
        "#Now the : tell the Python interpreter that you're about to provide the line(s) of code making up the main body of the function.\n",
        "#Return button ends the statement\n",
        "#Next is the function's parameter list, whick are the parameters the function will pass inside the function when the function is ran\n",
        "#In our example our body is just one line of code: return number_of_shirts * 4\n",
        "#I chose three because I have 4 different shirts\n",
        "def shoes(number_of_shirts):\n",
        "  return number_of_shirts * 4"
      ],
      "execution_count": null,
      "outputs": []
    },
    {
      "cell_type": "code",
      "metadata": {
        "colab": {
          "base_uri": "https://localhost:8080/"
        },
        "id": "j75O48QBdQ8P",
        "outputId": "e54c93a1-c957-46c2-9634-43c257f018c3"
      },
      "source": [
        "#now plug in a number() that represents number of people in your household\n",
        "shoes(8)"
      ],
      "execution_count": null,
      "outputs": [
        {
          "output_type": "execute_result",
          "data": {
            "text/plain": [
              "32"
            ]
          },
          "metadata": {
            "tags": []
          },
          "execution_count": 4
        }
      ]
    },
    {
      "cell_type": "code",
      "metadata": {
        "colab": {
          "base_uri": "https://localhost:8080/"
        },
        "id": "xUZCVCGsd14m",
        "outputId": "badabb99-c69f-47ba-f22a-54ba79bfc0f4"
      },
      "source": [
        "shoes"
      ],
      "execution_count": null,
      "outputs": [
        {
          "output_type": "execute_result",
          "data": {
            "text/plain": [
              "<function __main__.shoes>"
            ]
          },
          "metadata": {
            "tags": []
          },
          "execution_count": 5
        }
      ]
    },
    {
      "cell_type": "code",
      "metadata": {
        "id": "2rhEqZcceNlu"
      },
      "source": [
        "#Now lets put into a variable\n",
        "Familyshoes = shoes(15)"
      ],
      "execution_count": null,
      "outputs": []
    },
    {
      "cell_type": "code",
      "metadata": {
        "colab": {
          "base_uri": "https://localhost:8080/"
        },
        "id": "5VHUp_MIeZgp",
        "outputId": "01d2288b-cfb9-4bf6-8e0e-283c43804741"
      },
      "source": [
        "print(Familyshoes)"
      ],
      "execution_count": null,
      "outputs": [
        {
          "output_type": "stream",
          "text": [
            "60\n"
          ],
          "name": "stdout"
        }
      ]
    },
    {
      "cell_type": "code",
      "metadata": {
        "id": "lFBcbbtEed0m"
      },
      "source": [
        "#Ask the user for input and store the result in a variable.\n",
        "#Variable = cigar_count\n",
        "#int = equals whole number value we accept\n",
        "cigar_count = int(input(\"How many cigars are in the box\"))\n",
        "#input code tell us we need a number to move forward\n",
        "#format is commonly used to organize code strings (aka characters that can be numerical or text)\n",
        "print(\"There are {50} cigars in the box.\".format(cigar_count))\n",
        "\n",
        "#if answer is yes we ask another question\n",
        "if input(\"Would you like to buy any?\") == \"yes\":\n",
        "  removed_cigars = int(input(\"Ok, how many?\")) #if answer is yes\n",
        "  cigar_count = cigar_count - removed_cigars\n",
        "  print(\"There are now {} cigars in the box and thanks for shopping with us!\".format(cigar_count))\n",
        "else:\n",
        "  print(\"Ok, thanks for considering shopping with us.\".format(cigar_count))  "
      ],
      "execution_count": null,
      "outputs": []
    },
    {
      "cell_type": "code",
      "metadata": {
        "id": "O3bd2Os-hfkN"
      },
      "source": [
        "my_name = \"Dadrian\"\n",
        "\n",
        "greeting = 'Welcome'\n",
        "\n",
        "def say_hello(Dadrian):\n",
        "  if name == \"\":\n",
        "    print(\"You can't introduce yourself if you don't add your name!\")\n",
        "  else:\n",
        "    print(greeting +\" \"+ name)\n",
        "\n",
        "#Click the \"play\" button to execute this code.\n",
        "say_hello(Dadrian)\n"
      ],
      "execution_count": null,
      "outputs": []
    },
    {
      "cell_type": "code",
      "metadata": {
        "id": "KssjoJh8iVMV"
      },
      "source": [
        "My_Age = 39"
      ],
      "execution_count": null,
      "outputs": []
    },
    {
      "cell_type": "code",
      "metadata": {
        "id": "xfqpas_biala"
      },
      "source": [
        "def grant_access (Age):\n",
        "  if Age >21:\n",
        "    print(\"Access Submitted\")\n",
        "    else:\n",
        "    print(\"Access Denied\")  "
      ],
      "execution_count": null,
      "outputs": []
    },
    {
      "cell_type": "code",
      "metadata": {
        "id": "ynRSJ2c5ivG8"
      },
      "source": [
        "#We can \"concatenate\" strings or \"add\" them together\n",
        "full_name = my_ name + ' '+ 'R' + ' ' + 'Morgan'\n",
        "print(full_name)"
      ],
      "execution_count": null,
      "outputs": []
    },
    {
      "cell_type": "code",
      "metadata": {
        "id": "4A6CxcqhjcvM"
      },
      "source": [
        "#We can make a string all lower case or upper case\n",
        "print(my_name.lower(), my_name.upper())"
      ],
      "execution_count": null,
      "outputs": []
    },
    {
      "cell_type": "code",
      "metadata": {
        "id": "IRGv5Abfjww0"
      },
      "source": [
        "#We can split strings on certain characters\n",
        "full_name.split()"
      ],
      "execution_count": null,
      "outputs": []
    },
    {
      "cell_type": "code",
      "metadata": {
        "id": "6L3o_rpuj9PV"
      },
      "source": [
        "#Or replace specific characters\n",
        "#By default all instances are replaced, I just want the first replaced so I add 1\n",
        "full_name.replace('a', 'e')"
      ],
      "execution_count": null,
      "outputs": []
    },
    {
      "cell_type": "markdown",
      "metadata": {
        "id": "A8_f3DNXkbcc"
      },
      "source": [
        "**Numeric-Specific Functions**\n",
        "\n",
        "\n",
        "*   If we have a number value, there are other specific functions that we can use to manipulate it.\n",
        "*   We'll take a look at some mathematical operators below.\n",
        "\n",
        "\n",
        "*   For a more comprehensive list, check out this reference.\n",
        "\n",
        "\n",
        "\n",
        "\n"
      ]
    },
    {
      "cell_type": "code",
      "metadata": {
        "id": "7Xzj6TNmlEzV"
      },
      "source": [
        "#compound operators\n",
        "#update variable state\n",
        "\n",
        "original = 5\n",
        "original += 3\n",
        "\n",
        "print(original)"
      ],
      "execution_count": null,
      "outputs": []
    },
    {
      "cell_type": "code",
      "metadata": {
        "id": "RwGnWkC_lRL1"
      },
      "source": [
        "original *=2\n",
        "print(original)"
      ],
      "execution_count": null,
      "outputs": []
    },
    {
      "cell_type": "code",
      "metadata": {
        "id": "EsvyEg2Clm4a"
      },
      "source": [
        "original /=4\n",
        "print(original)"
      ],
      "execution_count": null,
      "outputs": []
    },
    {
      "cell_type": "markdown",
      "metadata": {
        "id": "LuNV_1dqmCn0"
      },
      "source": [
        "**Functions:**\n",
        "\n",
        "\n",
        "\n",
        "*   Functions are going to be an integral part of your workflow as a Python programmer.\n",
        "*   Functions let you write a block of organized, reusable code that is used to perform a single, related action.\n",
        "\n",
        "*  You define that behavior once and you can run and re-run your set of instructions whenever and as many times as you need.\n",
        "\n",
        "\n",
        "\n"
      ]
    },
    {
      "cell_type": "code",
      "metadata": {
        "id": "jl91Khrgmzwt"
      },
      "source": [
        "#Defining our function\n",
        "#Functions can be used in an assortment of things\n",
        "#Games, Websites, Apps\n",
        "#Used mostly for jobs that require Python programming\n",
        "#The Average Data Scientist would be manipulating Data and Machine learning and not Python Programming\n",
        "def hello(Dadrian):\n",
        "  print(\"Hello\" + Dadrian)"
      ],
      "execution_count": null,
      "outputs": []
    },
    {
      "cell_type": "markdown",
      "metadata": {
        "id": "jckJ-ifqngq4"
      },
      "source": [
        "**A function describes a repeatable process or behavior.**\n",
        "\n",
        "The def keyword signifies that a function is about to be defined.\n",
        "\n",
        "The function name is always after def; in this case, the name of the function is \"hello\".\n",
        "\n",
        "Inside () parenthesis, these are called parameters or arguments.  The information inside here is only relevant to you.\n",
        "\n",
        "It could be anything for this example we use \"name\" (This should be related to the output). This could even be blank.  So lets say we are creating an email sign up on our website. Everytime someone signs up with their name it would say hello + their name.\n",
        "\n",
        "Semicolon \":\" (Think of the semicolon as the word with) Tells the Python interpreter that you're about to provide the line(s) of code making up the main body of the function.  In our example our body is just one line of code \"print(\"Hello\" + name)\n",
        "\n",
        "Remember it must be indented\n",
        "\n",
        "Now Run Ii!"
      ]
    },
    {
      "cell_type": "code",
      "metadata": {
        "id": "J9WpxqdAs4_1"
      },
      "source": [
        "#.\"Calling\" or executing our function\n",
        "hello(name = 'Morgan')"
      ],
      "execution_count": null,
      "outputs": []
    },
    {
      "cell_type": "markdown",
      "metadata": {
        "id": "LsSx1M7dtHGd"
      },
      "source": [
        "When you run it, it appears that nothing happens.  Thats because the function is being defined, until we 'call the function'\n",
        "\n",
        "A function is a block of code which only runs when it is called.\n",
        "\n",
        "You can pass data, known as parmeters into a function.\n",
        "\n",
        "A function can retun data as a result."
      ]
    },
    {
      "cell_type": "code",
      "metadata": {
        "id": "3L_Rvw-1tk07"
      },
      "source": [
        "def my_function():\n",
        "  print (\"Hello from a function\")"
      ],
      "execution_count": null,
      "outputs": []
    },
    {
      "cell_type": "markdown",
      "metadata": {
        "id": "QpN1YJfttyFc"
      },
      "source": [
        "With this example because we don't have a value in the parenthesis aka parameter'()'. Which has to be defined by an input. Since we have nothing that needs to be defined it just prints the value we give it."
      ]
    },
    {
      "cell_type": "code",
      "metadata": {
        "id": "aiUiMYZPuNz8"
      },
      "source": [
        "# Using variables as parameters instead of numbers\n",
        "Career = 'Data Scientist'\n",
        "hello(name= Career)"
      ],
      "execution_count": null,
      "outputs": []
    },
    {
      "cell_type": "markdown",
      "metadata": {
        "id": "F0Gx3736ul1j"
      },
      "source": [
        "**We have been using the print code**\n",
        "\n",
        "\n",
        "*   The **print** code just shows us what is happening inside the function\n",
        "\n",
        "**The other code is return**\n",
        "\n",
        "\n",
        "\n",
        "*   The **return** code is returns a value from a function\n",
        "\n",
        "*   All functions will return a value, and if there is no return statement it will return home.\n",
        "\n",
        "*   The value returned by a function can be used in the future can be used in another function and a stored variable.\n",
        "\n",
        "\n",
        "\n",
        "\n",
        "\n",
        "\n",
        "\n",
        "\n"
      ]
    },
    {
      "cell_type": "code",
      "metadata": {
        "id": "aT_d0TVnvg5E"
      },
      "source": [
        "#Lets see the difference between 'print' and 'return'\n",
        "def function_example():\n",
        "  print (\"I am wealthy\") #A print function must be immutable with ()"
      ],
      "execution_count": null,
      "outputs": []
    },
    {
      "cell_type": "code",
      "metadata": {
        "id": "Qr3m82a7wsZk"
      },
      "source": [
        "def function_examplereturn():\n",
        "  return \"I am Wealthy\""
      ],
      "execution_count": null,
      "outputs": []
    },
    {
      "cell_type": "code",
      "metadata": {
        "id": "cLZoI3OGw5NN"
      },
      "source": [
        "#Nothing happened when we ran the print function by itself\n",
        "#It only works when we add the print function with it\n",
        "print_function"
      ],
      "execution_count": null,
      "outputs": []
    },
    {
      "cell_type": "code",
      "metadata": {
        "id": "48IeYjN5xFQj"
      },
      "source": [
        "#It only works when we add the print function with it\n",
        "print_function=function_exampleprint()"
      ],
      "execution_count": null,
      "outputs": []
    },
    {
      "cell_type": "code",
      "metadata": {
        "id": "s2wRwCHKxOm0"
      },
      "source": [
        "return_function=function_examplereturn()"
      ],
      "execution_count": null,
      "outputs": []
    },
    {
      "cell_type": "code",
      "metadata": {
        "id": "hHasr0xQxW3L"
      },
      "source": [
        "#When we run return_function we get a value\n",
        "return_function"
      ],
      "execution_count": null,
      "outputs": []
    },
    {
      "cell_type": "code",
      "metadata": {
        "id": "H4AFCDi2xdVb"
      },
      "source": [
        "print(print_function) #print function will give us none because the function is to print\n",
        "print(return_function)"
      ],
      "execution_count": null,
      "outputs": []
    },
    {
      "cell_type": "code",
      "metadata": {
        "id": "E3oxxAAzxous"
      },
      "source": [
        "def Shoes(Jordans): #Shoes is the name of function/ Jordans is the parameter\n",
        "  Number_of_Shoes = int(Jordans + 3) #The variable is number of shoes/ I just added a random number because I have 2 feet\n",
        "  return Number_of_Shoes"
      ],
      "execution_count": null,
      "outputs": []
    },
    {
      "cell_type": "code",
      "metadata": {
        "id": "pIB2xeusykz9"
      },
      "source": [
        "#Printing resulting values\n",
        "#Insert number of Jordans or Nikes you owned in your life\n",
        "print(Shoes(7))"
      ],
      "execution_count": null,
      "outputs": []
    },
    {
      "cell_type": "code",
      "metadata": {
        "id": "1qKMYwRkywKL"
      },
      "source": [
        "#Lets create a new variable\n",
        "#I just added a random numbe 17 just for perspective of working with numbers, math, and functions.\n",
        "NonJordan_Shoes=Shoes(17)"
      ],
      "execution_count": null,
      "outputs": []
    },
    {
      "cell_type": "code",
      "metadata": {
        "id": "HvaG_q-uzIgs"
      },
      "source": [
        "NonJordan_Shoes"
      ],
      "execution_count": null,
      "outputs": []
    },
    {
      "cell_type": "code",
      "metadata": {
        "id": "MvBcqpsezbnV"
      },
      "source": [
        "Jordan_Shoes = Shoes(87)"
      ],
      "execution_count": null,
      "outputs": []
    },
    {
      "cell_type": "code",
      "metadata": {
        "id": "q_E9U8oGzhn6"
      },
      "source": [
        "All_Shoes = NonJordan_Shoes - Jordan_Shoes\n",
        "print(All_Shoes)"
      ],
      "execution_count": null,
      "outputs": []
    }
  ]
}